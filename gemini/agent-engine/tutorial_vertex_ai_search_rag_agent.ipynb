{
  "cells": [
    {
      "cell_type": "code",
      "execution_count": null,
      "metadata": {
        "id": "ijGzTHJJUCPY"
      },
      "outputs": [],
      "source": [
        "# Copyright 2024 Google LLC\n",
        "#\n",
        "# Licensed under the Apache License, Version 2.0 (the \"License\");\n",
        "# you may not use this file except in compliance with the License.\n",
        "# You may obtain a copy of the License at\n",
        "#\n",
        "#     https://www.apache.org/licenses/LICENSE-2.0\n",
        "#\n",
        "# Unless required by applicable law or agreed to in writing, software\n",
        "# distributed under the License is distributed on an \"AS IS\" BASIS,\n",
        "# WITHOUT WARRANTIES OR CONDITIONS OF ANY KIND, either express or implied.\n",
        "# See the License for the specific language governing permissions and\n",
        "# limitations under the License."
      ]
    },
    {
      "cell_type": "markdown",
      "metadata": {
        "id": "VEqbX8OhE8y9"
      },
      "source": [
        "# Building a Conversational Search Agent with Agent Engine and RAG on Vertex AI Search\n",
        "\n",
        "<table align=\"left\">\n",
        "  <td style=\"text-align: center\">\n",
        "    <a href=\"https://colab.research.google.com/github/GoogleCloudPlatform/generative-ai/blob/main/gemini/agent-engine/tutorial_vertex_ai_search_rag_agent.ipynb\">\n",
        "      <img width=\"32px\" src=\"https://www.gstatic.com/pantheon/images/bigquery/welcome_page/colab-logo.svg\" alt=\"Google Colaboratory logo\"><br> Run in Colab\n",
        "    </a>\n",
        "  </td>\n",
        "  <td style=\"text-align: center\">\n",
        "    <a href=\"https://console.cloud.google.com/vertex-ai/colab/import/https:%2F%2Fraw.githubusercontent.com%2FGoogleCloudPlatform%2Fgenerative-ai%2Fmain%2Fgemini%2Fagent-engine%2Ftutorial_vertex_ai_search_rag_agent.ipynb\">\n",
        "      <img width=\"32px\" src=\"https://lh3.googleusercontent.com/JmcxdQi-qOpctIvWKgPtrzZdJJK-J3sWE1RsfjZNwshCFgE_9fULcNpuXYTilIR2hjwN\" alt=\"Google Cloud Colab Enterprise logo\"><br> Run in Colab Enterprise\n",
        "    </a>\n",
        "  </td>      \n",
        "  <td style=\"text-align: center\">\n",
        "    <a href=\"https://github.com/GoogleCloudPlatform/generative-ai/blob/main/gemini/agent-engine/tutorial_vertex_ai_search_rag_agent.ipynb\">\n",
        "      <img width=\"32px\" src=\"https://www.svgrepo.com/download/217753/github.svg\" alt=\"GitHub logo\"><br> View on GitHub\n",
        "    </a>\n",
        "  </td>\n",
        "  <td style=\"text-align: center\">\n",
        "    <a href=\"https://console.cloud.google.com/vertex-ai/workbench/deploy-notebook?download_url=https://raw.githubusercontent.com/GoogleCloudPlatform/generative-ai/main/gemini/agent-engine/tutorial_vertex_ai_search_rag_agent.ipynb\">\n",
        "      <img src=\"https://lh3.googleusercontent.com/UiNooY4LUgW_oTvpsNhPpQzsstV5W8F7rYgxgGBD85cWJoLmrOzhVs_ksK_vgx40SHs7jCqkTkCk=e14-rj-sc0xffffff-h130-w32\" alt=\"Vertex AI logo\"><br> Open in Vertex AI Workbench\n",
        "    </a>\n",
        "  </td>\n",
        "</table>\n",
        "\n",
        "<div style=\"clear: both;\"></div>\n",
        "\n",
        "<b>Share to:</b>\n",
        "\n",
        "<a href=\"https://www.linkedin.com/sharing/share-offsite/?url=https%3A//github.com/GoogleCloudPlatform/generative-ai/blob/main/gemini/agent-engine/tutorial_vertex_ai_search_rag_agent.ipynb\" target=\"_blank\">\n",
        "  <img width=\"20px\" src=\"https://upload.wikimedia.org/wikipedia/commons/8/81/LinkedIn_icon.svg\" alt=\"LinkedIn logo\">\n",
        "</a>\n",
        "\n",
        "<a href=\"https://bsky.app/intent/compose?text=https%3A//github.com/GoogleCloudPlatform/generative-ai/blob/main/gemini/agent-engine/tutorial_vertex_ai_search_rag_agent.ipynb\" target=\"_blank\">\n",
        "  <img width=\"20px\" src=\"https://upload.wikimedia.org/wikipedia/commons/7/7a/Bluesky_Logo.svg\" alt=\"Bluesky logo\">\n",
        "</a>\n",
        "\n",
        "<a href=\"https://twitter.com/intent/tweet?url=https%3A//github.com/GoogleCloudPlatform/generative-ai/blob/main/gemini/agent-engine/tutorial_vertex_ai_search_rag_agent.ipynb\" target=\"_blank\">\n",
        "  <img width=\"20px\" src=\"https://upload.wikimedia.org/wikipedia/commons/5/5a/X_icon_2.svg\" alt=\"X logo\">\n",
        "</a>\n",
        "\n",
        "<a href=\"https://reddit.com/submit?url=https%3A//github.com/GoogleCloudPlatform/generative-ai/blob/main/gemini/agent-engine/tutorial_vertex_ai_search_rag_agent.ipynb\" target=\"_blank\">\n",
        "  <img width=\"20px\" src=\"https://redditinc.com/hubfs/Reddit%20Inc/Brand/Reddit_Logo.png\" alt=\"Reddit logo\">\n",
        "</a>\n",
        "\n",
        "<a href=\"https://www.facebook.com/sharer/sharer.php?u=https%3A//github.com/GoogleCloudPlatform/generative-ai/blob/main/gemini/agent-engine/tutorial_vertex_ai_search_rag_agent.ipynb\" target=\"_blank\">\n",
        "  <img width=\"20px\" src=\"https://upload.wikimedia.org/wikipedia/commons/5/51/Facebook_f_logo_%282019%29.svg\" alt=\"Facebook logo\">\n",
        "</a>            \n"
      ]
    },
    {
      "cell_type": "markdown",
      "metadata": {
        "id": "84e7e432e6ff"
      },
      "source": [
        "| | |\n",
        "|-|-|\n",
        "|Author(s) | [Kristopher Overholt](https://github.com/koverholt) |"
      ]
    },
    {
      "cell_type": "markdown",
      "metadata": {
        "id": "CkHPv2myT2cx"
      },
      "source": [
        "## Overview\n",
        "\n",
        "### Agent Engine in Vertex AI\n",
        "\n",
        "[Agent Engine](https://cloud.google.com/vertex-ai/generative-ai/docs/agent-engine/overview) is a managed service in Vertex AI that helps you to build and deploy agent frameworks. It gives you the flexibility to choose how much reasoning you want to delegate to the LLM and how much you want to handle with customized code. You can define Python functions that get used as tools via [Gemini Function Calling](https://cloud.google.com/vertex-ai/generative-ai/docs/multimodal/function-calling). Agent Engine integrates closely with the Python SDK for the Gemini model in Vertex AI, and it can manage prompts, agents, and examples in a modular way. Agent Engine is compatible with LangChain, LlamaIndex, or other Python frameworks."
      ]
    },
    {
      "cell_type": "markdown",
      "metadata": {
        "id": "DrkcqHrrwMAo"
      },
      "source": [
        "### Objectives\n",
        "\n",
        "In this tutorial, you will build and deploy an agent (model, tools, and reasoning) using the Vertex AI SDK for Python.\n",
        "\n",
        "Your agent will use [LangChain](https://python.langchain.com/docs/get_started/introduction) and [Vertex AI Search](https://cloud.google.com/generative-ai-app-builder/docs/enterprise-search-introduction) to retrieve structured data indexed from the [Movies Dataset on Kaggle](https://www.kaggle.com/datasets/rounakbanik/the-movies-dataset?select=movies_metadata.csv) using retrieval augmented generation (RAG).\n",
        "\n",
        "- Install the Vertex AI SDK for Python\n",
        "- Define a model for your agent\n",
        "- Define Python functions as tools so that our agent can:\n",
        "   - Search and retrieve movie information from Vertex AI Search\n",
        "- Use the LangChain agent template provided in the Vertex AI SDK for Agent Engine\n",
        "- Test your agent locally before deploying\n",
        "- Deploy and test your agent on Agent Engine in Vertex AI"
      ]
    },
    {
      "cell_type": "markdown",
      "metadata": {
        "id": "C9nEPojogw-g"
      },
      "source": [
        "### Enable APIs and Services\n",
        "\n",
        "This tutorial uses the following billable components of Google Cloud, which you'll need to enable for this tutorial:\n",
        "\n",
        "- [Enable Vertex AI API](https://console.cloud.google.com/apis/api/aiplatform.googleapis.com/overview)\n",
        "- [Enable Vertex AI Search API](https://console.cloud.google.com/apis/api/discoveryengine.googleapis.com/overview)\n",
        "- [Enable Resource Manager API](https://console.cloud.google.com/apis/api/cloudresourcemanager.googleapis.com/overview)\n",
        "\n",
        "Learn about [Vertex AI pricing](https://cloud.google.com/vertex-ai/pricing) and use the [Pricing Calculator](https://cloud.google.com/products/calculator/) to generate a cost estimate based on your projected usage."
      ]
    },
    {
      "cell_type": "markdown",
      "metadata": {
        "id": "r11Gu7qNgx1p"
      },
      "source": [
        "## Getting Started\n"
      ]
    },
    {
      "cell_type": "markdown",
      "metadata": {
        "id": "No17Cw5hgx12"
      },
      "source": [
        "### Install Vertex AI SDK for Python\n",
        "\n",
        "Install the latest version of the Vertex AI SDK for Python and extra dependencies related to Agent Engine, LangChain, and Vertex AI Search:"
      ]
    },
    {
      "cell_type": "code",
      "execution_count": 1,
      "metadata": {
        "id": "tFy3H3aPgx12",
        "outputId": "663a6063-f893-4203-8f6f-072a68b92a55",
        "colab": {
          "base_uri": "https://localhost:8080/"
        }
      },
      "outputs": [
        {
          "output_type": "stream",
          "name": "stdout",
          "text": [
            "\u001b[2K     \u001b[90m━━━━━━━━━━━━━━━━━━━━━━━━━━━━━━━━━━━━━━━━\u001b[0m \u001b[32m68.4/68.4 kB\u001b[0m \u001b[31m1.8 MB/s\u001b[0m eta \u001b[36m0:00:00\u001b[0m\n",
            "\u001b[2K     \u001b[90m━━━━━━━━━━━━━━━━━━━━━━━━━━━━━━━━━━━━━━━━\u001b[0m \u001b[32m40.1/40.1 kB\u001b[0m \u001b[31m1.5 MB/s\u001b[0m eta \u001b[36m0:00:00\u001b[0m\n",
            "\u001b[2K     \u001b[90m━━━━━━━━━━━━━━━━━━━━━━━━━━━━━━━━━━━━━━━━\u001b[0m \u001b[32m43.7/43.7 kB\u001b[0m \u001b[31m2.7 MB/s\u001b[0m eta \u001b[36m0:00:00\u001b[0m\n",
            "\u001b[2K   \u001b[90m━━━━━━━━━━━━━━━━━━━━━━━━━━━━━━━━━━━━━━━━\u001b[0m \u001b[32m444.9/444.9 kB\u001b[0m \u001b[31m9.8 MB/s\u001b[0m eta \u001b[36m0:00:00\u001b[0m\n",
            "\u001b[2K   \u001b[90m━━━━━━━━━━━━━━━━━━━━━━━━━━━━━━━━━━━━━━━━\u001b[0m \u001b[32m99.8/99.8 kB\u001b[0m \u001b[31m3.8 MB/s\u001b[0m eta \u001b[36m0:00:00\u001b[0m\n",
            "\u001b[2K   \u001b[90m━━━━━━━━━━━━━━━━━━━━━━━━━━━━━━━━━━━━━━━━\u001b[0m \u001b[32m3.3/3.3 MB\u001b[0m \u001b[31m24.1 MB/s\u001b[0m eta \u001b[36m0:00:00\u001b[0m\n",
            "\u001b[2K   \u001b[90m━━━━━━━━━━━━━━━━━━━━━━━━━━━━━━━━━━━━━━━━\u001b[0m \u001b[32m2.5/2.5 MB\u001b[0m \u001b[31m31.8 MB/s\u001b[0m eta \u001b[36m0:00:00\u001b[0m\n",
            "\u001b[2K   \u001b[90m━━━━━━━━━━━━━━━━━━━━━━━━━━━━━━━━━━━━━━━━\u001b[0m \u001b[32m104.4/104.4 kB\u001b[0m \u001b[31m6.3 MB/s\u001b[0m eta \u001b[36m0:00:00\u001b[0m\n",
            "\u001b[2K   \u001b[90m━━━━━━━━━━━━━━━━━━━━━━━━━━━━━━━━━━━━━━━━\u001b[0m \u001b[32m8.0/8.0 MB\u001b[0m \u001b[31m36.3 MB/s\u001b[0m eta \u001b[36m0:00:00\u001b[0m\n",
            "\u001b[2K   \u001b[90m━━━━━━━━━━━━━━━━━━━━━━━━━━━━━━━━━━━━━━━━\u001b[0m \u001b[32m447.5/447.5 kB\u001b[0m \u001b[31m15.3 MB/s\u001b[0m eta \u001b[36m0:00:00\u001b[0m\n",
            "\u001b[2K   \u001b[90m━━━━━━━━━━━━━━━━━━━━━━━━━━━━━━━━━━━━━━━━\u001b[0m \u001b[32m148.2/148.2 kB\u001b[0m \u001b[31m7.9 MB/s\u001b[0m eta \u001b[36m0:00:00\u001b[0m\n",
            "\u001b[2K   \u001b[90m━━━━━━━━━━━━━━━━━━━━━━━━━━━━━━━━━━━━━━━━\u001b[0m \u001b[32m43.9/43.9 kB\u001b[0m \u001b[31m1.8 MB/s\u001b[0m eta \u001b[36m0:00:00\u001b[0m\n",
            "\u001b[2K   \u001b[90m━━━━━━━━━━━━━━━━━━━━━━━━━━━━━━━━━━━━━━━━\u001b[0m \u001b[32m50.3/50.3 kB\u001b[0m \u001b[31m2.9 MB/s\u001b[0m eta \u001b[36m0:00:00\u001b[0m\n",
            "\u001b[2K   \u001b[90m━━━━━━━━━━━━━━━━━━━━━━━━━━━━━━━━━━━━━━━━\u001b[0m \u001b[32m42.8/42.8 MB\u001b[0m \u001b[31m13.4 MB/s\u001b[0m eta \u001b[36m0:00:00\u001b[0m\n",
            "\u001b[2K   \u001b[90m━━━━━━━━━━━━━━━━━━━━━━━━━━━━━━━━━━━━━━━━\u001b[0m \u001b[32m64.7/64.7 kB\u001b[0m \u001b[31m2.3 MB/s\u001b[0m eta \u001b[36m0:00:00\u001b[0m\n",
            "\u001b[2K   \u001b[90m━━━━━━━━━━━━━━━━━━━━━━━━━━━━━━━━━━━━━━━━\u001b[0m \u001b[32m44.7/44.7 kB\u001b[0m \u001b[31m2.8 MB/s\u001b[0m eta \u001b[36m0:00:00\u001b[0m\n",
            "\u001b[2K   \u001b[90m━━━━━━━━━━━━━━━━━━━━━━━━━━━━━━━━━━━━━━━━\u001b[0m \u001b[32m50.9/50.9 kB\u001b[0m \u001b[31m2.6 MB/s\u001b[0m eta \u001b[36m0:00:00\u001b[0m\n",
            "\u001b[2K   \u001b[90m━━━━━━━━━━━━━━━━━━━━━━━━━━━━━━━━━━━━━━━━\u001b[0m \u001b[32m216.7/216.7 kB\u001b[0m \u001b[31m11.1 MB/s\u001b[0m eta \u001b[36m0:00:00\u001b[0m\n",
            "\u001b[?25h\u001b[31mERROR: pip's dependency resolver does not currently take into account all the packages that are installed. This behaviour is the source of the following dependency conflicts.\n",
            "google-colab 1.0.0 requires requests==2.32.4, but you have requests 2.32.5 which is incompatible.\n",
            "cudf-cu12 25.6.0 requires pyarrow<20.0.0a0,>=14.0.0; platform_machine == \"x86_64\", but you have pyarrow 21.0.0 which is incompatible.\n",
            "pylibcudf-cu12 25.6.0 requires pyarrow<20.0.0a0,>=14.0.0; platform_machine == \"x86_64\", but you have pyarrow 21.0.0 which is incompatible.\u001b[0m\u001b[31m\n",
            "\u001b[0m"
          ]
        }
      ],
      "source": [
        "%pip install --upgrade --quiet \\\n",
        "    \"google-cloud-aiplatform[agent_engines,langchain]\" \\\n",
        "    cloudpickle==3.0.0 \\\n",
        "    \"pydantic>=2.10\" \\\n",
        "    langchain-google-community \\\n",
        "    google-cloud-discoveryengine \\\n",
        "    google-api-python-client"
      ]
    },
    {
      "cell_type": "markdown",
      "metadata": {
        "id": "R5Xep4W9lq-Z"
      },
      "source": [
        "### Restart current runtime\n",
        "\n",
        "To use the newly installed packages in this Jupyter runtime, you must restart the runtime. You can do this by running the cell below, which will restart the current kernel."
      ]
    },
    {
      "cell_type": "code",
      "execution_count": 2,
      "metadata": {
        "id": "XRvKdaPDTznN",
        "outputId": "7b89980a-26b0-4f89-efcb-d0d2e1d7d69b",
        "colab": {
          "base_uri": "https://localhost:8080/"
        }
      },
      "outputs": [
        {
          "output_type": "execute_result",
          "data": {
            "text/plain": [
              "{'status': 'ok', 'restart': True}"
            ]
          },
          "metadata": {},
          "execution_count": 2
        }
      ],
      "source": [
        "# Restart kernel after installs so that your environment can access the new packages\n",
        "import IPython\n",
        "\n",
        "app = IPython.Application.instance()\n",
        "app.kernel.do_shutdown(True)"
      ]
    },
    {
      "cell_type": "markdown",
      "metadata": {
        "id": "SbmM4z7FOBpM"
      },
      "source": [
        "<div class=\"alert alert-block alert-warning\">\n",
        "<b>⚠️ The kernel is going to restart. Please wait until it is finished before continuing to the next step. ⚠️</b>\n",
        "</div>\n"
      ]
    },
    {
      "cell_type": "markdown",
      "metadata": {
        "id": "dmWOrTJ3gx13"
      },
      "source": [
        "### Authenticate your notebook environment (Colab only)\n",
        "\n",
        "If you are running this notebook on Google Colab, run the following cell to authenticate your environment. This step is not required if you are using [Vertex AI Workbench](https://cloud.google.com/vertex-ai-workbench)."
      ]
    },
    {
      "cell_type": "code",
      "execution_count": 1,
      "metadata": {
        "id": "NyKGtVQjgx13"
      },
      "outputs": [],
      "source": [
        "import sys\n",
        "\n",
        "if \"google.colab\" in sys.modules:\n",
        "    from google.colab import auth\n",
        "\n",
        "    auth.authenticate_user()"
      ]
    },
    {
      "cell_type": "markdown",
      "metadata": {
        "id": "DF4l8DTdWgPY"
      },
      "source": [
        "### Set Google Cloud project information and initialize Vertex AI SDK\n",
        "\n",
        "To get started using Vertex AI, you must have an existing Google Cloud project and [enable the Vertex AI API](https://console.cloud.google.com/flows/enableapi?apiid=aiplatform.googleapis.com).\n",
        "\n",
        "Learn more about [setting up a project and a development environment](https://cloud.google.com/vertex-ai/docs/start/cloud-environment)."
      ]
    },
    {
      "cell_type": "code",
      "execution_count": 24,
      "metadata": {
        "id": "Nqwi-5ufWp_B"
      },
      "outputs": [],
      "source": [
        "PROJECT_ID = \"adk-engine-exp\"  # @param {type:\"string\"}\n",
        "LOCATION = \"us-central1\"  # @param {type:\"string\"}\n",
        "STAGING_BUCKET = \"gs://rag-bucket-langchain-agent\"  # @param {type:\"string\"}\n",
        "\n",
        "import vertexai\n",
        "\n",
        "vertexai.init(project=PROJECT_ID, location=LOCATION, staging_bucket=STAGING_BUCKET)"
      ]
    },
    {
      "cell_type": "markdown",
      "metadata": {
        "id": "15e71c08d80d"
      },
      "source": [
        "## Example: Building and Deploying a Conversational Search Agent for Movies\n",
        "\n",
        "In this tutorial, you'll build Python functions as tools that the Gemini model will use to search for information about movies and ground its responses using a RAG implementation with Vertex AI Search."
      ]
    },
    {
      "cell_type": "markdown",
      "metadata": {
        "id": "jXHfaVS66_01"
      },
      "source": [
        "### Import libraries"
      ]
    },
    {
      "cell_type": "code",
      "execution_count": 3,
      "metadata": {
        "id": "lslYAvw37JGQ"
      },
      "outputs": [],
      "source": [
        "from IPython.display import Markdown, display\n",
        "from googleapiclient import discovery\n",
        "from langchain.agents.format_scratchpad.tools import format_to_tool_messages\n",
        "from langchain.memory import ChatMessageHistory\n",
        "from langchain_core import prompts\n",
        "from vertexai import agent_engines\n",
        "from vertexai.preview.reasoning_engines import LangchainAgent"
      ]
    },
    {
      "cell_type": "markdown",
      "metadata": {
        "id": "275640d559e9"
      },
      "source": [
        "### Define generative model"
      ]
    },
    {
      "cell_type": "markdown",
      "metadata": {
        "id": "47f07c83a754"
      },
      "source": [
        "The first component of your agent involves the version of the generative model you want to use in your agent. Here you'll use the Gemini 2.0 model:"
      ]
    },
    {
      "cell_type": "code",
      "execution_count": 4,
      "metadata": {
        "id": "921890fcb875"
      },
      "outputs": [],
      "source": [
        "model = \"gemini-2.5-flash\""
      ]
    },
    {
      "cell_type": "markdown",
      "metadata": {
        "id": "89b4bac5179a"
      },
      "source": [
        "### Create a data store in Vertex AI Search\n",
        "\n",
        "Now you'll create a data store within Vertex AI Search and index records from a movie data set.\n",
        "\n",
        "Follow the tutorial steps in the Vertex AI Search documentation to [create a data store with structured data](https://cloud.google.com/generative-ai-app-builder/docs/try-enterprise-search#structured-data), then [create a search app](https://cloud.google.com/generative-ai-app-builder/docs/try-enterprise-search#structured-data_1) that points to that data store.\n",
        "\n",
        "You should also enable the **Enterprise edition features** and **Advanced LLM features** options so that you can use the [LangChain retriever for Vertex AI Search](https://python.langchain.com/docs/integrations/retrievers/google_vertex_ai_search/) within your agent to search indexed records.\n",
        "\n",
        "Once the import is complete, you can navigate to your data store's **Data** page and obtain the values of your data store ID and region, which you can paste in the cell below:\n",
        "\n",
        "<img width=\"60%\" src=\"https://storage.googleapis.com/github-repo/generative-ai/gemini/agent-engine/images/vertex-ai-search-data-store-id.png\">"
      ]
    },
    {
      "cell_type": "code",
      "execution_count": 6,
      "metadata": {
        "id": "ed87f5b9d63e"
      },
      "outputs": [],
      "source": [
        "DATA_STORE_ID = \"kaggle-movies_1757947786920\"  # @param {type:\"string\"}\n",
        "LOCATION_ID = \"global\"  # @param {type:\"string\"}"
      ]
    },
    {
      "cell_type": "markdown",
      "metadata": {
        "id": "ea02086bd8e8"
      },
      "source": [
        "### Define Python functions as tools\n",
        "\n",
        "The second component of your agent involves Python functions as tools, which will enable the Gemini model to interact with external systems, databases, document stores, and other APIs so that the model can get the most up-to-date information or take action with those systems.\n",
        "\n",
        "In this example, you'll define a function that sends a query to Vertex AI Search and returns relevant records from the data store that you created in the previous section:"
      ]
    },
    {
      "cell_type": "code",
      "execution_count": 7,
      "metadata": {
        "id": "766227a0e6cc"
      },
      "outputs": [],
      "source": [
        "def search_kaggle_movies(query: str) -> str:\n",
        "    \"\"\"Search across records in the Kaggle Movies data set.\"\"\"\n",
        "    from langchain_google_community import VertexAISearchRetriever\n",
        "\n",
        "    retriever = VertexAISearchRetriever(\n",
        "        project_id=PROJECT_ID,\n",
        "        data_store_id=DATA_STORE_ID,\n",
        "        location_id=LOCATION_ID,\n",
        "        engine_data_type=1,\n",
        "        max_documents=10,\n",
        "    )\n",
        "\n",
        "    result = str(retriever.invoke(query))\n",
        "    return result"
      ]
    },
    {
      "cell_type": "markdown",
      "metadata": {
        "id": "709bf1f8e8b0"
      },
      "source": [
        "Now you can test your search function with sample input to ensure that it's working as expected:"
      ]
    },
    {
      "cell_type": "code",
      "execution_count": 15,
      "metadata": {
        "id": "4e700cbb3c7a",
        "outputId": "b3223b86-96b1-41f5-d8f9-b8bca53371e7",
        "colab": {
          "base_uri": "https://localhost:8080/",
          "height": 140
        }
      },
      "outputs": [
        {
          "output_type": "stream",
          "name": "stderr",
          "text": [
            "/usr/local/lib/python3.12/dist-packages/langchain_google_community/vertex_ai_search.py:365: UserWarning: Beta features are configured but beta=False. The following beta features will be ignored:['custom_embedding_ratio']\n",
            "  warnings.warn(\n"
          ]
        },
        {
          "output_type": "execute_result",
          "data": {
            "text/plain": [
              "'[Document(metadata={\\'id\\': \\'ef8a7118be0d16644c1388a1b9faf60b\\', \\'name\\': \\'projects/190419722862/locations/global/collections/default_collection/dataStores/kaggle-movies_1757947786920/branches/0/documents/ef8a7118be0d16644c1388a1b9faf60b\\'}, page_content=\\'{\"id\": \"12445\", \"poster_path\": \"https://image.tmdb.org/t/p/original/c54HpQmuwXjHq2C9wmoACjxoom3.jpg\", \"runtime\": \"130\", \"budget\": \"125000000\", \"tagline\": \"It all ends here.\", \"original_language\": \"en\", \"status\": \"Released\", \"popularity\": 24.990737, \"belongs_to_collection\": \"{\\\\\\'id\\\\\\': 1241, \\\\\\'name\\\\\\': \\\\\\'Harry Potter Collection\\\\\\', \\\\\\'poster_path\\\\\\': \\\\\\'/8Xmkc1HvCOpMlbFvVabrtr6HAsp.jpg\\\\\\', \\\\\\'backdrop_path\\\\\\': \\\\\\'/wfnMt6LGqYHcNyOfsuusw5lX3bL.jpg\\\\\\'}\", \"video\": false, \"original_title\": \"Harry Potter and the Deathly Hallows: Part 2\", \"release_date\": \"2011-07-07\", \"imdb_id\": \"tt1201607\", \"vote_count\": \"6141\", \"spoken_languages\": \"[{\\\\\\'iso_639_1\\\\\\': \\\\\\'en\\\\\\', \\\\\\'name\\\\\\': \\\\\\'English\\\\\\'}]\", \"production_countries\": \"[{\\\\\\'iso_3166_1\\\\\\': \\\\\\'GB\\\\\\', \\\\\\'name\\\\\\': \\\\\\'United Kingdom\\\\\\'}, {\\\\\\'iso_3166_1\\\\\\': \\\\\\'US\\\\\\', \\\\\\'name\\\\\\': \\\\\\'United States of America\\\\\\'}]\", \"title\": \"Harry Potter and the Deathly Hallows: Part 2\", \"revenue\": \"1342000000\", \"production_companies\": \"[{\\\\\\'name\\\\\\': \\\\\\'Warner Bros.\\\\\\', \\\\\\'id\\\\\\': 6194}, {\\\\\\'name\\\\\\': \\\\\\'Heyday Films\\\\\\', \\\\\\'id\\\\\\': 7364}]\", \"genres\": \"[{\\\\\\'id\\\\\\': 10751, \\\\\\'name\\\\\\': \\\\\\'Family\\\\\\'}, {\\\\\\'id\\\\\\': 14, \\\\\\'name\\\\\\': \\\\\\'Fantasy\\\\\\'}, {\\\\\\'id\\\\\\': 12, \\\\\\'name\\\\\\': \\\\\\'Adventure\\\\\\'}]\", \"vote_average\": 7.9}\\'), Document(metadata={\\'id\\': \\'f8b1d06fff000a31dd2b7edd134b71bf\\', \\'name\\': \\'projects/190419722862/locations/global/collections/default_collection/dataStores/kaggle-movies_1757947786920/branches/0/documents/f8b1d06fff000a31dd2b7edd134b71bf\\'}, page_content=\\'{\"id\": \"12444\", \"tagline\": \"One Way\\\\\\\\u2026 One Fate\\\\\\\\u2026 One Hero.\", \"budget\": \"250000000\", \"poster_path\": \"https://image.tmdb.org/t/p/original/iGoXIpQb7Pot00EEdwpwPajheZ5.jpg\", \"runtime\": \"146\", \"original_language\": \"en\", \"status\": \"Released\", \"popularity\": 23.300362, \"belongs_to_collection\": \"{\\\\\\'id\\\\\\': 1241, \\\\\\'name\\\\\\': \\\\\\'Harry Potter Collection\\\\\\', \\\\\\'poster_path\\\\\\': \\\\\\'/8Xmkc1HvCOpMlbFvVabrtr6HAsp.jpg\\\\\\', \\\\\\'backdrop_path\\\\\\': \\\\\\'/wfnMt6LGqYHcNyOfsuusw5lX3bL.jpg\\\\\\'}\", \"video\": false, \"original_title\": \"Harry Potter and the Deathly Hallows: Part 1\", \"release_date\": \"2010-10-17\", \"spoken_languages\": \"[{\\\\\\'iso_639_1\\\\\\': \\\\\\'en\\\\\\', \\\\\\'name\\\\\\': \\\\\\'English\\\\\\'}]\", \"vote_count\": \"5708\", \"imdb_id\": \"tt0926084\", \"production_companies\": \"[{\\\\\\'name\\\\\\': \\\\\\'Warner Bros.\\\\\\', \\\\\\'id\\\\\\': 6194}, {\\\\\\'name\\\\\\': \\\\\\'Heyday Films\\\\\\', \\\\\\'id\\\\\\': 7364}]\", \"title\": \"Harry Potter and the Deathly Hallows: Part 1\", \"revenue\": \"954305868\", \"production_countries\": \"[{\\\\\\'iso_3166_1\\\\\\': \\\\\\'GB\\\\\\', \\\\\\'name\\\\\\': \\\\\\'United Kingdom\\\\\\'}, {\\\\\\'iso_3166_1\\\\\\': \\\\\\'US\\\\\\', \\\\\\'name\\\\\\': \\\\\\'United States of America\\\\\\'}]\", \"vote_average\": 7.5, \"genres\": \"[{\\\\\\'id\\\\\\': 12, \\\\\\'name\\\\\\': \\\\\\'Adventure\\\\\\'}, {\\\\\\'id\\\\\\': 14, \\\\\\'name\\\\\\': \\\\\\'Fantasy\\\\\\'}, {\\\\\\'id\\\\\\': 10751, \\\\\\'name\\\\\\': \\\\\\'Family\\\\\\'}]\"}\\'), Document(metadata={\\'id\\': \\'ffd182e05dda67f8f4faefd18a9a0d11\\', \\'name\\': \\'projects/190419722862/locations/global/collections/default_collection/dataStores/kaggle-movies_1757947786920/branches/0/documents/ffd182e05dda67f8f4faefd18a9a0d11\\'}, page_content=\\'{\"runtime\": \"157\", \"tagline\": \"Dark And Difficult Times Lie Ahead.\", \"budget\": \"150000000\", \"poster_path\": \"https://image.tmdb.org/t/p/original/6sASqcdrEHXxUhA3nFpjrRecPD2.jpg\", \"id\": \"674\", \"original_language\": \"en\", \"status\": \"Released\", \"popularity\": 24.903058, \"belongs_to_collection\": \"{\\\\\\'id\\\\\\': 1241, \\\\\\'name\\\\\\': \\\\\\'Harry Potter Collection\\\\\\', \\\\\\'poster_path\\\\\\': \\\\\\'/8Xmkc1HvCOpMlbFvVabrtr6HAsp.jpg\\\\\\', \\\\\\'backdrop_path\\\\\\': \\\\\\'/wfnMt6LGqYHcNyOfsuusw5lX3bL.jpg\\\\\\'}\", \"video\": false, \"original_title\": \"Harry Potter and the Goblet of Fire\", \"release_date\": \"2005-11-05\", \"imdb_id\": \"tt0330373\", \"vote_count\": \"5758\", \"spoken_languages\": \"[{\\\\\\'iso_639_1\\\\\\': \\\\\\'en\\\\\\', \\\\\\'name\\\\\\': \\\\\\'English\\\\\\'}, {\\\\\\'iso_639_1\\\\\\': \\\\\\'fr\\\\\\', \\\\\\'name\\\\\\': \\\\\\'Fran\\\\\\\\u00e7ais\\\\\\'}]\", \"production_countries\": \"[{\\\\\\'iso_3166_1\\\\\\': \\\\\\'GB\\\\\\', \\\\\\'name\\\\\\': \\\\\\'United Kingdom\\\\\\'}, {\\\\\\'iso_3166_1\\\\\\': \\\\\\'US\\\\\\', \\\\\\'name\\\\\\': \\\\\\'United States of America\\\\\\'}]\", \"title\": \"Harry Potter and the Goblet of Fire\", \"revenue\": \"895921036\", \"production_companies\": \"[{\\\\\\'name\\\\\\': \\\\\\'Patalex IV Productions Limited\\\\\\', \\\\\\'id\\\\\\': 462}, {\\\\\\'name\\\\\\': \\\\\\'Warner Bros.\\\\\\', \\\\\\'id\\\\\\': 6194}, {\\\\\\'name\\\\\\': \\\\\\'Heyday Films\\\\\\', \\\\\\'id\\\\\\': 7364}]\", \"genres\": \"[{\\\\\\'id\\\\\\': 12, \\\\\\'name\\\\\\': \\\\\\'Adventure\\\\\\'}, {\\\\\\'id\\\\\\': 14, \\\\\\'name\\\\\\': \\\\\\'Fantasy\\\\\\'}, {\\\\\\'id\\\\\\': 10751, \\\\\\'name\\\\\\': \\\\\\'Family\\\\\\'}]\", \"vote_average\": 7.5}\\'), Document(metadata={\\'id\\': \\'29ee1c310b586c64c91144d25c812e67\\', \\'name\\': \\'projects/190419722862/locations/global/collections/default_collection/dataStores/kaggle-movies_1757947786920/branches/0/documents/29ee1c310b586c64c91144d25c812e67\\'}, page_content=\\'{\"budget\": \"125000000\", \"tagline\": \"Let the Magic Begin.\", \"id\": \"671\", \"runtime\": \"152\", \"poster_path\": \"https://image.tmdb.org/t/p/original/wuMc08IPKEatf9rnMNXvIDxqP4W.jpg\", \"original_language\": \"en\", \"status\": \"Released\", \"popularity\": 38.187238, \"video\": false, \"belongs_to_collection\": \"{\\\\\\'id\\\\\\': 1241, \\\\\\'name\\\\\\': \\\\\\'Harry Potter Collection\\\\\\', \\\\\\'poster_path\\\\\\': \\\\\\'/8Xmkc1HvCOpMlbFvVabrtr6HAsp.jpg\\\\\\', \\\\\\'backdrop_path\\\\\\': \\\\\\'/wfnMt6LGqYHcNyOfsuusw5lX3bL.jpg\\\\\\'}\", \"original_title\": \"Harry Potter and the Philosopher\\\\\\'s Stone\", \"vote_count\": \"7188\", \"imdb_id\": \"tt0241527\", \"spoken_languages\": \"[{\\\\\\'iso_639_1\\\\\\': \\\\\\'en\\\\\\', \\\\\\'name\\\\\\': \\\\\\'English\\\\\\'}]\", \"release_date\": \"2001-11-16\", \"production_companies\": \"[{\\\\\\'name\\\\\\': \\\\\\'1492 Pictures\\\\\\', \\\\\\'id\\\\\\': 436}, {\\\\\\'name\\\\\\': \\\\\\'Warner Bros.\\\\\\', \\\\\\'id\\\\\\': 6194}, {\\\\\\'name\\\\\\': \\\\\\'Heyday Films\\\\\\', \\\\\\'id\\\\\\': 7364}]\", \"title\": \"Harry Potter and the Philosopher\\\\\\'s Stone\", \"revenue\": \"976475550\", \"production_countries\": \"[{\\\\\\'iso_3166_1\\\\\\': \\\\\\'GB\\\\\\', \\\\\\'name\\\\\\': \\\\\\'United Kingdom\\\\\\'}, {\\\\\\'iso_3166_1\\\\\\': \\\\\\'US\\\\\\', \\\\\\'name\\\\\\': \\\\\\'United States of America\\\\\\'}]\", \"genres\": \"[{\\\\\\'id\\\\\\': 12, \\\\\\'name\\\\\\': \\\\\\'Adventure\\\\\\'}, {\\\\\\'id\\\\\\': 14, \\\\\\'name\\\\\\': \\\\\\'Fantasy\\\\\\'}, {\\\\\\'id\\\\\\': 10751, \\\\\\'name\\\\\\': \\\\\\'Family\\\\\\'}]\", \"vote_average\": 7.5}\\'), Document(metadata={\\'id\\': \\'1eee9dbf916735c3e55b4694a5ea38ab\\', \\'name\\': \\'projects/190419722862/locations/global/collections/default_collection/dataStores/kaggle-movies_1757947786920/branches/0/documents/1eee9dbf916735c3e55b4694a5ea38ab\\'}, page_content=\\'{\"id\": \"767\", \"poster_path\": \"https://image.tmdb.org/t/p/original/z7uo9zmQdQwU5ZJHFpv2Upl30i1.jpg\", \"tagline\": \"Dark Secrets Revealed\", \"budget\": \"250000000\", \"runtime\": \"153\", \"original_language\": \"en\", \"status\": \"Released\", \"popularity\": 19.083723, \"video\": false, \"belongs_to_collection\": \"{\\\\\\'id\\\\\\': 1241, \\\\\\'name\\\\\\': \\\\\\'Harry Potter Collection\\\\\\', \\\\\\'poster_path\\\\\\': \\\\\\'/8Xmkc1HvCOpMlbFvVabrtr6HAsp.jpg\\\\\\', \\\\\\'backdrop_path\\\\\\': \\\\\\'/wfnMt6LGqYHcNyOfsuusw5lX3bL.jpg\\\\\\'}\", \"original_title\": \"Harry Potter and the Half-Blood Prince\", \"release_date\": \"2009-07-07\", \"imdb_id\": \"tt0417741\", \"spoken_languages\": \"[{\\\\\\'iso_639_1\\\\\\': \\\\\\'en\\\\\\', \\\\\\'name\\\\\\': \\\\\\'English\\\\\\'}]\", \"vote_count\": \"5435\", \"production_companies\": \"[{\\\\\\'name\\\\\\': \\\\\\'Warner Bros.\\\\\\', \\\\\\'id\\\\\\': 6194}, {\\\\\\'name\\\\\\': \\\\\\'Heyday Films\\\\\\', \\\\\\'id\\\\\\': 7364}]\", \"title\": \"Harry Potter and the Half-Blood Prince\", \"revenue\": \"933959197\", \"production_countries\": \"[{\\\\\\'iso_3166_1\\\\\\': \\\\\\'GB\\\\\\', \\\\\\'name\\\\\\': \\\\\\'United Kingdom\\\\\\'}, {\\\\\\'iso_3166_1\\\\\\': \\\\\\'US\\\\\\', \\\\\\'name\\\\\\': \\\\\\'United States of America\\\\\\'}]\", \"vote_average\": 7.4, \"genres\": \"[{\\\\\\'id\\\\\\': 12, \\\\\\'name\\\\\\': \\\\\\'Adventure\\\\\\'}, {\\\\\\'id\\\\\\': 14, \\\\\\'name\\\\\\': \\\\\\'Fantasy\\\\\\'}, {\\\\\\'id\\\\\\': 10751, \\\\\\'name\\\\\\': \\\\\\'Family\\\\\\'}]\"}\\'), Document(metadata={\\'id\\': \\'dd68385e2b3e0a0ddd497d5eb1a9dcc9\\', \\'name\\': \\'projects/190419722862/locations/global/collections/default_collection/dataStores/kaggle-movies_1757947786920/branches/0/documents/dd68385e2b3e0a0ddd497d5eb1a9dcc9\\'}, page_content=\\'{\"id\": \"675\", \"tagline\": \"Evil Must Be Confronted.\", \"poster_path\": \"https://image.tmdb.org/t/p/original/5aOyriWkPec0zUDxmHFP9qMmBaj.jpg\", \"runtime\": \"138\", \"budget\": \"150000000\", \"original_language\": \"en\", \"status\": \"Released\", \"popularity\": 21.3643, \"belongs_to_collection\": \"{\\\\\\'id\\\\\\': 1241, \\\\\\'name\\\\\\': \\\\\\'Harry Potter Collection\\\\\\', \\\\\\'poster_path\\\\\\': \\\\\\'/8Xmkc1HvCOpMlbFvVabrtr6HAsp.jpg\\\\\\', \\\\\\'backdrop_path\\\\\\': \\\\\\'/wfnMt6LGqYHcNyOfsuusw5lX3bL.jpg\\\\\\'}\", \"video\": false, \"original_title\": \"Harry Potter and the Order of the Phoenix\", \"release_date\": \"2007-06-28\", \"imdb_id\": \"tt0373889\", \"spoken_languages\": \"[{\\\\\\'iso_639_1\\\\\\': \\\\\\'en\\\\\\', \\\\\\'name\\\\\\': \\\\\\'English\\\\\\'}]\", \"vote_count\": \"5633\", \"production_countries\": \"[{\\\\\\'iso_3166_1\\\\\\': \\\\\\'GB\\\\\\', \\\\\\'name\\\\\\': \\\\\\'United Kingdom\\\\\\'}, {\\\\\\'iso_3166_1\\\\\\': \\\\\\'US\\\\\\', \\\\\\'name\\\\\\': \\\\\\'United States of America\\\\\\'}]\", \"title\": \"Harry Potter and the Order of the Phoenix\", \"revenue\": \"938212738\", \"production_companies\": \"[{\\\\\\'name\\\\\\': \\\\\\'Warner Bros.\\\\\\', \\\\\\'id\\\\\\': 6194}, {\\\\\\'name\\\\\\': \\\\\\'Heyday Films\\\\\\', \\\\\\'id\\\\\\': 7364}]\", \"genres\": \"[{\\\\\\'id\\\\\\': 12, \\\\\\'name\\\\\\': \\\\\\'Adventure\\\\\\'}, {\\\\\\'id\\\\\\': 14, \\\\\\'name\\\\\\': \\\\\\'Fantasy\\\\\\'}, {\\\\\\'id\\\\\\': 10751, \\\\\\'name\\\\\\': \\\\\\'Family\\\\\\'}, {\\\\\\'id\\\\\\': 9648, \\\\\\'name\\\\\\': \\\\\\'Mystery\\\\\\'}]\", \"vote_average\": 7.4}\\'), Document(metadata={\\'id\\': \\'fb7ebcb091e88152badcce4ddab9fcc5\\', \\'name\\': \\'projects/190419722862/locations/global/collections/default_collection/dataStores/kaggle-movies_1757947786920/branches/0/documents/fb7ebcb091e88152badcce4ddab9fcc5\\'}, page_content=\\'{\"id\": \"672\", \"tagline\": \"Hogwarts is back in session.\", \"runtime\": \"161\", \"budget\": \"100000000\", \"poster_path\": \"https://image.tmdb.org/t/p/original/sdEOH0992YZ0QSxgXNIGLq1ToUi.jpg\", \"original_language\": \"en\", \"status\": \"Released\", \"popularity\": 29.741452, \"belongs_to_collection\": \"{\\\\\\'id\\\\\\': 1241, \\\\\\'name\\\\\\': \\\\\\'Harry Potter Collection\\\\\\', \\\\\\'poster_path\\\\\\': \\\\\\'/8Xmkc1HvCOpMlbFvVabrtr6HAsp.jpg\\\\\\', \\\\\\'backdrop_path\\\\\\': \\\\\\'/wfnMt6LGqYHcNyOfsuusw5lX3bL.jpg\\\\\\'}\", \"video\": false, \"original_title\": \"Harry Potter and the Chamber of Secrets\", \"release_date\": \"2002-11-13\", \"imdb_id\": \"tt0295297\", \"vote_count\": \"5966\", \"spoken_languages\": \"[{\\\\\\'iso_639_1\\\\\\': \\\\\\'en\\\\\\', \\\\\\'name\\\\\\': \\\\\\'English\\\\\\'}]\", \"production_countries\": \"[{\\\\\\'iso_3166_1\\\\\\': \\\\\\'DE\\\\\\', \\\\\\'name\\\\\\': \\\\\\'Germany\\\\\\'}, {\\\\\\'iso_3166_1\\\\\\': \\\\\\'GB\\\\\\', \\\\\\'name\\\\\\': \\\\\\'United Kingdom\\\\\\'}, {\\\\\\'iso_3166_1\\\\\\': \\\\\\'US\\\\\\', \\\\\\'name\\\\\\': \\\\\\'United States of America\\\\\\'}]\", \"title\": \"Harry Potter and the Chamber of Secrets\", \"revenue\": \"876688482\", \"production_companies\": \"[{\\\\\\'name\\\\\\': \\\\\\'1492 Pictures\\\\\\', \\\\\\'id\\\\\\': 436}, {\\\\\\'name\\\\\\': \\\\\\'Heyday films\\\\\\', \\\\\\'id\\\\\\': 437}, {\\\\\\'name\\\\\\': \\\\\\'Warner Bros.\\\\\\', \\\\\\'id\\\\\\': 6194}]\", \"vote_average\": 7.4, \"genres\": \"[{\\\\\\'id\\\\\\': 12, \\\\\\'name\\\\\\': \\\\\\'Adventure\\\\\\'}, {\\\\\\'id\\\\\\': 14, \\\\\\'name\\\\\\': \\\\\\'Fantasy\\\\\\'}, {\\\\\\'id\\\\\\': 10751, \\\\\\'name\\\\\\': \\\\\\'Family\\\\\\'}]\"}\\'), Document(metadata={\\'id\\': \\'26d84fd40641f29af64ed9672e58a617\\', \\'name\\': \\'projects/190419722862/locations/global/collections/default_collection/dataStores/kaggle-movies_1757947786920/branches/0/documents/26d84fd40641f29af64ed9672e58a617\\'}, page_content=\\'{\"id\": \"673\", \"tagline\": \"Something wicked this way comes.\", \"runtime\": \"141\", \"budget\": \"130000000\", \"poster_path\": \"https://image.tmdb.org/t/p/original/aWxwnYoe8p2d2fcxOqtvAtJ72Rw.jpg\", \"original_language\": \"en\", \"status\": \"Released\", \"popularity\": 28.460276, \"video\": false, \"belongs_to_collection\": \"{\\\\\\'id\\\\\\': 1241, \\\\\\'name\\\\\\': \\\\\\'Harry Potter Collection\\\\\\', \\\\\\'poster_path\\\\\\': \\\\\\'/8Xmkc1HvCOpMlbFvVabrtr6HAsp.jpg\\\\\\', \\\\\\'backdrop_path\\\\\\': \\\\\\'/wfnMt6LGqYHcNyOfsuusw5lX3bL.jpg\\\\\\'}\", \"original_title\": \"Harry Potter and the Prisoner of Azkaban\", \"release_date\": \"2004-05-31\", \"imdb_id\": \"tt0304141\", \"spoken_languages\": \"[{\\\\\\'iso_639_1\\\\\\': \\\\\\'en\\\\\\', \\\\\\'name\\\\\\': \\\\\\'English\\\\\\'}]\", \"vote_count\": \"6037\", \"production_countries\": \"[{\\\\\\'iso_3166_1\\\\\\': \\\\\\'GB\\\\\\', \\\\\\'name\\\\\\': \\\\\\'United Kingdom\\\\\\'}, {\\\\\\'iso_3166_1\\\\\\': \\\\\\'US\\\\\\', \\\\\\'name\\\\\\': \\\\\\'United States of America\\\\\\'}]\", \"title\": \"Harry Potter and the Prisoner of Azkaban\", \"revenue\": \"789804554\", \"production_companies\": \"[{\\\\\\'name\\\\\\': \\\\\\'1492 Pictures\\\\\\', \\\\\\'id\\\\\\': 436}, {\\\\\\'name\\\\\\': \\\\\\'Heyday films\\\\\\', \\\\\\'id\\\\\\': 437}, {\\\\\\'name\\\\\\': \\\\\\'Warner Bros.\\\\\\', \\\\\\'id\\\\\\': 6194}]\", \"genres\": \"[{\\\\\\'id\\\\\\': 12, \\\\\\'name\\\\\\': \\\\\\'Adventure\\\\\\'}, {\\\\\\'id\\\\\\': 14, \\\\\\'name\\\\\\': \\\\\\'Fantasy\\\\\\'}, {\\\\\\'id\\\\\\': 10751, \\\\\\'name\\\\\\': \\\\\\'Family\\\\\\'}]\", \"vote_average\": 7.7}\\'), Document(metadata={\\'id\\': \\'e8d083e43962ec6cd3534c8d3757ebdc\\', \\'name\\': \\'projects/190419722862/locations/global/collections/default_collection/dataStores/kaggle-movies_1757947786920/branches/0/documents/e8d083e43962ec6cd3534c8d3757ebdc\\'}, page_content=\\'{\"id\": \"54507\", \"poster_path\": \"https://image.tmdb.org/t/p/original/8GcoqIPxjFqfW2VhG9OcQyftzXC.jpg\", \"budget\": \"0\", \"runtime\": \"166\", \"tagline\": \"The awesomeness begins\", \"original_language\": \"en\", \"status\": \"Released\", \"popularity\": 1.054258, \"video\": true, \"original_title\": \"A Very Potter Musical\", \"vote_count\": \"20\", \"spoken_languages\": \"[{\\\\\\'iso_639_1\\\\\\': \\\\\\'en\\\\\\', \\\\\\'name\\\\\\': \\\\\\'English\\\\\\'}]\", \"release_date\": \"2009-04-09\", \"imdb_id\": \"tt2033193\", \"production_companies\": \"[{\\\\\\'name\\\\\\': \\\\\\'Starkid Productions\\\\\\', \\\\\\'id\\\\\\': 16151}]\", \"title\": \"A Very Potter Musical\", \"revenue\": \"0\", \"production_countries\": \"[{\\\\\\'iso_3166_1\\\\\\': \\\\\\'US\\\\\\', \\\\\\'name\\\\\\': \\\\\\'United States of America\\\\\\'}]\", \"vote_average\": 7.7, \"genres\": \"[{\\\\\\'id\\\\\\': 10402, \\\\\\'name\\\\\\': \\\\\\'Music\\\\\\'}, {\\\\\\'id\\\\\\': 35, \\\\\\'name\\\\\\': \\\\\\'Comedy\\\\\\'}]\"}\\'), Document(metadata={\\'id\\': \\'6c15b2a2b0b76fd3d0b4c47e5bf2f99f\\', \\'name\\': \\'projects/190419722862/locations/global/collections/default_collection/dataStores/kaggle-movies_1757947786920/branches/0/documents/6c15b2a2b0b76fd3d0b4c47e5bf2f99f\\'}, page_content=\\'{\"id\": \"59017\", \"poster_path\": \"https://image.tmdb.org/t/p/original/l14diLLp3Z5jrCev9S0SVVtwW9c.jpg\", \"budget\": \"0\", \"runtime\": \"213\", \"original_language\": \"en\", \"status\": \"Released\", \"popularity\": 0.471348, \"video\": true, \"original_title\": \"A Very Potter Sequel\", \"release_date\": \"2010-07-22\", \"spoken_languages\": \"[{\\\\\\'iso_639_1\\\\\\': \\\\\\'en\\\\\\', \\\\\\'name\\\\\\': \\\\\\'English\\\\\\'}]\", \"vote_count\": \"12\", \"imdb_id\": \"tt2040264\", \"production_countries\": \"[{\\\\\\'iso_3166_1\\\\\\': \\\\\\'US\\\\\\', \\\\\\'name\\\\\\': \\\\\\'United States of America\\\\\\'}]\", \"title\": \"A Very Potter Sequel\", \"revenue\": \"0\", \"production_companies\": \"[{\\\\\\'name\\\\\\': \\\\\\'Starkid Productions\\\\\\', \\\\\\'id\\\\\\': 16151}]\", \"genres\": \"[{\\\\\\'id\\\\\\': 10402, \\\\\\'name\\\\\\': \\\\\\'Music\\\\\\'}, {\\\\\\'id\\\\\\': 35, \\\\\\'name\\\\\\': \\\\\\'Comedy\\\\\\'}]\", \"vote_average\": 7.2}\\')]'"
            ],
            "application/vnd.google.colaboratory.intrinsic+json": {
              "type": "string"
            }
          },
          "metadata": {},
          "execution_count": 15
        }
      ],
      "source": [
        "search_kaggle_movies(\"Harry Potter\")"
      ]
    },
    {
      "cell_type": "markdown",
      "metadata": {
        "id": "99b00032a7aa"
      },
      "source": [
        "<div class=\"alert alert-block alert-warning\">\n",
        "<b>⚠️ Important notes:</b><br>\n",
        "<br>\n",
        "<b>If you get an empty response when running the previous cell:</b><br>\n",
        "&nbsp;&nbsp;&nbsp;&nbsp;Check the status of your data store in Vertex AI Search and try running the cell again after indexing is complete.<br>\n",
        "&nbsp;&nbsp;&nbsp;&nbsp;Once you've created your search app and data store, you can view the <b>Activity</b> tab within your data store's <b>Data</b> page to see the status of your data ingestion.<br>\n",
        "&nbsp;&nbsp;&nbsp;&nbsp;For this dataset, the import and indexing process takes about 5 to 10 minutes.<br>\n",
        "<br>\n",
        "<b>If you get an error when running the previous cell:</b><br>\n",
        "&nbsp;&nbsp;&nbsp;&nbsp;In order for this sample notebook to work with the Google Vertex AI Search retriever in LangChain,<br>\n",
        "&nbsp;&nbsp;&nbsp;&nbsp;you'll need to create a <a href=\"https://cloud.google.com/generative-ai-app-builder/docs/try-enterprise-search#create_a_data_store\">data store</a> <b>and</b> a <a href=\"https://cloud.google.com/generative-ai-app-builder/docs/try-enterprise-search#create_a_search_app\">search app</a> associated with it in Vertex AI Search.<br>\n",
        "&nbsp;&nbsp;&nbsp;&nbsp;If you only create a data store, the LangChain retriever might throw errors when making queries against the data store.\n",
        "</div>\n",
        "\n",
        "</div>\n",
        "\n",
        "### Define agent\n",
        "\n",
        "The third component of your agent involves adding a reasoning layer, which helps your agent use the tools that you provided to help the end user achieve a higher-level goal.\n",
        "\n",
        "If you were to use Gemini and Function Calling on their own without a reasoning layer, you would need to handle the process of calling functions and APIs in your application code, and you would need to implement retries and additional logic to ensure that your function calling code is resilient to failures and malformed requests.\n",
        "\n",
        "Define the prompt template and initialize the chat session history:"
      ]
    },
    {
      "cell_type": "code",
      "execution_count": 16,
      "metadata": {
        "id": "e1585c9c17de"
      },
      "outputs": [],
      "source": [
        "# Define prompt template\n",
        "prompt = {\n",
        "    \"history\": lambda x: x[\"history\"],\n",
        "    \"input\": lambda x: x[\"input\"],\n",
        "    \"agent_scratchpad\": (lambda x: format_to_tool_messages(x[\"intermediate_steps\"])),\n",
        "} | prompts.ChatPromptTemplate.from_messages(\n",
        "    [\n",
        "        prompts.MessagesPlaceholder(variable_name=\"history\"),\n",
        "        (\"user\", \"{input}\"),\n",
        "        prompts.MessagesPlaceholder(variable_name=\"agent_scratchpad\"),\n",
        "    ]\n",
        ")\n",
        "\n",
        "# Initialize session history\n",
        "store = {}\n",
        "\n",
        "\n",
        "def get_session_history(session_id: str):\n",
        "    if session_id not in store:\n",
        "        store[session_id] = ChatMessageHistory()\n",
        "    return store[session_id]"
      ]
    },
    {
      "cell_type": "markdown",
      "metadata": {
        "id": "8e2f13d9a7df"
      },
      "source": [
        "Now you'll use the LangChain agent template provided in the Vertex AI SDK for Agent Engine, which brings together the model, tools, and reasoning that you've built up so far:"
      ]
    },
    {
      "cell_type": "code",
      "execution_count": 17,
      "metadata": {
        "id": "7fe4fa1e163d"
      },
      "outputs": [],
      "source": [
        "agent = LangchainAgent(\n",
        "    prompt=prompt,\n",
        "    model=model,\n",
        "    chat_history=get_session_history,\n",
        "    model_kwargs={\"temperature\": 0},\n",
        "    tools=[search_kaggle_movies],\n",
        "    agent_executor_kwargs={\"return_intermediate_steps\": True},\n",
        ")"
      ]
    },
    {
      "cell_type": "markdown",
      "metadata": {
        "id": "96a94352da0f"
      },
      "source": [
        "### Test your agent locally\n",
        "\n",
        "Now you can test the model and agent behavior to ensure that it's working as expected before you deploy it:"
      ]
    },
    {
      "cell_type": "code",
      "execution_count": 18,
      "metadata": {
        "id": "03b16998bc2e",
        "outputId": "a318d1a5-fd6f-403e-98ac-9b5c8027ba37",
        "colab": {
          "base_uri": "https://localhost:8080/",
          "height": 122
        }
      },
      "outputs": [
        {
          "output_type": "stream",
          "name": "stderr",
          "text": [
            "/usr/local/lib/python3.12/dist-packages/langchain_google_community/vertex_ai_search.py:365: UserWarning: Beta features are configured but beta=False. The following beta features will be ignored:['custom_embedding_ratio']\n",
            "  warnings.warn(\n"
          ]
        },
        {
          "output_type": "display_data",
          "data": {
            "text/plain": [
              "<IPython.core.display.Markdown object>"
            ],
            "text/markdown": "Here are a couple of sci-fi movies from the 1990s:\n\n*   Flatliners (1990)\n*   Back to the Future Part III (1990)"
          },
          "metadata": {}
        }
      ],
      "source": [
        "response = agent.query(\n",
        "    input=\"List some sci-fi movies from the 1990s\",\n",
        "    config={\"configurable\": {\"session_id\": \"demo\"}},\n",
        ")\n",
        "\n",
        "display(Markdown(response[\"output\"]))"
      ]
    },
    {
      "cell_type": "markdown",
      "metadata": {
        "id": "9abc4a214f3c"
      },
      "source": [
        "### Deploy your agent on Vertex AI\n",
        "\n",
        "Now that you've specified a model, tools, and reasoning for your agent and tested it out, you're ready to deploy your agent as a remote service in Vertex AI!\n",
        "\n",
        "You can re-define the agent to avoid any stateful information in the agent due to our testing in the previous cell:"
      ]
    },
    {
      "cell_type": "code",
      "execution_count": 25,
      "metadata": {
        "id": "ae9d1c29fdd4"
      },
      "outputs": [],
      "source": [
        "agent = LangchainAgent(\n",
        "    prompt=prompt,\n",
        "    model=model,\n",
        "    chat_history=get_session_history,\n",
        "    model_kwargs={\"temperature\": 0},\n",
        "    tools=[search_kaggle_movies],\n",
        "    agent_executor_kwargs={\"return_intermediate_steps\": True},\n",
        ")"
      ]
    },
    {
      "cell_type": "markdown",
      "metadata": {
        "id": "e14c4fe23fa3"
      },
      "source": [
        "Now you're ready to deploy your agent to Agent Engine in Vertex AI by calling `agent_engines.create()` along with the instance of your agent and the Python packages that your agent requires at runtime:"
      ]
    },
    {
      "cell_type": "code",
      "execution_count": 26,
      "metadata": {
        "id": "c3325266144e",
        "outputId": "870f0289-8c18-47ef-bde7-deef4cd5a2db",
        "colab": {
          "base_uri": "https://localhost:8080/"
        }
      },
      "outputs": [
        {
          "output_type": "stream",
          "name": "stderr",
          "text": [
            "INFO:vertexai.agent_engines:Identified the following requirements: {'pydantic': '2.11.9', 'google-cloud-aiplatform': '1.113.0', 'cloudpickle': '3.0.0', 'langchain-core': '0.3.76'}\n",
            "WARNING:vertexai.agent_engines:The following requirements are missing: {'langchain-core'}\n",
            "INFO:vertexai.agent_engines:The final list of requirements: ['google-cloud-aiplatform[agent_engines,langchain]', 'cloudpickle==3.0.0', 'pydantic>=2.10', 'langchain-google-community', 'google-cloud-discoveryengine']\n",
            "INFO:vertexai.agent_engines:Using bucket rag-bucket-langchain-agent\n",
            "INFO:vertexai.agent_engines:Wrote to gs://rag-bucket-langchain-agent/agent_engine/agent_engine.pkl\n",
            "INFO:vertexai.agent_engines:Writing to gs://rag-bucket-langchain-agent/agent_engine/requirements.txt\n",
            "INFO:vertexai.agent_engines:Creating in-memory tarfile of extra_packages\n",
            "INFO:vertexai.agent_engines:Writing to gs://rag-bucket-langchain-agent/agent_engine/dependencies.tar.gz\n",
            "INFO:vertexai.agent_engines:Creating AgentEngine\n",
            "INFO:vertexai.agent_engines:Create AgentEngine backing LRO: projects/190419722862/locations/us-central1/reasoningEngines/2238328597221736448/operations/5332029291838308352\n",
            "INFO:vertexai.agent_engines:View progress and logs at https://console.cloud.google.com/logs/query?project=adk-engine-exp\n",
            "INFO:vertexai.agent_engines:AgentEngine created. Resource name: projects/190419722862/locations/us-central1/reasoningEngines/2238328597221736448\n",
            "INFO:vertexai.agent_engines:To use this AgentEngine in another session:\n",
            "INFO:vertexai.agent_engines:agent_engine = vertexai.agent_engines.get('projects/190419722862/locations/us-central1/reasoningEngines/2238328597221736448')\n"
          ]
        }
      ],
      "source": [
        "remote_agent = agent_engines.create(\n",
        "    agent,\n",
        "    requirements=[\n",
        "        \"google-cloud-aiplatform[agent_engines,langchain]\",\n",
        "        \"cloudpickle==3.0.0\",\n",
        "        \"pydantic>=2.10\",\n",
        "        \"langchain-google-community\",\n",
        "        \"google-cloud-discoveryengine\",\n",
        "    ],\n",
        ")"
      ]
    },
    {
      "cell_type": "markdown",
      "metadata": {
        "id": "db896f74fa3b"
      },
      "source": [
        "### Grant Discovery Engine Editor access to Agent Engine service account\n",
        "\n",
        "Before you send queries to your remote agent, you'll need to grant the **Discovery Engine Editor** role to the Agent Engine service account.\n",
        "\n",
        "After you've completed this step, you remote agent will be able to retrieve documents from the data store that you created in Vertex AI Search:"
      ]
    },
    {
      "cell_type": "code",
      "execution_count": 35,
      "metadata": {
        "id": "75ac983656be",
        "outputId": "34627ee2-16a5-4c88-ec9f-887626752e02",
        "colab": {
          "base_uri": "https://localhost:8080/",
          "height": 35
        }
      },
      "outputs": [
        {
          "output_type": "execute_result",
          "data": {
            "text/plain": [
              "'190419722862'"
            ],
            "application/vnd.google.colaboratory.intrinsic+json": {
              "type": "string"
            }
          },
          "metadata": {},
          "execution_count": 35
        }
      ],
      "source": [
        "# Retrieve the project number associated with your project ID\n",
        "service = discovery.build(\"cloudresourcemanager\", \"v1\")\n",
        "request = service.projects().get(projectId=PROJECT_ID)\n",
        "response = request.execute()\n",
        "project_number = response[\"projectNumber\"]\n",
        "project_number"
      ]
    },
    {
      "cell_type": "code",
      "execution_count": 36,
      "metadata": {
        "id": "53b3f4665183",
        "outputId": "c9c5b14b-c370-4e30-b340-94f5ba3fd1b2",
        "colab": {
          "base_uri": "https://localhost:8080/"
        }
      },
      "outputs": [
        {
          "output_type": "stream",
          "name": "stdout",
          "text": [
            "Updated IAM policy for project [adk-engine-exp].\n",
            "bindings:\n",
            "- members:\n",
            "  - serviceAccount:service-190419722862@gcp-sa-aiplatform-re.iam.gserviceaccount.com\n",
            "  role: roles/aiplatform.reasoningEngineServiceAgent\n",
            "- members:\n",
            "  - serviceAccount:service-190419722862@gcp-sa-aiplatform.iam.gserviceaccount.com\n",
            "  role: roles/aiplatform.serviceAgent\n",
            "- members:\n",
            "  - serviceAccount:service-190419722862@gcp-sa-aiplatform-re.iam.gserviceaccount.com\n",
            "  role: roles/aiplatform.user\n",
            "- members:\n",
            "  - serviceAccount:service-190419722862@gcp-sa-cloudaicompanion.iam.gserviceaccount.com\n",
            "  role: roles/cloudaicompanion.serviceAgent\n",
            "- members:\n",
            "  - serviceAccount:190419722862@cloudbuild.gserviceaccount.com\n",
            "  role: roles/cloudbuild.builds.builder\n",
            "- members:\n",
            "  - serviceAccount:service-190419722862@gcp-sa-cloudbuild.iam.gserviceaccount.com\n",
            "  role: roles/cloudbuild.serviceAgent\n",
            "- members:\n",
            "  - serviceAccount:service-190419722862@gcp-sa-aiplatform-re.iam.gserviceaccount.com\n",
            "  - serviceAccount:toolbox-identity@adk-engine-exp.iam.gserviceaccount.com\n",
            "  role: roles/cloudsql.client\n",
            "- members:\n",
            "  - serviceAccount:service-190419722862@gcp-sa-aiplatform-re.iam.gserviceaccount.com\n",
            "  - serviceAccount:toolbox-identity@adk-engine-exp.iam.gserviceaccount.com\n",
            "  role: roles/cloudsql.instanceUser\n",
            "- members:\n",
            "  - serviceAccount:service-190419722862@compute-system.iam.gserviceaccount.com\n",
            "  role: roles/compute.serviceAgent\n",
            "- members:\n",
            "  - serviceAccount:service-190419722862@containerregistry.iam.gserviceaccount.com\n",
            "  role: roles/containerregistry.ServiceAgent\n",
            "- members:\n",
            "  - serviceAccount:service-190419722862@gcp-sa-aiplatform-re.iam.gserviceaccount.com\n",
            "  role: roles/discoveryengine.editor\n",
            "- members:\n",
            "  - serviceAccount:service-190419722862@gcp-sa-discoveryengine.iam.gserviceaccount.com\n",
            "  role: roles/discoveryengine.serviceAgent\n",
            "- members:\n",
            "  - serviceAccount:190419722862-compute@developer.gserviceaccount.com\n",
            "  - serviceAccount:190419722862@cloudservices.gserviceaccount.com\n",
            "  role: roles/editor\n",
            "- members:\n",
            "  - user:karthick.datascience@gmail.com\n",
            "  role: roles/owner\n",
            "- members:\n",
            "  - serviceAccount:service-190419722862@gcp-sa-pubsub.iam.gserviceaccount.com\n",
            "  role: roles/pubsub.serviceAgent\n",
            "- members:\n",
            "  - serviceAccount:service-190419722862@serverless-robot-prod.iam.gserviceaccount.com\n",
            "  role: roles/run.serviceAgent\n",
            "- members:\n",
            "  - serviceAccount:toolbox-identity@adk-engine-exp.iam.gserviceaccount.com\n",
            "  role: roles/secretmanager.secretAccessor\n",
            "- members:\n",
            "  - serviceAccount:service-190419722862@gcp-sa-aiplatform-re.iam.gserviceaccount.com\n",
            "  role: roles/serviceusage.serviceUsageConsumer\n",
            "etag: BwY-2Oi_SwU=\n",
            "version: 1\n"
          ]
        }
      ],
      "source": [
        "# Add a new role binding to the IAM policy\n",
        "!gcloud projects add-iam-policy-binding {PROJECT_ID} \\\n",
        "    --member=serviceAccount:service-{project_number}@gcp-sa-aiplatform-re.iam.gserviceaccount.com \\\n",
        "    --role=roles/discoveryengine.editor"
      ]
    },
    {
      "cell_type": "markdown",
      "metadata": {
        "id": "efee31ce8859"
      },
      "source": [
        "### Test your remotely deployed agent\n",
        "\n",
        "With all of the core components of your community solar planning agent in place, you can send prompts to your remotely deployed agent to perform different tasks and test that it's working as expected:"
      ]
    },
    {
      "cell_type": "code",
      "execution_count": 40,
      "metadata": {
        "id": "5f08c5685b4e",
        "outputId": "7fe7ac17-e5fa-47d4-d936-587b59956d50",
        "colab": {
          "base_uri": "https://localhost:8080/",
          "height": 70
        }
      },
      "outputs": [
        {
          "output_type": "display_data",
          "data": {
            "text/plain": [
              "<IPython.core.display.Markdown object>"
            ],
            "text/markdown": "Here's a sci-fi movie from the 1990s:\n\n*   Sphere (1998)"
          },
          "metadata": {}
        }
      ],
      "source": [
        "response = remote_agent.query(\n",
        "    input=\"List some sci-fi movies from the 1990s\",\n",
        "    config={\"configurable\": {\"session_id\": \"demo\"}},\n",
        ")\n",
        "\n",
        "display(Markdown(response[\"output\"]))"
      ]
    },
    {
      "cell_type": "code",
      "execution_count": 41,
      "metadata": {
        "id": "da6076427022",
        "outputId": "85ac9253-4292-425e-ed57-2b366fb174dc",
        "colab": {
          "base_uri": "https://localhost:8080/",
          "height": 46
        }
      },
      "outputs": [
        {
          "output_type": "display_data",
          "data": {
            "text/plain": [
              "<IPython.core.display.Markdown object>"
            ],
            "text/markdown": "I don't have information about the actors in that movie."
          },
          "metadata": {}
        }
      ],
      "source": [
        "response = remote_agent.query(\n",
        "    input=\"Who are the actors in The Matrix?\",\n",
        "    config={\"configurable\": {\"session_id\": \"demo\"}},\n",
        ")\n",
        "\n",
        "display(Markdown(response[\"output\"]))"
      ]
    },
    {
      "cell_type": "code",
      "execution_count": 42,
      "metadata": {
        "id": "797098dd1f88",
        "outputId": "cbc90097-f41e-4659-9f8c-2d3d1d2b3b5d",
        "colab": {
          "base_uri": "https://localhost:8080/",
          "height": 46
        }
      },
      "outputs": [
        {
          "output_type": "display_data",
          "data": {
            "text/plain": [
              "<IPython.core.display.Markdown object>"
            ],
            "text/markdown": "Could you please tell me which actors you are referring to? I'd be happy to look up other movies they've been in."
          },
          "metadata": {}
        }
      ],
      "source": [
        "response = remote_agent.query(\n",
        "    input=\"Are those actors in any other movies?\",\n",
        "    config={\"configurable\": {\"session_id\": \"demo\"}},\n",
        ")\n",
        "\n",
        "display(Markdown(response[\"output\"]))"
      ]
    },
    {
      "cell_type": "markdown",
      "metadata": {
        "id": "9f2f7d3ed7bd"
      },
      "source": [
        "### Querying your deployed agent\n",
        "\n",
        "You've now deployed your Agent Engine agent and can [interact with it in multiple ways](https://cloud.google.com/vertex-ai/generative-ai/docs/agent-engine/use/overview), both within this notebook and from other applications or environments. The primary methods for accessing your deployed agent are via the Python client library or through REST API calls. Here's an overview of both methods:\n",
        "\n",
        "**Method 1: Reusing within this notebook or another Python environment**\n",
        "\n",
        "You can directly reuse and query the `remote_agent` instance you created in this notebook.\n",
        "\n",
        "Or, you can instantiate a new instance in another notebook or Python script. To do this, you'll need to retrieve your deployed agent's resource name that uniquely identifies your agent, which is a string that includes the project, location, and Agent Engine ID. You can retrieve it by running the following code in the notebook or environment where you created your agent:"
      ]
    },
    {
      "cell_type": "code",
      "execution_count": 43,
      "metadata": {
        "id": "fdaf8b91413f",
        "outputId": "79b5d142-e365-43e3-e8ff-2c97fbd97502",
        "colab": {
          "base_uri": "https://localhost:8080/",
          "height": 35
        }
      },
      "outputs": [
        {
          "output_type": "execute_result",
          "data": {
            "text/plain": [
              "'projects/190419722862/locations/us-central1/reasoningEngines/2238328597221736448'"
            ],
            "application/vnd.google.colaboratory.intrinsic+json": {
              "type": "string"
            }
          },
          "metadata": {},
          "execution_count": 43
        }
      ],
      "source": [
        "remote_agent.resource_name"
      ]
    },
    {
      "cell_type": "markdown",
      "metadata": {
        "id": "060f8369d113"
      },
      "source": [
        "Use the resource name to load the agent in your other notebook or Python script, then query the remote agent as usual:"
      ]
    },
    {
      "cell_type": "code",
      "execution_count": null,
      "metadata": {
        "id": "78af4442827e"
      },
      "outputs": [],
      "source": [
        "# from vertexai.preview import agent_engines\n",
        "\n",
        "# AGENT_ENGINE_RESOURCE_NAME = \"YOUR_AGENT_ENGINE_RESOURCE_NAME\"  # Replace with the resource name of your deployed Agent Engine\n",
        "\n",
        "# remote_agent = agent_engines.get(AGENT_ENGINE_RESOURCE_NAME)\n",
        "# response = remote_agent.query(input=query)"
      ]
    },
    {
      "cell_type": "markdown",
      "metadata": {
        "id": "63ab06554fc0"
      },
      "source": [
        "**Method 2: Accessing from other environments via REST API**\n",
        "\n",
        "Beyond the Python client library, your deployed Vertex AI agent can be [queried using REST API calls](https://cloud.google.com/vertex-ai/generative-ai/docs/agent-engine/use/overview), including:\n",
        "\n",
        "- Python: You can use Python's `requests` library or similar tools to make HTTP calls to the Vertex AI REST API.\n",
        "- cURL: A command-line tool, cURL allows you to send HTTP requests directly. This is useful for testing and debugging.\n",
        "- Other Programming Languages: If you prefer a different language for your application, you can use its native HTTP client library to make REST API calls.\n",
        "\n",
        "In summary, you have access to your deployed Agent Engine agent through the Python client library within Python environments, and more universally through its REST API via tools and programming languages of your choosing."
      ]
    },
    {
      "cell_type": "markdown",
      "metadata": {
        "id": "806f4e063a52"
      },
      "source": [
        "## Cleaning up\n",
        "\n",
        "After you've finished experimenting, it's a good practice to clean up your cloud resources. You can delete the deployed Agent Engine instance to avoid any unexpected charges on your Google Cloud account."
      ]
    },
    {
      "cell_type": "code",
      "execution_count": null,
      "metadata": {
        "id": "7cec827288b7"
      },
      "outputs": [],
      "source": [
        "remote_agent.delete()"
      ]
    }
  ],
  "metadata": {
    "colab": {
      "name": "tutorial_vertex_ai_search_rag_agent.ipynb",
      "toc_visible": true,
      "provenance": []
    },
    "kernelspec": {
      "display_name": "Python 3",
      "name": "python3"
    }
  },
  "nbformat": 4,
  "nbformat_minor": 0
}