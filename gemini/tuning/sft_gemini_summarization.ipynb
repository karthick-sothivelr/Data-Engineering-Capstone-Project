{
  "cells": [
    {
      "cell_type": "code",
      "execution_count": null,
      "metadata": {
        "id": "i3oNB_qC4X2Y"
      },
      "outputs": [],
      "source": [
        "# Copyright 2024 Google LLC\n",
        "#\n",
        "# Licensed under the Apache License, Version 2.0 (the \"License\");\n",
        "# you may not use this file except in compliance with the License.\n",
        "# You may obtain a copy of the License at\n",
        "#\n",
        "#     https://www.apache.org/licenses/LICENSE-2.0\n",
        "#\n",
        "# Unless required by applicable law or agreed to in writing, software\n",
        "# distributed under the License is distributed on an \"AS IS\" BASIS,\n",
        "# WITHOUT WARRANTIES OR CONDITIONS OF ANY KIND, either express or implied.\n",
        "# See the License for the specific language governing permissions and\n",
        "# limitations under the License."
      ]
    },
    {
      "cell_type": "markdown",
      "metadata": {
        "id": "c4-kxwz23nzr"
      },
      "source": [
        "# Supervised Fine Tuning with Gemini 2.5 Flash for Article Summarization\n",
        "\n",
        "<table align=\"left\">\n",
        "  <td style=\"text-align: center\">\n",
        "    <a href=\"https://colab.research.google.com/github/GoogleCloudPlatform/generative-ai/blob/main/gemini/tuning/sft_gemini_summarization.ipynb\">\n",
        "      <img width=\"32px\" src=\"https://www.gstatic.com/pantheon/images/bigquery/welcome_page/colab-logo.svg\" alt=\"Google Colaboratory logo\"><br> Open in Colab\n",
        "    </a>\n",
        "  </td>\n",
        "  <td style=\"text-align: center\">\n",
        "    <a href=\"https://console.cloud.google.com/vertex-ai/colab/import/https:%2F%2Fraw.githubusercontent.com%2FGoogleCloudPlatform%2Fgenerative-ai%2Fmain%2Fgemini%2Ftuning%2Fsft_gemini_summarization.ipynb\">\n",
        "      <img width=\"32px\" src=\"https://lh3.googleusercontent.com/JmcxdQi-qOpctIvWKgPtrzZdJJK-J3sWE1RsfjZNwshCFgE_9fULcNpuXYTilIR2hjwN\" alt=\"Google Cloud Colab Enterprise logo\"><br> Open in Colab Enterprise\n",
        "    </a>\n",
        "  </td>    \n",
        "  <td style=\"text-align: center\">\n",
        "    <a href=\"https://console.cloud.google.com/vertex-ai/workbench/deploy-notebook?download_url=https://raw.githubusercontent.com/GoogleCloudPlatform/generative-ai/main/gemini/tuning/sft_gemini_summarization.ipynb\">\n",
        "      <img src=\"https://lh3.googleusercontent.com/UiNooY4LUgW_oTvpsNhPpQzsstV5W8F7rYgxgGBD85cWJoLmrOzhVs_ksK_vgx40SHs7jCqkTkCk=e14-rj-sc0xffffff-h130-w32\" alt=\"Vertex AI logo\"><br> Open in Workbench\n",
        "    </a>\n",
        "  </td>\n",
        "  <td style=\"text-align: center\">\n",
        "    <a href=\"https://github.com/GoogleCloudPlatform/generative-ai/blob/main/gemini/tuning/sft_gemini_summarization.ipynb\">\n",
        "      <img width=\"32px\" src=\"https://www.svgrepo.com/download/217753/github.svg\" alt=\"GitHub logo\"><br> View on GitHub\n",
        "    </a>\n",
        "  </td>\n",
        "</table>\n",
        "\n",
        "<div style=\"clear: both;\"></div>\n",
        "\n",
        "<b>Share to:</b>\n",
        "\n",
        "<a href=\"https://www.linkedin.com/sharing/share-offsite/?url=https%3A//github.com/GoogleCloudPlatform/generative-ai/blob/main/gemini/tuning/sft_gemini_summarization.ipynb\" target=\"_blank\">\n",
        "  <img width=\"20px\" src=\"https://upload.wikimedia.org/wikipedia/commons/8/81/LinkedIn_icon.svg\" alt=\"LinkedIn logo\">\n",
        "</a>\n",
        "\n",
        "<a href=\"https://bsky.app/intent/compose?text=https%3A//github.com/GoogleCloudPlatform/generative-ai/blob/main/gemini/tuning/sft_gemini_summarization.ipynb\" target=\"_blank\">\n",
        "  <img width=\"20px\" src=\"https://upload.wikimedia.org/wikipedia/commons/7/7a/Bluesky_Logo.svg\" alt=\"Bluesky logo\">\n",
        "</a>\n",
        "\n",
        "<a href=\"https://twitter.com/intent/tweet?url=https%3A//github.com/GoogleCloudPlatform/generative-ai/blob/main/gemini/tuning/sft_gemini_summarization.ipynb\" target=\"_blank\">\n",
        "  <img width=\"20px\" src=\"https://upload.wikimedia.org/wikipedia/commons/5/5a/X_icon_2.svg\" alt=\"X logo\">\n",
        "</a>\n",
        "\n",
        "<a href=\"https://reddit.com/submit?url=https%3A//github.com/GoogleCloudPlatform/generative-ai/blob/main/gemini/tuning/sft_gemini_summarization.ipynb\" target=\"_blank\">\n",
        "  <img width=\"20px\" src=\"https://redditinc.com/hubfs/Reddit%20Inc/Brand/Reddit_Logo.png\" alt=\"Reddit logo\">\n",
        "</a>\n",
        "\n",
        "<a href=\"https://www.facebook.com/sharer/sharer.php?u=https%3A//github.com/GoogleCloudPlatform/generative-ai/blob/main/gemini/tuning/sft_gemini_summarization.ipynb\" target=\"_blank\">\n",
        "  <img width=\"20px\" src=\"https://upload.wikimedia.org/wikipedia/commons/5/51/Facebook_f_logo_%282019%29.svg\" alt=\"Facebook logo\">\n",
        "</a>            "
      ]
    },
    {
      "cell_type": "markdown",
      "metadata": {
        "id": "pO98gUu-4eTJ"
      },
      "source": [
        "| Authors |\n",
        "| --- |\n",
        "| [Erwin Huizenga](https://www.linkedin.com/in/erwinhuizenga/) |\n",
        "| [Deepak Moonat](https://github.com/dmoonat) |\n",
        "| [Safiuddin Khaja](https://github.com/Safikh) |"
      ]
    },
    {
      "cell_type": "markdown",
      "metadata": {
        "id": "PN72vQp6DWck"
      },
      "source": [
        "## Overview\n",
        "\n",
        "**Gemini** is a family of generative AI models developed by Google DeepMind that is designed for multimodal use cases. The Gemini API gives you access to the various Gemini models, such as Gemini 2.5 Pro/Flash, Gemini 2.5/Flash, Gemini/Flash and more.\n",
        "\n",
        "This notebook demonstrates how to fine-tune the Gemini 2.5 Flash generative model using the Vertex AI Supervised Tuning feature. Supervised Tuning allows you to use your own training data to further refine the base model's capabilities towards your specific tasks.\n",
        "\n",
        "Supervised Tuning uses labeled examples to tune a model. Each example demonstrates the output you want from your text model during inference.\n",
        "\n",
        "First, ensure your training data is of high quality, well-labeled, and directly relevant to the target task. This is crucial as low-quality data can adversely affect the performance and introduce bias in the fine-tuned model.\n",
        "- Training: Experiment with different configurations to optimize the model's performance on the target task.\n",
        "- Evaluation:\n",
        "  - Metric: Choose appropriate evaluation metrics that accurately reflect the success of the fine-tuned model for your specific task\n",
        "  - Evaluation Set: Use a separate set of data to evaluate the model's performance\n",
        "\n",
        "\n",
        "Refer to public [documentation](https://cloud.google.com/vertex-ai/generative-ai/docs/models/gemini-supervised-tuning) for more details.\n",
        "\n",
        "\n",
        "<hr/>\n",
        "\n",
        "Before running this notebook, ensure you have:\n",
        "\n",
        "- A Google Cloud project: Provide your project ID in the `PROJECT_ID` variable.\n",
        "\n",
        "- Authenticated your Colab environment: Run the authentication code block at the beginning.\n",
        "\n",
        "- Prepared training data (Test with your own data or use the one in the notebook): Data should be formatted in JSONL with prompts and corresponding completions."
      ]
    },
    {
      "cell_type": "markdown",
      "metadata": {
        "id": "77ppk4eke7G4"
      },
      "source": [
        "### Objective\n",
        "\n",
        "In this tutorial, you will learn how to use `Vertex AI` to tune a `Gemini 2.5 Flash` model.\n",
        "\n",
        "\n",
        "This tutorial uses the following Google Cloud ML services:\n",
        "\n",
        "- `Vertex AI`\n",
        "\n",
        "\n",
        "The steps performed include:\n",
        "\n",
        "- Prepare and load the dataset\n",
        "- Load the `gemini-2.5-flash` model\n",
        "- Evaluate the model before tuning\n",
        "- Tune the model.\n",
        "  - This will automatically create a Vertex AI endpoint and deploy the model to it\n",
        "- Make a prediction using tuned model\n",
        "- Evaluate the model after tuning"
      ]
    },
    {
      "cell_type": "markdown",
      "metadata": {
        "id": "PVRaH5wqfIy3"
      },
      "source": [
        "### Costs\n",
        "\n",
        "This tutorial uses billable components of Google Cloud:\n",
        "\n",
        "* Vertex AI\n",
        "* Cloud Storage\n",
        "\n",
        "Learn about [Vertex AI\n",
        "pricing](https://cloud.google.com/vertex-ai/pricing), [Cloud Storage\n",
        "pricing](https://cloud.google.com/storage/pricing), and use the [Pricing\n",
        "Calculator](https://cloud.google.com/products/calculator/)\n",
        "to generate a cost estimate based on your projected usage."
      ]
    },
    {
      "cell_type": "markdown",
      "metadata": {
        "id": "sfQYl84Cu_xL"
      },
      "source": [
        "## Wikilingua Dataset"
      ]
    },
    {
      "cell_type": "markdown",
      "metadata": {
        "id": "SxAXgV2FvBPz"
      },
      "source": [
        "The dataset includes article and summary pairs from WikiHow. It consists of  article-summary pairs in multiple languages. Refer to the following [github repository](https://github.com/esdurmus/Wikilingua) for more details.\n",
        "\n",
        "For this notebook, we have picked `english` language dataset."
      ]
    },
    {
      "cell_type": "markdown",
      "metadata": {
        "id": "KTHBNpb-BBdc"
      },
      "source": [
        "### Dataset Citation\n",
        "\n",
        "```bibtex\n",
        "@inproceedings{ladhak-wiki-2020,\n",
        "    title={WikiLingua: A New Benchmark Dataset for Multilingual Abstractive Summarization},\n",
        "    author={Faisal Ladhak, Esin Durmus, Claire Cardie and Kathleen McKeown},\n",
        "    booktitle={Findings of EMNLP, 2020},\n",
        "    year={2020}\n",
        "}\n",
        "```"
      ]
    },
    {
      "cell_type": "markdown",
      "metadata": {
        "id": "llEFILYz2aye"
      },
      "source": [
        "## Getting Started"
      ]
    },
    {
      "cell_type": "markdown",
      "metadata": {
        "id": "oo2rh4cC2e1r"
      },
      "source": [
        "### Install Gen AI SDK and other required packages"
      ]
    },
    {
      "cell_type": "markdown",
      "metadata": {
        "id": "0d8bad6906dc"
      },
      "source": [
        "The new Google Gen AI SDK provides a unified interface to Gemini through both the Gemini Developer API and the Gemini API on Vertex AI. With a few exceptions, code that runs on one platform will run on both. This means that you can prototype an application using the Developer API and then migrate the application to Vertex AI without rewriting your code.\n"
      ]
    },
    {
      "cell_type": "code",
      "execution_count": 1,
      "metadata": {
        "id": "l_ok3vdw2cyf",
        "colab": {
          "base_uri": "https://localhost:8080/"
        },
        "outputId": "2ab191a3-db52-48ed-ca67-b63d17558447"
      },
      "outputs": [
        {
          "output_type": "stream",
          "name": "stdout",
          "text": [
            "\u001b[?25l     \u001b[90m━━━━━━━━━━━━━━━━━━━━━━━━━━━━━━━━━━━━━━━━\u001b[0m \u001b[32m0.0/41.6 kB\u001b[0m \u001b[31m?\u001b[0m eta \u001b[36m-:--:--\u001b[0m\r\u001b[2K     \u001b[90m━━━━━━━━━━━━━━━━━━━━━━━━━━━━━━━━━━━━━━━━\u001b[0m \u001b[32m41.6/41.6 kB\u001b[0m \u001b[31m1.1 MB/s\u001b[0m eta \u001b[36m0:00:00\u001b[0m\n",
            "\u001b[?25h  Preparing metadata (setup.py) ... \u001b[?25l\u001b[?25hdone\n",
            "\u001b[2K   \u001b[90m━━━━━━━━━━━━━━━━━━━━━━━━━━━━━━━━━━━━━━━━\u001b[0m \u001b[32m8.0/8.0 MB\u001b[0m \u001b[31m32.6 MB/s\u001b[0m eta \u001b[36m0:00:00\u001b[0m\n",
            "\u001b[2K   \u001b[90m━━━━━━━━━━━━━━━━━━━━━━━━━━━━━━━━━━━━━━━━\u001b[0m \u001b[32m9.8/9.8 MB\u001b[0m \u001b[31m41.9 MB/s\u001b[0m eta \u001b[36m0:00:00\u001b[0m\n",
            "\u001b[?25h  Building wheel for rouge_score (setup.py) ... \u001b[?25l\u001b[?25hdone\n",
            "\u001b[33m  WARNING: The script plotly_get_chrome is installed in '/root/.local/bin' which is not on PATH.\n",
            "  Consider adding this directory to PATH or, if you prefer to suppress this warning, use --no-warn-script-location.\u001b[0m\u001b[33m\n",
            "\u001b[0m\u001b[33m  WARNING: The script tb-gcp-uploader is installed in '/root/.local/bin' which is not on PATH.\n",
            "  Consider adding this directory to PATH or, if you prefer to suppress this warning, use --no-warn-script-location.\u001b[0m\u001b[33m\n",
            "\u001b[0m"
          ]
        }
      ],
      "source": [
        "%pip install --upgrade --user --quiet google-genai google-cloud-aiplatform rouge_score plotly jsonlines"
      ]
    },
    {
      "cell_type": "markdown",
      "metadata": {
        "id": "F0HMlz-MD9Yt"
      },
      "source": [
        "## Step0: Authenticate your notebook environment (Colab only)\n",
        "\n",
        "If you are running this notebook on Google Colab, run the cell below to authenticate your environment."
      ]
    },
    {
      "cell_type": "code",
      "execution_count": 1,
      "metadata": {
        "id": "86VNaqlgD9rK"
      },
      "outputs": [],
      "source": [
        "import sys\n",
        "\n",
        "if \"google.colab\" in sys.modules:\n",
        "    from google.colab import auth\n",
        "\n",
        "    auth.authenticate_user()"
      ]
    },
    {
      "cell_type": "markdown",
      "metadata": {
        "id": "yKRPFNzWJLVY"
      },
      "source": [
        "- If you are running this notebook in a local development environment:\n",
        "  - Install the [Google Cloud SDK](https://cloud.google.com/sdk).\n",
        "  - Obtain authentication credentials. Create local credentials by running the following command and following the oauth2 flow (read more about the command [here](https://cloud.google.com/sdk/gcloud/reference/beta/auth/application-default/login)):\n",
        "\n",
        "    ```bash\n",
        "    gcloud auth application-default login\n",
        "    ```"
      ]
    },
    {
      "cell_type": "markdown",
      "metadata": {
        "id": "k8CI-TcqD06L"
      },
      "source": [
        "## Step1: Import Libraries"
      ]
    },
    {
      "cell_type": "code",
      "execution_count": 2,
      "metadata": {
        "id": "rerpHL_eEG8D"
      },
      "outputs": [],
      "source": [
        "import time\n",
        "\n",
        "# For data handling.\n",
        "import jsonlines\n",
        "import pandas as pd\n",
        "\n",
        "# For visualization.\n",
        "import plotly.graph_objects as go\n",
        "\n",
        "# For fine tuning Gemini model.\n",
        "import vertexai\n",
        "from google import genai\n",
        "\n",
        "# For extracting vertex experiment details.\n",
        "from google.cloud import aiplatform\n",
        "from google.cloud.aiplatform.metadata import context\n",
        "from google.cloud.aiplatform.metadata import utils as metadata_utils\n",
        "from google.genai import types\n",
        "from plotly.subplots import make_subplots\n",
        "\n",
        "# For evaluation metric computation.\n",
        "from rouge_score import rouge_scorer\n",
        "from tqdm import tqdm"
      ]
    },
    {
      "cell_type": "markdown",
      "metadata": {
        "id": "FBY9nK3qEJLk"
      },
      "source": [
        "## Step2: Set Google Cloud project information and initialize Vertex AI and Gen AI SDK\n",
        "\n",
        "To get started using Vertex AI, you must have an existing Google Cloud project and [enable the Vertex AI API](https://console.cloud.google.com/flows/enableapi?apiid=aiplatform.googleapis.com).\n",
        "\n",
        "Learn more about [setting up a project and a development environment](https://cloud.google.com/vertex-ai/docs/start/cloud-environment).\n"
      ]
    },
    {
      "cell_type": "code",
      "execution_count": 3,
      "metadata": {
        "id": "VpzmI1K61Tn2"
      },
      "outputs": [],
      "source": [
        "PROJECT_ID = \"adk-engine-exp\"  # @param {type:\"string\"}\n",
        "REGION = \"us-central1\"  # @param {type:\"string\"}"
      ]
    },
    {
      "cell_type": "code",
      "execution_count": 4,
      "metadata": {
        "id": "7MZmIZvlQUhy"
      },
      "outputs": [],
      "source": [
        "vertexai.init(project=PROJECT_ID, location=REGION)\n",
        "\n",
        "client = genai.Client(vertexai=True, project=PROJECT_ID, location=REGION)"
      ]
    },
    {
      "cell_type": "markdown",
      "metadata": {
        "id": "JUEloBlsCPFr"
      },
      "source": [
        "## Step3: Create Dataset in correct format\n",
        "\n",
        "The dataset used to tune a foundation model needs to include examples that align with the task that you want the model to perform. Structure your training dataset in a text-to-text format. Each record, or row, in the dataset contains the input text (also referred to as the prompt) which is paired with its expected output from the model. Supervised tuning uses the dataset to teach the model to mimic a behavior, or task, you need by giving it hundreds of examples that illustrate that behavior.\n",
        "\n",
        "Your dataset size depends on the task, and follows the recommendation mentioned in the `Overview` section. The more examples you provide in your dataset, the better the results.\n",
        "\n",
        "### Dataset format\n",
        "\n",
        "Training data should be structured within a JSONL file located at a Google Cloud Storage (GCS) URI. Each line (or row) of the JSONL file must adhere to a specific schema: It should contain a `contents` array, with objects inside defining a `role` (either \"user\" for user input or \"model\" for model output) and `parts`, containing the input data. For example, a valid data row would look like this:\n",
        "\n",
        "\n",
        "```json\n",
        "{\n",
        "  \"contents\": [\n",
        "    {\n",
        "      \"role\": \"user\", # This indicates input content\n",
        "      \"parts\": [\n",
        "        {\n",
        "          \"text\": \"How are you?\"\n",
        "        }\n",
        "      ]\n",
        "    },\n",
        "    {\n",
        "      \"role\": \"model\", # This indicates target content\n",
        "      \"parts\": [ # text only\n",
        "        {\n",
        "          \"text\": \"I am good, thank you!\"\n",
        "        }\n",
        "      ]\n",
        "    }\n",
        "  ] #  ... repeat \"user\", \"model\" for multi turns.\n",
        "}\n",
        "```\n",
        "\n",
        "Refer to the public [documentation](https://cloud.google.com/vertex-ai/generative-ai/docs/models/gemini-supervised-tuning-prepare#about-datasets) for more details."
      ]
    },
    {
      "cell_type": "markdown",
      "metadata": {
        "id": "TglfI3tQr2oZ"
      },
      "source": [
        "To run a tuning job, you need to upload one or more datasets to a Cloud Storage bucket. You can either create a new Cloud Storage bucket or use an existing one to store dataset files. The region of the bucket doesn't matter, but we recommend that you use a bucket that's in the same Google Cloud project where you plan to tune your model."
      ]
    },
    {
      "cell_type": "markdown",
      "metadata": {
        "id": "OsNdYgnaITuz"
      },
      "source": [
        "### Step3 [a]: Create a Cloud Storage bucket\n",
        "\n",
        "Create a storage bucket to store intermediate artifacts such as datasets.\n"
      ]
    },
    {
      "cell_type": "code",
      "execution_count": 5,
      "metadata": {
        "id": "WveeKANmITK5"
      },
      "outputs": [],
      "source": [
        "# Provide a bucket name\n",
        "BUCKET_NAME = \"fine-tuning-exp-sept25\"  # @param {type:\"string\"}\n",
        "BUCKET_URI = f\"gs://{BUCKET_NAME}\""
      ]
    },
    {
      "cell_type": "markdown",
      "metadata": {
        "id": "lBSGTEiyJfSR"
      },
      "source": [
        "Only if your bucket doesn't already exist: Run the following cell to create your Cloud Storage bucket.\n"
      ]
    },
    {
      "cell_type": "code",
      "execution_count": 6,
      "metadata": {
        "id": "GQSJ3LJkJhLm",
        "colab": {
          "base_uri": "https://localhost:8080/"
        },
        "outputId": "62aa58a5-164b-4603-9418-bf1e6a91e208"
      },
      "outputs": [
        {
          "output_type": "stream",
          "name": "stdout",
          "text": [
            "Creating gs://fine-tuning-exp-sept25/...\n"
          ]
        }
      ],
      "source": [
        "! gsutil mb -l {REGION} -p {PROJECT_ID} {BUCKET_URI}"
      ]
    },
    {
      "cell_type": "markdown",
      "metadata": {
        "id": "7YGurtXHJy_y"
      },
      "source": [
        "### Step3 [b]: Upload tuning data to Cloud Storage"
      ]
    },
    {
      "cell_type": "markdown",
      "metadata": {
        "id": "ip8rErN2r3ah"
      },
      "source": [
        "- Data used in this notebook is present in the public Google Cloud Storage(GCS) bucket.\n",
        "- It's in Gemini finetuning dataset format"
      ]
    },
    {
      "cell_type": "code",
      "execution_count": 7,
      "metadata": {
        "id": "aV_GZg_LaNmV",
        "colab": {
          "base_uri": "https://localhost:8080/"
        },
        "outputId": "4ff498c0-0792-4962-d2fd-875ae69f84de"
      },
      "outputs": [
        {
          "output_type": "stream",
          "name": "stdout",
          "text": [
            "gs://github-repo/generative-ai/gemini/tuning/summarization/wikilingua/\n",
            "gs://github-repo/generative-ai/gemini/tuning/summarization/wikilingua/sft_test_samples.csv\n",
            "gs://github-repo/generative-ai/gemini/tuning/summarization/wikilingua/sft_train_samples.jsonl\n",
            "gs://github-repo/generative-ai/gemini/tuning/summarization/wikilingua/sft_val_samples.jsonl\n"
          ]
        }
      ],
      "source": [
        "!gsutil ls gs://github-repo/generative-ai/gemini/tuning/summarization/wikilingua"
      ]
    },
    {
      "cell_type": "code",
      "execution_count": 8,
      "metadata": {
        "id": "b-EQ4FcExIfp",
        "colab": {
          "base_uri": "https://localhost:8080/"
        },
        "outputId": "af035595-3e23-493d-9549-9538f00f2aa0"
      },
      "outputs": [
        {
          "output_type": "stream",
          "name": "stdout",
          "text": [
            "Copying gs://github-repo/generative-ai/gemini/tuning/summarization/wikilingua/sft_test_samples.csv...\n",
            "Copying gs://github-repo/generative-ai/gemini/tuning/summarization/wikilingua/sft_train_samples.jsonl...\n",
            "Copying gs://github-repo/generative-ai/gemini/tuning/summarization/wikilingua/sft_val_samples.jsonl...\n",
            "| [3 files][  1.6 MiB/  1.6 MiB]                                                \n",
            "Operation completed over 3 objects/1.6 MiB.                                      \n"
          ]
        }
      ],
      "source": [
        "!gsutil cp gs://github-repo/generative-ai/gemini/tuning/summarization/wikilingua/* ."
      ]
    },
    {
      "cell_type": "markdown",
      "metadata": {
        "id": "6wmBkAUoyzdJ"
      },
      "source": [
        "#### Convert Gemini tuning dataset to Gemini 2.5 tuning dataset format"
      ]
    },
    {
      "cell_type": "code",
      "execution_count": 9,
      "metadata": {
        "id": "7bhtxKbha_wS"
      },
      "outputs": [],
      "source": [
        "def save_jsonlines(file, instances) -> None:\n",
        "    \"\"\"Saves a list of json instances to a jsonlines file.\"\"\"\n",
        "    with jsonlines.open(file, mode=\"w\") as writer:\n",
        "        writer.write_all(instances)"
      ]
    },
    {
      "cell_type": "code",
      "execution_count": 10,
      "metadata": {
        "id": "-3xbpRnSyxH9"
      },
      "outputs": [],
      "source": [
        "def create_tuning_samples(file_path):\n",
        "    \"\"\"Creates tuning samples from a file.\"\"\"\n",
        "    with jsonlines.open(file_path) as reader:\n",
        "        instances = []\n",
        "        for obj in reader:\n",
        "            instance = []\n",
        "            for content in obj[\"messages\"]:\n",
        "                instance.append(\n",
        "                    {\"role\": content[\"role\"], \"parts\": [{\"text\": content[\"content\"]}]}\n",
        "                )\n",
        "            instances.append({\"contents\": instance})\n",
        "    return instances"
      ]
    },
    {
      "cell_type": "code",
      "execution_count": 11,
      "metadata": {
        "id": "orHUpTagyw-z",
        "colab": {
          "base_uri": "https://localhost:8080/"
        },
        "outputId": "a1f3233f-2aa5-4e3f-ac51-f09116e14910"
      },
      "outputs": [
        {
          "output_type": "execute_result",
          "data": {
            "text/plain": [
              "500"
            ]
          },
          "metadata": {},
          "execution_count": 11
        }
      ],
      "source": [
        "train_file = \"sft_train_samples.jsonl\"\n",
        "train_instances = create_tuning_samples(train_file)\n",
        "len(train_instances)"
      ]
    },
    {
      "cell_type": "code",
      "execution_count": 12,
      "metadata": {
        "id": "U3m05gAM1mlp"
      },
      "outputs": [],
      "source": [
        "# save the training instances to jsonl file\n",
        "save_jsonlines(train_file, train_instances)"
      ]
    },
    {
      "cell_type": "code",
      "execution_count": 13,
      "metadata": {
        "id": "xZICW6uU1T3Z",
        "colab": {
          "base_uri": "https://localhost:8080/"
        },
        "outputId": "d48914ff-0529-4904-8e15-11fbb394a36c"
      },
      "outputs": [
        {
          "output_type": "execute_result",
          "data": {
            "text/plain": [
              "100"
            ]
          },
          "metadata": {},
          "execution_count": 13
        }
      ],
      "source": [
        "val_file = \"sft_val_samples.jsonl\"\n",
        "val_instances = create_tuning_samples(val_file)\n",
        "len(val_instances)"
      ]
    },
    {
      "cell_type": "code",
      "execution_count": 14,
      "metadata": {
        "id": "n1s7adZH1CCe"
      },
      "outputs": [],
      "source": [
        "# save the validation instances to jsonl file\n",
        "save_jsonlines(val_file, val_instances)"
      ]
    },
    {
      "cell_type": "code",
      "execution_count": 15,
      "metadata": {
        "id": "AVL2gfP-J5SL",
        "colab": {
          "base_uri": "https://localhost:8080/"
        },
        "outputId": "e75903eb-b231-4435-b785-0ca4bbf3549c"
      },
      "outputs": [
        {
          "output_type": "stream",
          "name": "stdout",
          "text": [
            "Copying file://sft_train_samples.jsonl [Content-Type=application/octet-stream]...\n",
            "|\n",
            "Operation completed over 1 objects/1.2 MiB.                                      \n",
            "Copying file://sft_val_samples.jsonl [Content-Type=application/octet-stream]...\n",
            "\\\n",
            "Operation completed over 1 objects/231.8 KiB.                                    \n"
          ]
        }
      ],
      "source": [
        "# Copy the tuning and evaluation data to your bucket.\n",
        "!gsutil cp {train_file} {BUCKET_URI}/train/\n",
        "!gsutil cp {val_file} {BUCKET_URI}/val/"
      ]
    },
    {
      "cell_type": "markdown",
      "metadata": {
        "id": "kV5X6_DsIXPm"
      },
      "source": [
        "### Step3 [c]: Test dataset\n",
        "\n",
        "- It contains document text(`input_text`) and corresponding reference summary(`output_text`), which will be compared with the model generated summary"
      ]
    },
    {
      "cell_type": "code",
      "execution_count": 16,
      "metadata": {
        "id": "wtxPI3GPIckU",
        "colab": {
          "base_uri": "https://localhost:8080/",
          "height": 206
        },
        "outputId": "0bb19782-0c60-4c6e-87d5-94e66d6ff3d6"
      },
      "outputs": [
        {
          "output_type": "execute_result",
          "data": {
            "text/plain": [
              "                                          input_text  \\\n",
              "0  Hold your arm out flat in front of you with yo...   \n",
              "1  As you continue playing, surviving becomes pai...   \n",
              "2  Go to https://www.4kdownload.com/products/prod...   \n",
              "3  You should know that vaginoplasty can treat a ...   \n",
              "4  If you want to gather data on the frequency of...   \n",
              "\n",
              "                                         output_text  \n",
              "0  Squeeze a line of lotion onto the tops of both...  \n",
              "1  Make a Crock Pot for better food. Create an Al...  \n",
              "2  Download the 4K Video Downloader setup file. I...  \n",
              "3  Consider the health of your bladder. Find a so...  \n",
              "4  Gather data to be graphed. Choose your range b...  "
            ],
            "text/html": [
              "\n",
              "  <div id=\"df-3e5f924b-fb2f-488a-9462-78bd4819bffb\" class=\"colab-df-container\">\n",
              "    <div>\n",
              "<style scoped>\n",
              "    .dataframe tbody tr th:only-of-type {\n",
              "        vertical-align: middle;\n",
              "    }\n",
              "\n",
              "    .dataframe tbody tr th {\n",
              "        vertical-align: top;\n",
              "    }\n",
              "\n",
              "    .dataframe thead th {\n",
              "        text-align: right;\n",
              "    }\n",
              "</style>\n",
              "<table border=\"1\" class=\"dataframe\">\n",
              "  <thead>\n",
              "    <tr style=\"text-align: right;\">\n",
              "      <th></th>\n",
              "      <th>input_text</th>\n",
              "      <th>output_text</th>\n",
              "    </tr>\n",
              "  </thead>\n",
              "  <tbody>\n",
              "    <tr>\n",
              "      <th>0</th>\n",
              "      <td>Hold your arm out flat in front of you with yo...</td>\n",
              "      <td>Squeeze a line of lotion onto the tops of both...</td>\n",
              "    </tr>\n",
              "    <tr>\n",
              "      <th>1</th>\n",
              "      <td>As you continue playing, surviving becomes pai...</td>\n",
              "      <td>Make a Crock Pot for better food. Create an Al...</td>\n",
              "    </tr>\n",
              "    <tr>\n",
              "      <th>2</th>\n",
              "      <td>Go to https://www.4kdownload.com/products/prod...</td>\n",
              "      <td>Download the 4K Video Downloader setup file. I...</td>\n",
              "    </tr>\n",
              "    <tr>\n",
              "      <th>3</th>\n",
              "      <td>You should know that vaginoplasty can treat a ...</td>\n",
              "      <td>Consider the health of your bladder. Find a so...</td>\n",
              "    </tr>\n",
              "    <tr>\n",
              "      <th>4</th>\n",
              "      <td>If you want to gather data on the frequency of...</td>\n",
              "      <td>Gather data to be graphed. Choose your range b...</td>\n",
              "    </tr>\n",
              "  </tbody>\n",
              "</table>\n",
              "</div>\n",
              "    <div class=\"colab-df-buttons\">\n",
              "\n",
              "  <div class=\"colab-df-container\">\n",
              "    <button class=\"colab-df-convert\" onclick=\"convertToInteractive('df-3e5f924b-fb2f-488a-9462-78bd4819bffb')\"\n",
              "            title=\"Convert this dataframe to an interactive table.\"\n",
              "            style=\"display:none;\">\n",
              "\n",
              "  <svg xmlns=\"http://www.w3.org/2000/svg\" height=\"24px\" viewBox=\"0 -960 960 960\">\n",
              "    <path d=\"M120-120v-720h720v720H120Zm60-500h600v-160H180v160Zm220 220h160v-160H400v160Zm0 220h160v-160H400v160ZM180-400h160v-160H180v160Zm440 0h160v-160H620v160ZM180-180h160v-160H180v160Zm440 0h160v-160H620v160Z\"/>\n",
              "  </svg>\n",
              "    </button>\n",
              "\n",
              "  <style>\n",
              "    .colab-df-container {\n",
              "      display:flex;\n",
              "      gap: 12px;\n",
              "    }\n",
              "\n",
              "    .colab-df-convert {\n",
              "      background-color: #E8F0FE;\n",
              "      border: none;\n",
              "      border-radius: 50%;\n",
              "      cursor: pointer;\n",
              "      display: none;\n",
              "      fill: #1967D2;\n",
              "      height: 32px;\n",
              "      padding: 0 0 0 0;\n",
              "      width: 32px;\n",
              "    }\n",
              "\n",
              "    .colab-df-convert:hover {\n",
              "      background-color: #E2EBFA;\n",
              "      box-shadow: 0px 1px 2px rgba(60, 64, 67, 0.3), 0px 1px 3px 1px rgba(60, 64, 67, 0.15);\n",
              "      fill: #174EA6;\n",
              "    }\n",
              "\n",
              "    .colab-df-buttons div {\n",
              "      margin-bottom: 4px;\n",
              "    }\n",
              "\n",
              "    [theme=dark] .colab-df-convert {\n",
              "      background-color: #3B4455;\n",
              "      fill: #D2E3FC;\n",
              "    }\n",
              "\n",
              "    [theme=dark] .colab-df-convert:hover {\n",
              "      background-color: #434B5C;\n",
              "      box-shadow: 0px 1px 3px 1px rgba(0, 0, 0, 0.15);\n",
              "      filter: drop-shadow(0px 1px 2px rgba(0, 0, 0, 0.3));\n",
              "      fill: #FFFFFF;\n",
              "    }\n",
              "  </style>\n",
              "\n",
              "    <script>\n",
              "      const buttonEl =\n",
              "        document.querySelector('#df-3e5f924b-fb2f-488a-9462-78bd4819bffb button.colab-df-convert');\n",
              "      buttonEl.style.display =\n",
              "        google.colab.kernel.accessAllowed ? 'block' : 'none';\n",
              "\n",
              "      async function convertToInteractive(key) {\n",
              "        const element = document.querySelector('#df-3e5f924b-fb2f-488a-9462-78bd4819bffb');\n",
              "        const dataTable =\n",
              "          await google.colab.kernel.invokeFunction('convertToInteractive',\n",
              "                                                    [key], {});\n",
              "        if (!dataTable) return;\n",
              "\n",
              "        const docLinkHtml = 'Like what you see? Visit the ' +\n",
              "          '<a target=\"_blank\" href=https://colab.research.google.com/notebooks/data_table.ipynb>data table notebook</a>'\n",
              "          + ' to learn more about interactive tables.';\n",
              "        element.innerHTML = '';\n",
              "        dataTable['output_type'] = 'display_data';\n",
              "        await google.colab.output.renderOutput(dataTable, element);\n",
              "        const docLink = document.createElement('div');\n",
              "        docLink.innerHTML = docLinkHtml;\n",
              "        element.appendChild(docLink);\n",
              "      }\n",
              "    </script>\n",
              "  </div>\n",
              "\n",
              "\n",
              "    <div id=\"df-590fddfe-ecd8-482c-924d-00709426c30b\">\n",
              "      <button class=\"colab-df-quickchart\" onclick=\"quickchart('df-590fddfe-ecd8-482c-924d-00709426c30b')\"\n",
              "                title=\"Suggest charts\"\n",
              "                style=\"display:none;\">\n",
              "\n",
              "<svg xmlns=\"http://www.w3.org/2000/svg\" height=\"24px\"viewBox=\"0 0 24 24\"\n",
              "     width=\"24px\">\n",
              "    <g>\n",
              "        <path d=\"M19 3H5c-1.1 0-2 .9-2 2v14c0 1.1.9 2 2 2h14c1.1 0 2-.9 2-2V5c0-1.1-.9-2-2-2zM9 17H7v-7h2v7zm4 0h-2V7h2v10zm4 0h-2v-4h2v4z\"/>\n",
              "    </g>\n",
              "</svg>\n",
              "      </button>\n",
              "\n",
              "<style>\n",
              "  .colab-df-quickchart {\n",
              "      --bg-color: #E8F0FE;\n",
              "      --fill-color: #1967D2;\n",
              "      --hover-bg-color: #E2EBFA;\n",
              "      --hover-fill-color: #174EA6;\n",
              "      --disabled-fill-color: #AAA;\n",
              "      --disabled-bg-color: #DDD;\n",
              "  }\n",
              "\n",
              "  [theme=dark] .colab-df-quickchart {\n",
              "      --bg-color: #3B4455;\n",
              "      --fill-color: #D2E3FC;\n",
              "      --hover-bg-color: #434B5C;\n",
              "      --hover-fill-color: #FFFFFF;\n",
              "      --disabled-bg-color: #3B4455;\n",
              "      --disabled-fill-color: #666;\n",
              "  }\n",
              "\n",
              "  .colab-df-quickchart {\n",
              "    background-color: var(--bg-color);\n",
              "    border: none;\n",
              "    border-radius: 50%;\n",
              "    cursor: pointer;\n",
              "    display: none;\n",
              "    fill: var(--fill-color);\n",
              "    height: 32px;\n",
              "    padding: 0;\n",
              "    width: 32px;\n",
              "  }\n",
              "\n",
              "  .colab-df-quickchart:hover {\n",
              "    background-color: var(--hover-bg-color);\n",
              "    box-shadow: 0 1px 2px rgba(60, 64, 67, 0.3), 0 1px 3px 1px rgba(60, 64, 67, 0.15);\n",
              "    fill: var(--button-hover-fill-color);\n",
              "  }\n",
              "\n",
              "  .colab-df-quickchart-complete:disabled,\n",
              "  .colab-df-quickchart-complete:disabled:hover {\n",
              "    background-color: var(--disabled-bg-color);\n",
              "    fill: var(--disabled-fill-color);\n",
              "    box-shadow: none;\n",
              "  }\n",
              "\n",
              "  .colab-df-spinner {\n",
              "    border: 2px solid var(--fill-color);\n",
              "    border-color: transparent;\n",
              "    border-bottom-color: var(--fill-color);\n",
              "    animation:\n",
              "      spin 1s steps(1) infinite;\n",
              "  }\n",
              "\n",
              "  @keyframes spin {\n",
              "    0% {\n",
              "      border-color: transparent;\n",
              "      border-bottom-color: var(--fill-color);\n",
              "      border-left-color: var(--fill-color);\n",
              "    }\n",
              "    20% {\n",
              "      border-color: transparent;\n",
              "      border-left-color: var(--fill-color);\n",
              "      border-top-color: var(--fill-color);\n",
              "    }\n",
              "    30% {\n",
              "      border-color: transparent;\n",
              "      border-left-color: var(--fill-color);\n",
              "      border-top-color: var(--fill-color);\n",
              "      border-right-color: var(--fill-color);\n",
              "    }\n",
              "    40% {\n",
              "      border-color: transparent;\n",
              "      border-right-color: var(--fill-color);\n",
              "      border-top-color: var(--fill-color);\n",
              "    }\n",
              "    60% {\n",
              "      border-color: transparent;\n",
              "      border-right-color: var(--fill-color);\n",
              "    }\n",
              "    80% {\n",
              "      border-color: transparent;\n",
              "      border-right-color: var(--fill-color);\n",
              "      border-bottom-color: var(--fill-color);\n",
              "    }\n",
              "    90% {\n",
              "      border-color: transparent;\n",
              "      border-bottom-color: var(--fill-color);\n",
              "    }\n",
              "  }\n",
              "</style>\n",
              "\n",
              "      <script>\n",
              "        async function quickchart(key) {\n",
              "          const quickchartButtonEl =\n",
              "            document.querySelector('#' + key + ' button');\n",
              "          quickchartButtonEl.disabled = true;  // To prevent multiple clicks.\n",
              "          quickchartButtonEl.classList.add('colab-df-spinner');\n",
              "          try {\n",
              "            const charts = await google.colab.kernel.invokeFunction(\n",
              "                'suggestCharts', [key], {});\n",
              "          } catch (error) {\n",
              "            console.error('Error during call to suggestCharts:', error);\n",
              "          }\n",
              "          quickchartButtonEl.classList.remove('colab-df-spinner');\n",
              "          quickchartButtonEl.classList.add('colab-df-quickchart-complete');\n",
              "        }\n",
              "        (() => {\n",
              "          let quickchartButtonEl =\n",
              "            document.querySelector('#df-590fddfe-ecd8-482c-924d-00709426c30b button');\n",
              "          quickchartButtonEl.style.display =\n",
              "            google.colab.kernel.accessAllowed ? 'block' : 'none';\n",
              "        })();\n",
              "      </script>\n",
              "    </div>\n",
              "\n",
              "    </div>\n",
              "  </div>\n"
            ],
            "application/vnd.google.colaboratory.intrinsic+json": {
              "type": "dataframe",
              "variable_name": "test_data",
              "summary": "{\n  \"name\": \"test_data\",\n  \"rows\": 100,\n  \"fields\": [\n    {\n      \"column\": \"input_text\",\n      \"properties\": {\n        \"dtype\": \"string\",\n        \"num_unique_values\": 100,\n        \"samples\": [\n          \"If you have a favorite line from the Harry Potter books, you can easily use it to inspire your own Harry Potter themed mug. For this project, you will need a white mug, and a few Sharpies in varying colors.  Using a Sharpie, write your favorite quote from the books on the mug. Let the mug dry overnight before baking it for 30 minute at 350 degrees. Place the mug in the oven before it heats up and allow it to cool down in the oven before removing. Skip this step and you may find cracks in the mug. Possible quotes for your mug include: \\u201cI solemnly swear I am up to no good,\\u201d \\u201cAlways\\u201d and \\u201cFelix Felicis.\\u201d Every year, Harry goes to Diagon Alley to stock up on potion supplies and you can make your own potion bottles in just a few easy steps. For this project, you will need miniature bottles, cardstock paper, decoupage glue, a magic marker and a rubber band.  Tear the cardstock into small pieces. On each piece, write a potion ingredient in magic marker (ideas include frog, dragon\\u2019s blood, tears, etc). Place a small amount of decoupage glue on the back of each cardstock label, then affix the labels to the bottles. Wrap a rubber band around the labeled bottle to help the glue set. Allow the bottles to dry, then play with them or display them as you wish. If you have a white t-shirt, some black paint and a paintbrush, you can create your own Harry Potter t-shirt featuring the Deathly Hallows.  Place a piece of cardboard in between the layers of the t-shirt. This will keep the paint from seeping through to the back. Paint the outline of a triangle on the t-shirt. The triangle should take up most of the space on the tee. If the triangle is not dark enough, go over it again with another coat of paint. Paint a line from the top of the triangle to the bottom of the triangle. Darken the line as needed. Draw a circle inside the triangle to complete the image of the Deathly Hallows. Darken the circle as needed. Allow the t-shirt to dry before wearing. If you prefer not to freehand the image, you can also look for a template online and use the template to create your painting. Harry Potter's owl, Hedwig, was one of his most loyal friends, and now you can easily make an owl friend of your own. For this project, you will need one small paper plate, two large paper plates, orange paper, two shades of brown paint, wiggle eyes, glue and a brown felt tip pen.  Paint the small plate and one of the large plates dark brown. Paint the other large plate light brown. Let the plates dry. After the plates have dried, draw a series of wavy lines across the light brown plate. These will serve as the owl's feathers. Cut the large dark brown plate in half. Glue the two halves of the dark brown plate diagonally over the light brown plate. The dark brown halves will serve as the owl's wings, and there should be an opening where you can see the light brown plate and the owl's feathers. Glue the small brown plate to the top of the wings to serve as the owl's head. Use the orange paper to cut out feet and a beak for your owl. Attach the feet to the bottom of your owl and the beak to your owl's face. Glue your wiggle eyes onto your owl's face and display your owl.\\n\\nProvide a summary of the article in two or three sentences:\\n\\n\",\n          \"Buy some books about how to survive in the wilderness. The wilderness section of the local bookstore or library will help you. In addition to wilderness skills, you'll need to understand the essentials of survival (food, water, shelter) and plan to ensure all of these.  Understand how to forage and hunt for your own food in a remote environment. Figure out what you'll need to do in the case of dangerous weather (flooding, lightning strike, blizzard) while you're in the wilderness. You're not going to be able to drop out of society in a place like the city, so do some planning and figure out where you're going to go. Go somewhere with a low population and a ready food source\\u2014whether fertile ground that can be planted with a garden, or a nearby stream to catch fish in.   Large amounts of vegetation and animal population are good indicators of a natural environment that can support life. Make sure that you have a constant and nearby water source. This could be a river or stream, a natural spring, or a lake.  Water is the most important element for survival, and you'll need to use it on a daily basis, so make sure the water is clean and plentiful. Research the types of wildlife that you can expect in whatever location you choose to live in. For example, if you're in a forest, are you likely to encounter bears? It's important to know how to survive outside of society before you drop out, especially if you're going to be living in a harsh or remote area. Start by learning how to use basic weapons and tools: a knife, a shovel, rake, hoe, and potentially a gun that is suitable for bringing down most animals without damaging their meat.  You'll likely need to make serious changes to your diet. Living remotely, you'll need to sustain yourself, and this can be done through eating animal proteins and foraging, or growing vegetables in a small garden.  You should also look into learning how to preserve (dry or pickle) meat and vegetables, so you will have enough food to survive during winter months. Unless you're planning to live in an already-existing \\u201coff the grid\\u201d house or rent a cabin, you'll likely need to build your own housing. You can either purchase construction materials before you leave society, or use natural materials (trees, etc.) found in the woods.  Consider that your accommodation will also need to be repaired and renovated from time to time. You'll need to have money saved up to invest in these expenses.  You should also have a plan in place for finding land to live on. The most legal method is to find a cheap, remote plot of land and purchase it. If you would prefer not to own land, or plan to move around frequently, you may find yourself living illegally on National Forest or private property.\\n\\nProvide a summary of the article in two or three sentences:\\n\\n\",\n          \"Your life is full of interesting experiences! Just think of all the times you\\u2019ve told friends or family members stories about yourself. One of these stories might make a great book!  Turn your life stories into fiction using your imagination! Change the names of everyone involved, and add a few exciting incidents that didn\\u2019t really happen. For example, you could write a book inspired by your experiences at camp, about starring in a school play alongside your crush, or about the trials and tribulations you faced while trying out for a team. Historical events, especially if they\\u2019re personal, can be a great source of inspiration. Just as your life experiences are interesting, those of your relatives and ancestors are, as well. Ask your parents and grandparents to tell you their favorite family stories. Then, turn 1 of those stories into a book.  You can write the story as non-fiction, meaning it\\u2019s a true story, or you can use your imagination to make it fiction. For example, you could write a book about how your grandparents reunited after World War II. You might insert your main character into an event that actually happened. Alternatively, you could just write about a character than lives in a time period you think is interesting. Think about historical events or periods you liked learning about in history class.  Do some research about the period. For example, you might write a book that takes place in Ancient Egypt. You can create a realistic story set in a different time period, or you can use history to inspire a fantasy story. You\\u2019ve probably read social media threads where the poster typed out a conversation they overheard, sometimes with added commentary. You could do something similar when writing your book! Listen to a conversation in a public place, then write a book about the people who are having it. Consider using this conversation as your first chapter. What happens next? Where will these characters end up? You know that reading lets you get into someone else\\u2019s mind or travel to a new land. So can writing! Your book is a great opportunity to create a world all your own.  Write a book about a character who shares your favorite hobby. Give your main character a talent you\\u2019ve always wanted to have. Write a book about your favorite fantasy creature, such as a vampire, mermaid, fairy, or elf. Base a book on a game you like to play. You can find writing prompts online, or you could buy a book of prompts. There are even random prompt generators online that will provide you with a unique prompt! Prompts can give you fun ideas for your book.  You could try combining two prompts to make something new. You can find a writing prompt generator here: https://thestoryshack.com/tools/writing-prompt-generator/ Writing classes can help you learn more techniques for developing story ideas. In many cases, you'll learn about different templates that can help you with brainstorming. You'll also have the benefit of bouncing ideas off fellow writers. Look for a creative writing class at your school. You may also be able to find 1 at your local library or community center. If this isn't an option, you could enroll in an online class.\\n\\nProvide a summary of the article in two or three sentences:\\n\\n\"\n        ],\n        \"semantic_type\": \"\",\n        \"description\": \"\"\n      }\n    },\n    {\n      \"column\": \"output_text\",\n      \"properties\": {\n        \"dtype\": \"string\",\n        \"num_unique_values\": 100,\n        \"samples\": [\n          \"Customize your own Harry Potter mug. Make your own potion bottles. Make a Harry Potter Deathly Hallows t-shirt. Make an owl out of paper plates.\",\n          \"Research before you go. Choose a location. Learn some survival skills. Learn how to build a shelter.\",\n          \"Develop your own experiences into a story. Talk to your relatives about your family history. Write a book about an event or time period in history. Create a story based on an overheard conversation. Use your imagination to explore an interest of yours. Try a writing prompt. Take a creative writing class.\"\n        ],\n        \"semantic_type\": \"\",\n        \"description\": \"\"\n      }\n    }\n  ]\n}"
            }
          },
          "metadata": {},
          "execution_count": 16
        }
      ],
      "source": [
        "# Load the test dataset using pandas as it's in the csv format.\n",
        "testing_data_path = \"sft_test_samples.csv\"\n",
        "test_data = pd.read_csv(testing_data_path)\n",
        "test_data.head()"
      ]
    },
    {
      "cell_type": "code",
      "execution_count": 17,
      "metadata": {
        "id": "bRBtYfN_PPaP",
        "colab": {
          "base_uri": "https://localhost:8080/",
          "height": 104
        },
        "outputId": "6b6bf041-b0b3-49fb-9391-5b98a119eba2"
      },
      "outputs": [
        {
          "output_type": "execute_result",
          "data": {
            "text/plain": [
              "'Hold your arm out flat in front of you with your elbow bent. The top of your forearm should form a level surface. Apply a line of lotion from the back of your hand up your arm almost to the crease of your elbow. Squeeze lotion onto both forearms.  Do not rub the lotion into your arms, rather let it sit on your arm in the line you squeezed. You can use as much or as little lotion as you feel is necessary to cover your back completely. Bend your elbows and reach both of your arms behind you, placing the lotion covered forearms against your back. Depending on how flexible you are, this may hurt a little. It might be easier to place one arm behind your back at a time. If you have shoulder pain or are not very flexible, this method may not work well for you. Rub your forearms and the backs of your hands up and down your back like windshield wipers covering as much of your back as you can. You can use your left arm first to cover your left side and then place your right arm behind and use it to cover the right side of your back. Repeat this process as necessary if you don’t feel like you got enough lotion on your back.\\n\\nProvide a summary of the article in two or three sentences:\\n\\n'"
            ],
            "application/vnd.google.colaboratory.intrinsic+json": {
              "type": "string"
            }
          },
          "metadata": {},
          "execution_count": 17
        }
      ],
      "source": [
        "test_data.loc[0, \"input_text\"]"
      ]
    },
    {
      "cell_type": "code",
      "execution_count": 18,
      "metadata": {
        "id": "tTt7qjSeSHRW",
        "colab": {
          "base_uri": "https://localhost:8080/",
          "height": 335
        },
        "outputId": "0567ce3f-0063-4ca9-ec25-0437dc055c7b"
      },
      "outputs": [
        {
          "output_type": "execute_result",
          "data": {
            "text/plain": [
              "count    100.000000\n",
              "mean     186.230000\n",
              "std       92.788655\n",
              "min       28.000000\n",
              "25%      127.250000\n",
              "50%      171.000000\n",
              "75%      227.000000\n",
              "max      577.000000\n",
              "Name: output_text, dtype: float64"
            ],
            "text/html": [
              "<div>\n",
              "<style scoped>\n",
              "    .dataframe tbody tr th:only-of-type {\n",
              "        vertical-align: middle;\n",
              "    }\n",
              "\n",
              "    .dataframe tbody tr th {\n",
              "        vertical-align: top;\n",
              "    }\n",
              "\n",
              "    .dataframe thead th {\n",
              "        text-align: right;\n",
              "    }\n",
              "</style>\n",
              "<table border=\"1\" class=\"dataframe\">\n",
              "  <thead>\n",
              "    <tr style=\"text-align: right;\">\n",
              "      <th></th>\n",
              "      <th>output_text</th>\n",
              "    </tr>\n",
              "  </thead>\n",
              "  <tbody>\n",
              "    <tr>\n",
              "      <th>count</th>\n",
              "      <td>100.000000</td>\n",
              "    </tr>\n",
              "    <tr>\n",
              "      <th>mean</th>\n",
              "      <td>186.230000</td>\n",
              "    </tr>\n",
              "    <tr>\n",
              "      <th>std</th>\n",
              "      <td>92.788655</td>\n",
              "    </tr>\n",
              "    <tr>\n",
              "      <th>min</th>\n",
              "      <td>28.000000</td>\n",
              "    </tr>\n",
              "    <tr>\n",
              "      <th>25%</th>\n",
              "      <td>127.250000</td>\n",
              "    </tr>\n",
              "    <tr>\n",
              "      <th>50%</th>\n",
              "      <td>171.000000</td>\n",
              "    </tr>\n",
              "    <tr>\n",
              "      <th>75%</th>\n",
              "      <td>227.000000</td>\n",
              "    </tr>\n",
              "    <tr>\n",
              "      <th>max</th>\n",
              "      <td>577.000000</td>\n",
              "    </tr>\n",
              "  </tbody>\n",
              "</table>\n",
              "</div><br><label><b>dtype:</b> float64</label>"
            ]
          },
          "metadata": {},
          "execution_count": 18
        }
      ],
      "source": [
        "# Article summary stats\n",
        "stats = test_data[\"output_text\"].apply(len).describe()\n",
        "stats"
      ]
    },
    {
      "cell_type": "code",
      "source": [
        "stats_input = test_data[\"input_text\"].apply(len).describe()\n",
        "stats_input"
      ],
      "metadata": {
        "colab": {
          "base_uri": "https://localhost:8080/",
          "height": 335
        },
        "id": "dPPFyR8GdqPs",
        "outputId": "4c7fb905-12e8-4fe2-ab5a-7fc13394c4e2"
      },
      "execution_count": 19,
      "outputs": [
        {
          "output_type": "execute_result",
          "data": {
            "text/plain": [
              "count     100.000000\n",
              "mean     2212.840000\n",
              "std      1123.448953\n",
              "min       123.000000\n",
              "25%      1425.250000\n",
              "50%      2113.500000\n",
              "75%      2940.750000\n",
              "max      6435.000000\n",
              "Name: input_text, dtype: float64"
            ],
            "text/html": [
              "<div>\n",
              "<style scoped>\n",
              "    .dataframe tbody tr th:only-of-type {\n",
              "        vertical-align: middle;\n",
              "    }\n",
              "\n",
              "    .dataframe tbody tr th {\n",
              "        vertical-align: top;\n",
              "    }\n",
              "\n",
              "    .dataframe thead th {\n",
              "        text-align: right;\n",
              "    }\n",
              "</style>\n",
              "<table border=\"1\" class=\"dataframe\">\n",
              "  <thead>\n",
              "    <tr style=\"text-align: right;\">\n",
              "      <th></th>\n",
              "      <th>input_text</th>\n",
              "    </tr>\n",
              "  </thead>\n",
              "  <tbody>\n",
              "    <tr>\n",
              "      <th>count</th>\n",
              "      <td>100.000000</td>\n",
              "    </tr>\n",
              "    <tr>\n",
              "      <th>mean</th>\n",
              "      <td>2212.840000</td>\n",
              "    </tr>\n",
              "    <tr>\n",
              "      <th>std</th>\n",
              "      <td>1123.448953</td>\n",
              "    </tr>\n",
              "    <tr>\n",
              "      <th>min</th>\n",
              "      <td>123.000000</td>\n",
              "    </tr>\n",
              "    <tr>\n",
              "      <th>25%</th>\n",
              "      <td>1425.250000</td>\n",
              "    </tr>\n",
              "    <tr>\n",
              "      <th>50%</th>\n",
              "      <td>2113.500000</td>\n",
              "    </tr>\n",
              "    <tr>\n",
              "      <th>75%</th>\n",
              "      <td>2940.750000</td>\n",
              "    </tr>\n",
              "    <tr>\n",
              "      <th>max</th>\n",
              "      <td>6435.000000</td>\n",
              "    </tr>\n",
              "  </tbody>\n",
              "</table>\n",
              "</div><br><label><b>dtype:</b> float64</label>"
            ]
          },
          "metadata": {},
          "execution_count": 19
        }
      ]
    },
    {
      "cell_type": "code",
      "execution_count": 20,
      "metadata": {
        "id": "WKptd49cdjSi",
        "colab": {
          "base_uri": "https://localhost:8080/"
        },
        "outputId": "6b31746e-cbc7-44f1-8a47-70edc9c0ffc4"
      },
      "outputs": [
        {
          "output_type": "stream",
          "name": "stdout",
          "text": [
            "Total `100.0` test records\n",
            "Average length is `186.23` and max is `577.0` characters\n",
            "\n",
            "Considering 1 token = 4 chars\n",
            "\n",
            "Set max_token_length = stats['max']/4 = 144.25 ~ 145 characters\n",
            "\n",
            "Let's keep output tokens upto `145`\n"
          ]
        }
      ],
      "source": [
        "print(f\"Total `{stats['count']}` test records\")\n",
        "print(f\"Average length is `{stats['mean']}` and max is `{stats['max']}` characters\")\n",
        "print(\"\\nConsidering 1 token = 4 chars\")\n",
        "\n",
        "# Get ceil value of the tokens required.\n",
        "tokens = (stats[\"max\"] / 4).__ceil__()\n",
        "print(\n",
        "    f\"\\nSet max_token_length = stats['max']/4 = {stats['max'] / 4} ~ {tokens} characters\"\n",
        ")\n",
        "print(f\"\\nLet's keep output tokens upto `{tokens}`\")"
      ]
    },
    {
      "cell_type": "code",
      "execution_count": 32,
      "metadata": {
        "id": "idM1p_UNvA7w"
      },
      "outputs": [],
      "source": [
        "# Maximum number of tokens that can be generated in the response by the LLM.\n",
        "# Experiment with this number to get optimal output.\n",
        "max_output_tokens = tokens"
      ]
    },
    {
      "cell_type": "code",
      "source": [],
      "metadata": {
        "id": "4YODWjTqfAu5"
      },
      "execution_count": 29,
      "outputs": []
    },
    {
      "cell_type": "markdown",
      "metadata": {
        "id": "DhjmRffOOPAS"
      },
      "source": [
        "## Step4: Initailize model"
      ]
    },
    {
      "cell_type": "markdown",
      "metadata": {
        "id": "UhhD1VWDsLat"
      },
      "source": [
        "The following Gemini text model support supervised tuning:\n",
        "\n",
        "* `gemini-2.5-flash`"
      ]
    },
    {
      "cell_type": "code",
      "execution_count": 22,
      "metadata": {
        "id": "jL-zRl5_OVZW"
      },
      "outputs": [],
      "source": [
        "base_model = \"gemini-2.5-flash\""
      ]
    },
    {
      "cell_type": "markdown",
      "metadata": {
        "id": "ieJe8yGlOtFD"
      },
      "source": [
        "## Step5: Test the Gemini model"
      ]
    },
    {
      "cell_type": "markdown",
      "metadata": {
        "id": "F8DFUzRnHMi8"
      },
      "source": [
        "### Generation config\n",
        "\n",
        "- Each call that you send to a model includes parameter values that control how the model generates a response. The model can generate different results for different parameter values\n",
        "- <strong>Experiment</strong> with different parameter values to get the best values for the task\n",
        "\n",
        "Refer to the following [link](https://cloud.google.com/vertex-ai/generative-ai/docs/learn/prompts/adjust-parameter-values) for understanding different parameters"
      ]
    },
    {
      "cell_type": "markdown",
      "metadata": {
        "id": "6hbaeT8AcniS"
      },
      "source": [
        "**Prompt** is a natural language request submitted to a language model to receive a response back\n",
        "\n",
        "Some best practices include\n",
        "  - Clearly communicate what content or information is most important\n",
        "  - Structure the prompt:\n",
        "    - Defining the role if using one. For example, You are an experienced UX designer at a top tech company\n",
        "    - Include context and input data\n",
        "    - Provide the instructions to the model\n",
        "    - Add example(s) if you are using them\n",
        "\n",
        "Refer to the following [link](https://cloud.google.com/vertex-ai/generative-ai/docs/learn/prompts/prompt-design-strategies) for prompt design strategies."
      ]
    },
    {
      "cell_type": "markdown",
      "metadata": {
        "id": "hZUcvQr0rAWA"
      },
      "source": [
        "Wikilingua data contains the following task prompt at the end of the article, `Provide a summary of the article in two or three sentences:`"
      ]
    },
    {
      "cell_type": "code",
      "execution_count": 56,
      "metadata": {
        "id": "iu6OuIhFOv4C",
        "colab": {
          "base_uri": "https://localhost:8080/"
        },
        "outputId": "544f96de-e335-4b00-d476-31c37004cac9"
      },
      "outputs": [
        {
          "output_type": "stream",
          "name": "stdout",
          "text": [
            "To apply lotion to your back, squeeze a line of lotion onto your forearms and the backs of your hands. Reach your arms behind you and rub them up and down your back like windshield wipers to spread the lotion. This method allows you to cover your back, though it may be difficult for those with limited flexibility or shoulder pain.\n"
          ]
        }
      ],
      "source": [
        "test_doc = test_data.loc[0, \"input_text\"]\n",
        "\n",
        "prompt = f\"\"\"\n",
        "{test_doc}\n",
        "\"\"\"\n",
        "\n",
        "config = {\n",
        "    \"temperature\": 0.1,\n",
        "    \"max_output_tokens\": 1024,\n",
        "}\n",
        "\n",
        "response = client.models.generate_content(\n",
        "    model=base_model,\n",
        "    contents=prompt,\n",
        "    config=config,\n",
        ").text\n",
        "print(response)"
      ]
    },
    {
      "cell_type": "code",
      "execution_count": 34,
      "metadata": {
        "id": "8YvlMfmIQqK8",
        "colab": {
          "base_uri": "https://localhost:8080/",
          "height": 35
        },
        "outputId": "a41803d4-8264-4c79-b242-506e72ff68b1"
      },
      "outputs": [
        {
          "output_type": "execute_result",
          "data": {
            "text/plain": [
              "'Squeeze a line of lotion onto the tops of both forearms and the backs of your hands. Place your arms behind your back. Move your arms in a windshield wiper motion.'"
            ],
            "application/vnd.google.colaboratory.intrinsic+json": {
              "type": "string"
            }
          },
          "metadata": {},
          "execution_count": 34
        }
      ],
      "source": [
        "# Ground truth\n",
        "test_data.loc[0, \"output_text\"]"
      ]
    },
    {
      "cell_type": "markdown",
      "metadata": {
        "id": "jGPUKZlcP69-"
      },
      "source": [
        "## Step6: Evaluation before model tuning"
      ]
    },
    {
      "cell_type": "markdown",
      "metadata": {
        "id": "1yayTQdd9oE5"
      },
      "source": [
        "- Evaluate the Gemini model on the test dataset before tuning it on the training dataset."
      ]
    },
    {
      "cell_type": "code",
      "execution_count": 35,
      "metadata": {
        "id": "610J64SpQ5TE",
        "colab": {
          "base_uri": "https://localhost:8080/"
        },
        "outputId": "0a17a873-4970-43eb-bf5b-716eae0f7587"
      },
      "outputs": [
        {
          "output_type": "execute_result",
          "data": {
            "text/plain": [
              "100"
            ]
          },
          "metadata": {},
          "execution_count": 35
        }
      ],
      "source": [
        "# Convert the pandas dataframe to records (list of dictionaries).\n",
        "corpus = test_data.to_dict(orient=\"records\")\n",
        "# Check number of records.\n",
        "len(corpus)"
      ]
    },
    {
      "cell_type": "markdown",
      "metadata": {
        "id": "KkKldH90MY4v"
      },
      "source": [
        "### Evaluation metric\n",
        "\n",
        "The type of metrics used for evaluation depends on the task that you are evaluating. The following table shows the supported tasks and the metrics used to evaluate each task:"
      ]
    },
    {
      "cell_type": "markdown",
      "metadata": {
        "id": "t6oLtUEWMHVu"
      },
      "source": [
        "| Task             | Metric(s)                     |\n",
        "|-----------------|---------------------------------|\n",
        "| Classification   | Micro-F1, Macro-F1, Per class F1 |\n",
        "| Summarization    | ROUGE-L                         |\n",
        "| Question Answering | Exact Match                     |\n",
        "| Text Generation  | BLEU, ROUGE-L                   |\n",
        "\n",
        "\n",
        "<br/>\n",
        "\n",
        "Refer to this [documentation](https://cloud.google.com/vertex-ai/generative-ai/docs/models/evaluate-models) for metric based evaluation."
      ]
    },
    {
      "cell_type": "markdown",
      "metadata": {
        "id": "iKNk3zG4CNSS"
      },
      "source": [
        "- **Recall-Oriented Understudy for Gisting Evaluation (ROUGE)**: A metric used to evaluate the quality of automatic summaries of text. It works by comparing a generated summary to a set of reference summaries created by humans."
      ]
    },
    {
      "cell_type": "markdown",
      "metadata": {
        "id": "5XP9VOaTd3z8"
      },
      "source": [
        "Now you can take the candidate and reference to evaluate the performance. In this case, ROUGE will give you:\n",
        "\n",
        "- `rouge-1`, which measures unigram overlap\n",
        "- `rouge-2`, which measures bigram overlap\n",
        "- `rouge-l`, which measures the longest common subsequence"
      ]
    },
    {
      "cell_type": "markdown",
      "metadata": {
        "id": "I2CrcvvzFfBL"
      },
      "source": [
        "#### *Recall vs. Precision*\n",
        "\n",
        "**Recall**, meaning it prioritizes how much of the information in the reference summaries is captured in the generated summary.\n",
        "\n",
        "**Precision**, which measures how much of the generated summary is relevant to the original text."
      ]
    },
    {
      "cell_type": "markdown",
      "metadata": {
        "id": "uU6K4YdaGGyp"
      },
      "source": [
        "<strong>Alternate Evaluation method</strong>: Check out the [AutoSxS](https://cloud.google.com/vertex-ai/generative-ai/docs/models/side-by-side-eval) evaluation for automatic evaluation of the task.\n"
      ]
    },
    {
      "cell_type": "code",
      "execution_count": 36,
      "metadata": {
        "id": "p3YZAOZcQWtW"
      },
      "outputs": [],
      "source": [
        "# Create rouge_scorer object for evaluation\n",
        "scorer = rouge_scorer.RougeScorer([\"rouge1\", \"rouge2\", \"rougeL\"], use_stemmer=True)"
      ]
    },
    {
      "cell_type": "code",
      "source": [],
      "metadata": {
        "id": "ydUVlhiuhmw5"
      },
      "execution_count": 37,
      "outputs": []
    },
    {
      "cell_type": "code",
      "execution_count": 38,
      "metadata": {
        "id": "N8Y06N_b_EP5"
      },
      "outputs": [],
      "source": [
        "def run_evaluation(model, corpus: list[dict]) -> pd.DataFrame:\n",
        "    \"\"\"Runs evaluation for the given model and data.\n",
        "\n",
        "    Args:\n",
        "      model: The generation model.\n",
        "      corpus: The test data.\n",
        "\n",
        "    Returns:\n",
        "      A pandas DataFrame containing the evaluation results.\n",
        "    \"\"\"\n",
        "    records = []\n",
        "    for item in tqdm(corpus):\n",
        "        document = item.get(\"input_text\")\n",
        "        summary = item.get(\"output_text\")\n",
        "\n",
        "        # Catch any exception that occur during model evaluation.\n",
        "        try:\n",
        "            response = client.models.generate_content(\n",
        "                model=model,\n",
        "                contents=document,\n",
        "                config=config,\n",
        "            )\n",
        "\n",
        "            # Check if response is generated by the model, if response is empty then continue to next item.\n",
        "            if not (\n",
        "                response\n",
        "                and response.candidates\n",
        "                and response.candidates[0].content.parts\n",
        "            ):\n",
        "                print(\n",
        "                    f\"\\nModel has blocked the response for the document.\\n Response: {response}\\n Document: {document}\"\n",
        "                )\n",
        "                continue\n",
        "\n",
        "            # Calculates the ROUGE score for a given reference and generated summary.\n",
        "            scores = scorer.score(target=summary, prediction=response.text)\n",
        "\n",
        "            # Append the results to the records list\n",
        "            records.append(\n",
        "                {\n",
        "                    \"document\": document,\n",
        "                    \"summary\": summary,\n",
        "                    \"generated_summary\": response.text,\n",
        "                    \"scores\": scores,\n",
        "                    \"rouge1_precision\": scores.get(\"rouge1\").precision,\n",
        "                    \"rouge1_recall\": scores.get(\"rouge1\").recall,\n",
        "                    \"rouge1_fmeasure\": scores.get(\"rouge1\").fmeasure,\n",
        "                    \"rouge2_precision\": scores.get(\"rouge2\").precision,\n",
        "                    \"rouge2_recall\": scores.get(\"rouge2\").recall,\n",
        "                    \"rouge2_fmeasure\": scores.get(\"rouge2\").fmeasure,\n",
        "                    \"rougeL_precision\": scores.get(\"rougeL\").precision,\n",
        "                    \"rougeL_recall\": scores.get(\"rougeL\").recall,\n",
        "                    \"rougeL_fmeasure\": scores.get(\"rougeL\").fmeasure,\n",
        "                }\n",
        "            )\n",
        "        except AttributeError as attr_err:\n",
        "            print(\"Attribute Error:\", attr_err)\n",
        "            continue\n",
        "        except Exception as err:\n",
        "            print(\"Error:\", err)\n",
        "            continue\n",
        "    return pd.DataFrame(records)"
      ]
    },
    {
      "cell_type": "code",
      "execution_count": 39,
      "metadata": {
        "id": "4afTSo5cpM73"
      },
      "outputs": [],
      "source": [
        "# Batch of test data.\n",
        "corpus_batch = corpus[:100]"
      ]
    },
    {
      "cell_type": "markdown",
      "metadata": {
        "id": "oM10zigp7kTZ"
      },
      "source": [
        "<div class=\"alert alert-block alert-warning\">\n",
        "<b>⚠️ It will take ~2 mins for the evaluation run on the provided batch. ⚠️</b>\n",
        "</div>"
      ]
    },
    {
      "cell_type": "code",
      "execution_count": 40,
      "metadata": {
        "id": "aO8JhIg1pYkE",
        "colab": {
          "base_uri": "https://localhost:8080/"
        },
        "outputId": "1e98bf78-6371-45d7-d30e-ac8b168b751d"
      },
      "outputs": [
        {
          "output_type": "stream",
          "name": "stderr",
          "text": [
            "100%|██████████| 100/100 [02:25<00:00,  1.46s/it]\n"
          ]
        }
      ],
      "source": [
        "# Run evaluation using loaded model and test data corpus\n",
        "evaluation_df = run_evaluation(base_model, corpus_batch)"
      ]
    },
    {
      "cell_type": "code",
      "execution_count": 41,
      "metadata": {
        "id": "H4VUFeb9tRBP",
        "colab": {
          "base_uri": "https://localhost:8080/",
          "height": 362
        },
        "outputId": "0b1fe990-3a12-45ba-830a-8ec73ac6bc5d"
      },
      "outputs": [
        {
          "output_type": "execute_result",
          "data": {
            "text/plain": [
              "                                            document  \\\n",
              "0  Hold your arm out flat in front of you with yo...   \n",
              "1  As you continue playing, surviving becomes pai...   \n",
              "2  Go to https://www.4kdownload.com/products/prod...   \n",
              "3  You should know that vaginoplasty can treat a ...   \n",
              "4  If you want to gather data on the frequency of...   \n",
              "\n",
              "                                             summary  \\\n",
              "0  Squeeze a line of lotion onto the tops of both...   \n",
              "1  Make a Crock Pot for better food. Create an Al...   \n",
              "2  Download the 4K Video Downloader setup file. I...   \n",
              "3  Consider the health of your bladder. Find a so...   \n",
              "4  Gather data to be graphed. Choose your range b...   \n",
              "\n",
              "                                   generated_summary  \\\n",
              "0                                               This   \n",
              "1                              To survive and thrive   \n",
              "2  This guide explains how to download and instal...   \n",
              "3                                                  V   \n",
              "4                 Histograms are effective tools for   \n",
              "\n",
              "                                              scores  rouge1_precision  \\\n",
              "0  {'rouge1': (0.0, 0.0, 0.0), 'rouge2': (0.0, 0....          0.000000   \n",
              "1  {'rouge1': (0.25, 0.05555555555555555, 0.09090...          0.250000   \n",
              "2  {'rouge1': (0.4925373134328358, 0.559322033898...          0.492537   \n",
              "3  {'rouge1': (0.0, 0.0, 0.0), 'rouge2': (0.0, 0....          0.000000   \n",
              "4  {'rouge1': (0.2, 0.043478260869565216, 0.07142...          0.200000   \n",
              "\n",
              "   rouge1_recall  rouge1_fmeasure  rouge2_precision  rouge2_recall  \\\n",
              "0       0.000000         0.000000          0.000000       0.000000   \n",
              "1       0.055556         0.090909          0.000000       0.000000   \n",
              "2       0.559322         0.523810          0.166667       0.189655   \n",
              "3       0.000000         0.000000          0.000000       0.000000   \n",
              "4       0.043478         0.071429          0.000000       0.000000   \n",
              "\n",
              "   rouge2_fmeasure  rougeL_precision  rougeL_recall  rougeL_fmeasure  \n",
              "0         0.000000          0.000000       0.000000         0.000000  \n",
              "1         0.000000          0.250000       0.055556         0.090909  \n",
              "2         0.177419          0.253731       0.288136         0.269841  \n",
              "3         0.000000          0.000000       0.000000         0.000000  \n",
              "4         0.000000          0.200000       0.043478         0.071429  "
            ],
            "text/html": [
              "\n",
              "  <div id=\"df-b9c7da38-93e7-4b3d-b58f-064db3132e40\" class=\"colab-df-container\">\n",
              "    <div>\n",
              "<style scoped>\n",
              "    .dataframe tbody tr th:only-of-type {\n",
              "        vertical-align: middle;\n",
              "    }\n",
              "\n",
              "    .dataframe tbody tr th {\n",
              "        vertical-align: top;\n",
              "    }\n",
              "\n",
              "    .dataframe thead th {\n",
              "        text-align: right;\n",
              "    }\n",
              "</style>\n",
              "<table border=\"1\" class=\"dataframe\">\n",
              "  <thead>\n",
              "    <tr style=\"text-align: right;\">\n",
              "      <th></th>\n",
              "      <th>document</th>\n",
              "      <th>summary</th>\n",
              "      <th>generated_summary</th>\n",
              "      <th>scores</th>\n",
              "      <th>rouge1_precision</th>\n",
              "      <th>rouge1_recall</th>\n",
              "      <th>rouge1_fmeasure</th>\n",
              "      <th>rouge2_precision</th>\n",
              "      <th>rouge2_recall</th>\n",
              "      <th>rouge2_fmeasure</th>\n",
              "      <th>rougeL_precision</th>\n",
              "      <th>rougeL_recall</th>\n",
              "      <th>rougeL_fmeasure</th>\n",
              "    </tr>\n",
              "  </thead>\n",
              "  <tbody>\n",
              "    <tr>\n",
              "      <th>0</th>\n",
              "      <td>Hold your arm out flat in front of you with yo...</td>\n",
              "      <td>Squeeze a line of lotion onto the tops of both...</td>\n",
              "      <td>This</td>\n",
              "      <td>{'rouge1': (0.0, 0.0, 0.0), 'rouge2': (0.0, 0....</td>\n",
              "      <td>0.000000</td>\n",
              "      <td>0.000000</td>\n",
              "      <td>0.000000</td>\n",
              "      <td>0.000000</td>\n",
              "      <td>0.000000</td>\n",
              "      <td>0.000000</td>\n",
              "      <td>0.000000</td>\n",
              "      <td>0.000000</td>\n",
              "      <td>0.000000</td>\n",
              "    </tr>\n",
              "    <tr>\n",
              "      <th>1</th>\n",
              "      <td>As you continue playing, surviving becomes pai...</td>\n",
              "      <td>Make a Crock Pot for better food. Create an Al...</td>\n",
              "      <td>To survive and thrive</td>\n",
              "      <td>{'rouge1': (0.25, 0.05555555555555555, 0.09090...</td>\n",
              "      <td>0.250000</td>\n",
              "      <td>0.055556</td>\n",
              "      <td>0.090909</td>\n",
              "      <td>0.000000</td>\n",
              "      <td>0.000000</td>\n",
              "      <td>0.000000</td>\n",
              "      <td>0.250000</td>\n",
              "      <td>0.055556</td>\n",
              "      <td>0.090909</td>\n",
              "    </tr>\n",
              "    <tr>\n",
              "      <th>2</th>\n",
              "      <td>Go to https://www.4kdownload.com/products/prod...</td>\n",
              "      <td>Download the 4K Video Downloader setup file. I...</td>\n",
              "      <td>This guide explains how to download and instal...</td>\n",
              "      <td>{'rouge1': (0.4925373134328358, 0.559322033898...</td>\n",
              "      <td>0.492537</td>\n",
              "      <td>0.559322</td>\n",
              "      <td>0.523810</td>\n",
              "      <td>0.166667</td>\n",
              "      <td>0.189655</td>\n",
              "      <td>0.177419</td>\n",
              "      <td>0.253731</td>\n",
              "      <td>0.288136</td>\n",
              "      <td>0.269841</td>\n",
              "    </tr>\n",
              "    <tr>\n",
              "      <th>3</th>\n",
              "      <td>You should know that vaginoplasty can treat a ...</td>\n",
              "      <td>Consider the health of your bladder. Find a so...</td>\n",
              "      <td>V</td>\n",
              "      <td>{'rouge1': (0.0, 0.0, 0.0), 'rouge2': (0.0, 0....</td>\n",
              "      <td>0.000000</td>\n",
              "      <td>0.000000</td>\n",
              "      <td>0.000000</td>\n",
              "      <td>0.000000</td>\n",
              "      <td>0.000000</td>\n",
              "      <td>0.000000</td>\n",
              "      <td>0.000000</td>\n",
              "      <td>0.000000</td>\n",
              "      <td>0.000000</td>\n",
              "    </tr>\n",
              "    <tr>\n",
              "      <th>4</th>\n",
              "      <td>If you want to gather data on the frequency of...</td>\n",
              "      <td>Gather data to be graphed. Choose your range b...</td>\n",
              "      <td>Histograms are effective tools for</td>\n",
              "      <td>{'rouge1': (0.2, 0.043478260869565216, 0.07142...</td>\n",
              "      <td>0.200000</td>\n",
              "      <td>0.043478</td>\n",
              "      <td>0.071429</td>\n",
              "      <td>0.000000</td>\n",
              "      <td>0.000000</td>\n",
              "      <td>0.000000</td>\n",
              "      <td>0.200000</td>\n",
              "      <td>0.043478</td>\n",
              "      <td>0.071429</td>\n",
              "    </tr>\n",
              "  </tbody>\n",
              "</table>\n",
              "</div>\n",
              "    <div class=\"colab-df-buttons\">\n",
              "\n",
              "  <div class=\"colab-df-container\">\n",
              "    <button class=\"colab-df-convert\" onclick=\"convertToInteractive('df-b9c7da38-93e7-4b3d-b58f-064db3132e40')\"\n",
              "            title=\"Convert this dataframe to an interactive table.\"\n",
              "            style=\"display:none;\">\n",
              "\n",
              "  <svg xmlns=\"http://www.w3.org/2000/svg\" height=\"24px\" viewBox=\"0 -960 960 960\">\n",
              "    <path d=\"M120-120v-720h720v720H120Zm60-500h600v-160H180v160Zm220 220h160v-160H400v160Zm0 220h160v-160H400v160ZM180-400h160v-160H180v160Zm440 0h160v-160H620v160ZM180-180h160v-160H180v160Zm440 0h160v-160H620v160Z\"/>\n",
              "  </svg>\n",
              "    </button>\n",
              "\n",
              "  <style>\n",
              "    .colab-df-container {\n",
              "      display:flex;\n",
              "      gap: 12px;\n",
              "    }\n",
              "\n",
              "    .colab-df-convert {\n",
              "      background-color: #E8F0FE;\n",
              "      border: none;\n",
              "      border-radius: 50%;\n",
              "      cursor: pointer;\n",
              "      display: none;\n",
              "      fill: #1967D2;\n",
              "      height: 32px;\n",
              "      padding: 0 0 0 0;\n",
              "      width: 32px;\n",
              "    }\n",
              "\n",
              "    .colab-df-convert:hover {\n",
              "      background-color: #E2EBFA;\n",
              "      box-shadow: 0px 1px 2px rgba(60, 64, 67, 0.3), 0px 1px 3px 1px rgba(60, 64, 67, 0.15);\n",
              "      fill: #174EA6;\n",
              "    }\n",
              "\n",
              "    .colab-df-buttons div {\n",
              "      margin-bottom: 4px;\n",
              "    }\n",
              "\n",
              "    [theme=dark] .colab-df-convert {\n",
              "      background-color: #3B4455;\n",
              "      fill: #D2E3FC;\n",
              "    }\n",
              "\n",
              "    [theme=dark] .colab-df-convert:hover {\n",
              "      background-color: #434B5C;\n",
              "      box-shadow: 0px 1px 3px 1px rgba(0, 0, 0, 0.15);\n",
              "      filter: drop-shadow(0px 1px 2px rgba(0, 0, 0, 0.3));\n",
              "      fill: #FFFFFF;\n",
              "    }\n",
              "  </style>\n",
              "\n",
              "    <script>\n",
              "      const buttonEl =\n",
              "        document.querySelector('#df-b9c7da38-93e7-4b3d-b58f-064db3132e40 button.colab-df-convert');\n",
              "      buttonEl.style.display =\n",
              "        google.colab.kernel.accessAllowed ? 'block' : 'none';\n",
              "\n",
              "      async function convertToInteractive(key) {\n",
              "        const element = document.querySelector('#df-b9c7da38-93e7-4b3d-b58f-064db3132e40');\n",
              "        const dataTable =\n",
              "          await google.colab.kernel.invokeFunction('convertToInteractive',\n",
              "                                                    [key], {});\n",
              "        if (!dataTable) return;\n",
              "\n",
              "        const docLinkHtml = 'Like what you see? Visit the ' +\n",
              "          '<a target=\"_blank\" href=https://colab.research.google.com/notebooks/data_table.ipynb>data table notebook</a>'\n",
              "          + ' to learn more about interactive tables.';\n",
              "        element.innerHTML = '';\n",
              "        dataTable['output_type'] = 'display_data';\n",
              "        await google.colab.output.renderOutput(dataTable, element);\n",
              "        const docLink = document.createElement('div');\n",
              "        docLink.innerHTML = docLinkHtml;\n",
              "        element.appendChild(docLink);\n",
              "      }\n",
              "    </script>\n",
              "  </div>\n",
              "\n",
              "\n",
              "    <div id=\"df-78571c2f-9d32-40ff-aab3-35c5d38a8b4b\">\n",
              "      <button class=\"colab-df-quickchart\" onclick=\"quickchart('df-78571c2f-9d32-40ff-aab3-35c5d38a8b4b')\"\n",
              "                title=\"Suggest charts\"\n",
              "                style=\"display:none;\">\n",
              "\n",
              "<svg xmlns=\"http://www.w3.org/2000/svg\" height=\"24px\"viewBox=\"0 0 24 24\"\n",
              "     width=\"24px\">\n",
              "    <g>\n",
              "        <path d=\"M19 3H5c-1.1 0-2 .9-2 2v14c0 1.1.9 2 2 2h14c1.1 0 2-.9 2-2V5c0-1.1-.9-2-2-2zM9 17H7v-7h2v7zm4 0h-2V7h2v10zm4 0h-2v-4h2v4z\"/>\n",
              "    </g>\n",
              "</svg>\n",
              "      </button>\n",
              "\n",
              "<style>\n",
              "  .colab-df-quickchart {\n",
              "      --bg-color: #E8F0FE;\n",
              "      --fill-color: #1967D2;\n",
              "      --hover-bg-color: #E2EBFA;\n",
              "      --hover-fill-color: #174EA6;\n",
              "      --disabled-fill-color: #AAA;\n",
              "      --disabled-bg-color: #DDD;\n",
              "  }\n",
              "\n",
              "  [theme=dark] .colab-df-quickchart {\n",
              "      --bg-color: #3B4455;\n",
              "      --fill-color: #D2E3FC;\n",
              "      --hover-bg-color: #434B5C;\n",
              "      --hover-fill-color: #FFFFFF;\n",
              "      --disabled-bg-color: #3B4455;\n",
              "      --disabled-fill-color: #666;\n",
              "  }\n",
              "\n",
              "  .colab-df-quickchart {\n",
              "    background-color: var(--bg-color);\n",
              "    border: none;\n",
              "    border-radius: 50%;\n",
              "    cursor: pointer;\n",
              "    display: none;\n",
              "    fill: var(--fill-color);\n",
              "    height: 32px;\n",
              "    padding: 0;\n",
              "    width: 32px;\n",
              "  }\n",
              "\n",
              "  .colab-df-quickchart:hover {\n",
              "    background-color: var(--hover-bg-color);\n",
              "    box-shadow: 0 1px 2px rgba(60, 64, 67, 0.3), 0 1px 3px 1px rgba(60, 64, 67, 0.15);\n",
              "    fill: var(--button-hover-fill-color);\n",
              "  }\n",
              "\n",
              "  .colab-df-quickchart-complete:disabled,\n",
              "  .colab-df-quickchart-complete:disabled:hover {\n",
              "    background-color: var(--disabled-bg-color);\n",
              "    fill: var(--disabled-fill-color);\n",
              "    box-shadow: none;\n",
              "  }\n",
              "\n",
              "  .colab-df-spinner {\n",
              "    border: 2px solid var(--fill-color);\n",
              "    border-color: transparent;\n",
              "    border-bottom-color: var(--fill-color);\n",
              "    animation:\n",
              "      spin 1s steps(1) infinite;\n",
              "  }\n",
              "\n",
              "  @keyframes spin {\n",
              "    0% {\n",
              "      border-color: transparent;\n",
              "      border-bottom-color: var(--fill-color);\n",
              "      border-left-color: var(--fill-color);\n",
              "    }\n",
              "    20% {\n",
              "      border-color: transparent;\n",
              "      border-left-color: var(--fill-color);\n",
              "      border-top-color: var(--fill-color);\n",
              "    }\n",
              "    30% {\n",
              "      border-color: transparent;\n",
              "      border-left-color: var(--fill-color);\n",
              "      border-top-color: var(--fill-color);\n",
              "      border-right-color: var(--fill-color);\n",
              "    }\n",
              "    40% {\n",
              "      border-color: transparent;\n",
              "      border-right-color: var(--fill-color);\n",
              "      border-top-color: var(--fill-color);\n",
              "    }\n",
              "    60% {\n",
              "      border-color: transparent;\n",
              "      border-right-color: var(--fill-color);\n",
              "    }\n",
              "    80% {\n",
              "      border-color: transparent;\n",
              "      border-right-color: var(--fill-color);\n",
              "      border-bottom-color: var(--fill-color);\n",
              "    }\n",
              "    90% {\n",
              "      border-color: transparent;\n",
              "      border-bottom-color: var(--fill-color);\n",
              "    }\n",
              "  }\n",
              "</style>\n",
              "\n",
              "      <script>\n",
              "        async function quickchart(key) {\n",
              "          const quickchartButtonEl =\n",
              "            document.querySelector('#' + key + ' button');\n",
              "          quickchartButtonEl.disabled = true;  // To prevent multiple clicks.\n",
              "          quickchartButtonEl.classList.add('colab-df-spinner');\n",
              "          try {\n",
              "            const charts = await google.colab.kernel.invokeFunction(\n",
              "                'suggestCharts', [key], {});\n",
              "          } catch (error) {\n",
              "            console.error('Error during call to suggestCharts:', error);\n",
              "          }\n",
              "          quickchartButtonEl.classList.remove('colab-df-spinner');\n",
              "          quickchartButtonEl.classList.add('colab-df-quickchart-complete');\n",
              "        }\n",
              "        (() => {\n",
              "          let quickchartButtonEl =\n",
              "            document.querySelector('#df-78571c2f-9d32-40ff-aab3-35c5d38a8b4b button');\n",
              "          quickchartButtonEl.style.display =\n",
              "            google.colab.kernel.accessAllowed ? 'block' : 'none';\n",
              "        })();\n",
              "      </script>\n",
              "    </div>\n",
              "\n",
              "    </div>\n",
              "  </div>\n"
            ],
            "application/vnd.google.colaboratory.intrinsic+json": {
              "type": "dataframe",
              "variable_name": "evaluation_df",
              "summary": "{\n  \"name\": \"evaluation_df\",\n  \"rows\": 100,\n  \"fields\": [\n    {\n      \"column\": \"document\",\n      \"properties\": {\n        \"dtype\": \"string\",\n        \"num_unique_values\": 100,\n        \"samples\": [\n          \"If you have a favorite line from the Harry Potter books, you can easily use it to inspire your own Harry Potter themed mug. For this project, you will need a white mug, and a few Sharpies in varying colors.  Using a Sharpie, write your favorite quote from the books on the mug. Let the mug dry overnight before baking it for 30 minute at 350 degrees. Place the mug in the oven before it heats up and allow it to cool down in the oven before removing. Skip this step and you may find cracks in the mug. Possible quotes for your mug include: \\u201cI solemnly swear I am up to no good,\\u201d \\u201cAlways\\u201d and \\u201cFelix Felicis.\\u201d Every year, Harry goes to Diagon Alley to stock up on potion supplies and you can make your own potion bottles in just a few easy steps. For this project, you will need miniature bottles, cardstock paper, decoupage glue, a magic marker and a rubber band.  Tear the cardstock into small pieces. On each piece, write a potion ingredient in magic marker (ideas include frog, dragon\\u2019s blood, tears, etc). Place a small amount of decoupage glue on the back of each cardstock label, then affix the labels to the bottles. Wrap a rubber band around the labeled bottle to help the glue set. Allow the bottles to dry, then play with them or display them as you wish. If you have a white t-shirt, some black paint and a paintbrush, you can create your own Harry Potter t-shirt featuring the Deathly Hallows.  Place a piece of cardboard in between the layers of the t-shirt. This will keep the paint from seeping through to the back. Paint the outline of a triangle on the t-shirt. The triangle should take up most of the space on the tee. If the triangle is not dark enough, go over it again with another coat of paint. Paint a line from the top of the triangle to the bottom of the triangle. Darken the line as needed. Draw a circle inside the triangle to complete the image of the Deathly Hallows. Darken the circle as needed. Allow the t-shirt to dry before wearing. If you prefer not to freehand the image, you can also look for a template online and use the template to create your painting. Harry Potter's owl, Hedwig, was one of his most loyal friends, and now you can easily make an owl friend of your own. For this project, you will need one small paper plate, two large paper plates, orange paper, two shades of brown paint, wiggle eyes, glue and a brown felt tip pen.  Paint the small plate and one of the large plates dark brown. Paint the other large plate light brown. Let the plates dry. After the plates have dried, draw a series of wavy lines across the light brown plate. These will serve as the owl's feathers. Cut the large dark brown plate in half. Glue the two halves of the dark brown plate diagonally over the light brown plate. The dark brown halves will serve as the owl's wings, and there should be an opening where you can see the light brown plate and the owl's feathers. Glue the small brown plate to the top of the wings to serve as the owl's head. Use the orange paper to cut out feet and a beak for your owl. Attach the feet to the bottom of your owl and the beak to your owl's face. Glue your wiggle eyes onto your owl's face and display your owl.\\n\\nProvide a summary of the article in two or three sentences:\\n\\n\",\n          \"Buy some books about how to survive in the wilderness. The wilderness section of the local bookstore or library will help you. In addition to wilderness skills, you'll need to understand the essentials of survival (food, water, shelter) and plan to ensure all of these.  Understand how to forage and hunt for your own food in a remote environment. Figure out what you'll need to do in the case of dangerous weather (flooding, lightning strike, blizzard) while you're in the wilderness. You're not going to be able to drop out of society in a place like the city, so do some planning and figure out where you're going to go. Go somewhere with a low population and a ready food source\\u2014whether fertile ground that can be planted with a garden, or a nearby stream to catch fish in.   Large amounts of vegetation and animal population are good indicators of a natural environment that can support life. Make sure that you have a constant and nearby water source. This could be a river or stream, a natural spring, or a lake.  Water is the most important element for survival, and you'll need to use it on a daily basis, so make sure the water is clean and plentiful. Research the types of wildlife that you can expect in whatever location you choose to live in. For example, if you're in a forest, are you likely to encounter bears? It's important to know how to survive outside of society before you drop out, especially if you're going to be living in a harsh or remote area. Start by learning how to use basic weapons and tools: a knife, a shovel, rake, hoe, and potentially a gun that is suitable for bringing down most animals without damaging their meat.  You'll likely need to make serious changes to your diet. Living remotely, you'll need to sustain yourself, and this can be done through eating animal proteins and foraging, or growing vegetables in a small garden.  You should also look into learning how to preserve (dry or pickle) meat and vegetables, so you will have enough food to survive during winter months. Unless you're planning to live in an already-existing \\u201coff the grid\\u201d house or rent a cabin, you'll likely need to build your own housing. You can either purchase construction materials before you leave society, or use natural materials (trees, etc.) found in the woods.  Consider that your accommodation will also need to be repaired and renovated from time to time. You'll need to have money saved up to invest in these expenses.  You should also have a plan in place for finding land to live on. The most legal method is to find a cheap, remote plot of land and purchase it. If you would prefer not to own land, or plan to move around frequently, you may find yourself living illegally on National Forest or private property.\\n\\nProvide a summary of the article in two or three sentences:\\n\\n\",\n          \"Your life is full of interesting experiences! Just think of all the times you\\u2019ve told friends or family members stories about yourself. One of these stories might make a great book!  Turn your life stories into fiction using your imagination! Change the names of everyone involved, and add a few exciting incidents that didn\\u2019t really happen. For example, you could write a book inspired by your experiences at camp, about starring in a school play alongside your crush, or about the trials and tribulations you faced while trying out for a team. Historical events, especially if they\\u2019re personal, can be a great source of inspiration. Just as your life experiences are interesting, those of your relatives and ancestors are, as well. Ask your parents and grandparents to tell you their favorite family stories. Then, turn 1 of those stories into a book.  You can write the story as non-fiction, meaning it\\u2019s a true story, or you can use your imagination to make it fiction. For example, you could write a book about how your grandparents reunited after World War II. You might insert your main character into an event that actually happened. Alternatively, you could just write about a character than lives in a time period you think is interesting. Think about historical events or periods you liked learning about in history class.  Do some research about the period. For example, you might write a book that takes place in Ancient Egypt. You can create a realistic story set in a different time period, or you can use history to inspire a fantasy story. You\\u2019ve probably read social media threads where the poster typed out a conversation they overheard, sometimes with added commentary. You could do something similar when writing your book! Listen to a conversation in a public place, then write a book about the people who are having it. Consider using this conversation as your first chapter. What happens next? Where will these characters end up? You know that reading lets you get into someone else\\u2019s mind or travel to a new land. So can writing! Your book is a great opportunity to create a world all your own.  Write a book about a character who shares your favorite hobby. Give your main character a talent you\\u2019ve always wanted to have. Write a book about your favorite fantasy creature, such as a vampire, mermaid, fairy, or elf. Base a book on a game you like to play. You can find writing prompts online, or you could buy a book of prompts. There are even random prompt generators online that will provide you with a unique prompt! Prompts can give you fun ideas for your book.  You could try combining two prompts to make something new. You can find a writing prompt generator here: https://thestoryshack.com/tools/writing-prompt-generator/ Writing classes can help you learn more techniques for developing story ideas. In many cases, you'll learn about different templates that can help you with brainstorming. You'll also have the benefit of bouncing ideas off fellow writers. Look for a creative writing class at your school. You may also be able to find 1 at your local library or community center. If this isn't an option, you could enroll in an online class.\\n\\nProvide a summary of the article in two or three sentences:\\n\\n\"\n        ],\n        \"semantic_type\": \"\",\n        \"description\": \"\"\n      }\n    },\n    {\n      \"column\": \"summary\",\n      \"properties\": {\n        \"dtype\": \"string\",\n        \"num_unique_values\": 100,\n        \"samples\": [\n          \"Customize your own Harry Potter mug. Make your own potion bottles. Make a Harry Potter Deathly Hallows t-shirt. Make an owl out of paper plates.\",\n          \"Research before you go. Choose a location. Learn some survival skills. Learn how to build a shelter.\",\n          \"Develop your own experiences into a story. Talk to your relatives about your family history. Write a book about an event or time period in history. Create a story based on an overheard conversation. Use your imagination to explore an interest of yours. Try a writing prompt. Take a creative writing class.\"\n        ],\n        \"semantic_type\": \"\",\n        \"description\": \"\"\n      }\n    },\n    {\n      \"column\": \"generated_summary\",\n      \"properties\": {\n        \"dtype\": \"string\",\n        \"num_unique_values\": 96,\n        \"samples\": [\n          \"When introducing a new puppy\",\n          \"Managing\",\n          \"This article advises teenagers on\"\n        ],\n        \"semantic_type\": \"\",\n        \"description\": \"\"\n      }\n    },\n    {\n      \"column\": \"scores\",\n      \"properties\": {\n        \"dtype\": \"object\",\n        \"semantic_type\": \"\",\n        \"description\": \"\"\n      }\n    },\n    {\n      \"column\": \"rouge1_precision\",\n      \"properties\": {\n        \"dtype\": \"number\",\n        \"std\": 0.2789091349281378,\n        \"min\": 0.0,\n        \"max\": 1.0,\n        \"num_unique_values\": 22,\n        \"samples\": [\n          0.0,\n          0.5333333333333333,\n          0.38235294117647056\n        ],\n        \"semantic_type\": \"\",\n        \"description\": \"\"\n      }\n    },\n    {\n      \"column\": \"rouge1_recall\",\n      \"properties\": {\n        \"dtype\": \"number\",\n        \"std\": 0.11323254851402705,\n        \"min\": 0.0,\n        \"max\": 0.559322033898305,\n        \"num_unique_values\": 52,\n        \"samples\": [\n          0.02702702702702703,\n          0.08,\n          0.05405405405405406\n        ],\n        \"semantic_type\": \"\",\n        \"description\": \"\"\n      }\n    },\n    {\n      \"column\": \"rouge1_fmeasure\",\n      \"properties\": {\n        \"dtype\": \"number\",\n        \"std\": 0.10326676959572925,\n        \"min\": 0.0,\n        \"max\": 0.5238095238095237,\n        \"num_unique_values\": 60,\n        \"samples\": [\n          0.0,\n          0.1111111111111111,\n          0.046511627906976744\n        ],\n        \"semantic_type\": \"\",\n        \"description\": \"\"\n      }\n    },\n    {\n      \"column\": \"rouge2_precision\",\n      \"properties\": {\n        \"dtype\": \"number\",\n        \"std\": 0.08067171305346592,\n        \"min\": 0.0,\n        \"max\": 0.4,\n        \"num_unique_values\": 15,\n        \"samples\": [\n          0.2,\n          0.09375,\n          0.0\n        ],\n        \"semantic_type\": \"\",\n        \"description\": \"\"\n      }\n    },\n    {\n      \"column\": \"rouge2_recall\",\n      \"properties\": {\n        \"dtype\": \"number\",\n        \"std\": 0.03469057275334285,\n        \"min\": 0.0,\n        \"max\": 0.1896551724137931,\n        \"num_unique_values\": 17,\n        \"samples\": [\n          0.0,\n          0.1896551724137931,\n          0.05263157894736842\n        ],\n        \"semantic_type\": \"\",\n        \"description\": \"\"\n      }\n    },\n    {\n      \"column\": \"rouge2_fmeasure\",\n      \"properties\": {\n        \"dtype\": \"number\",\n        \"std\": 0.035324207173045394,\n        \"min\": 0.0,\n        \"max\": 0.2,\n        \"num_unique_values\": 18,\n        \"samples\": [\n          0.0,\n          0.17741935483870966,\n          0.044444444444444446\n        ],\n        \"semantic_type\": \"\",\n        \"description\": \"\"\n      }\n    },\n    {\n      \"column\": \"rougeL_precision\",\n      \"properties\": {\n        \"dtype\": \"number\",\n        \"std\": 0.2505335473435196,\n        \"min\": 0.0,\n        \"max\": 1.0,\n        \"num_unique_values\": 20,\n        \"samples\": [\n          0.0,\n          0.02127659574468085,\n          0.20689655172413793\n        ],\n        \"semantic_type\": \"\",\n        \"description\": \"\"\n      }\n    },\n    {\n      \"column\": \"rougeL_recall\",\n      \"properties\": {\n        \"dtype\": \"number\",\n        \"std\": 0.08578613155945512,\n        \"min\": 0.0,\n        \"max\": 0.4230769230769231,\n        \"num_unique_values\": 54,\n        \"samples\": [\n          0.02702702702702703,\n          0.05405405405405406,\n          0.022727272727272728\n        ],\n        \"semantic_type\": \"\",\n        \"description\": \"\"\n      }\n    },\n    {\n      \"column\": \"rougeL_fmeasure\",\n      \"properties\": {\n        \"dtype\": \"number\",\n        \"std\": 0.07955636023075795,\n        \"min\": 0.0,\n        \"max\": 0.3666666666666667,\n        \"num_unique_values\": 61,\n        \"samples\": [\n          0.0,\n          0.1111111111111111,\n          0.14285714285714288\n        ],\n        \"semantic_type\": \"\",\n        \"description\": \"\"\n      }\n    }\n  ]\n}"
            }
          },
          "metadata": {},
          "execution_count": 41
        }
      ],
      "source": [
        "evaluation_df.head()"
      ]
    },
    {
      "cell_type": "code",
      "execution_count": 42,
      "metadata": {
        "id": "18m75w6m0R10"
      },
      "outputs": [],
      "source": [
        "evaluation_df_stats = evaluation_df.dropna().describe()"
      ]
    },
    {
      "cell_type": "code",
      "execution_count": 43,
      "metadata": {
        "id": "dYokPWqdUIMv",
        "colab": {
          "base_uri": "https://localhost:8080/",
          "height": 300
        },
        "outputId": "693d8614-a96e-4a84-ae6a-6809b272d403"
      },
      "outputs": [
        {
          "output_type": "execute_result",
          "data": {
            "text/plain": [
              "       rouge1_precision  rouge1_recall  rouge1_fmeasure  rouge2_precision  \\\n",
              "count        100.000000     100.000000       100.000000        100.000000   \n",
              "mean           0.278544       0.075422         0.090331          0.028691   \n",
              "std            0.278909       0.113233         0.103267          0.080672   \n",
              "min            0.000000       0.000000         0.000000          0.000000   \n",
              "25%            0.000000       0.000000         0.000000          0.000000   \n",
              "50%            0.250000       0.037749         0.065591          0.000000   \n",
              "75%            0.400000       0.080833         0.125000          0.000000   \n",
              "max            1.000000       0.559322         0.523810          0.400000   \n",
              "\n",
              "       rouge2_recall  rouge2_fmeasure  rougeL_precision  rougeL_recall  \\\n",
              "count     100.000000       100.000000        100.000000     100.000000   \n",
              "mean        0.012157         0.012977          0.243100       0.061193   \n",
              "std         0.034691         0.035324          0.250534       0.085786   \n",
              "min         0.000000         0.000000          0.000000       0.000000   \n",
              "25%         0.000000         0.000000          0.000000       0.000000   \n",
              "50%         0.000000         0.000000          0.200000       0.034940   \n",
              "75%         0.000000         0.000000          0.333333       0.067857   \n",
              "max         0.189655         0.200000          1.000000       0.423077   \n",
              "\n",
              "       rougeL_fmeasure  \n",
              "count       100.000000  \n",
              "mean          0.074918  \n",
              "std           0.079556  \n",
              "min           0.000000  \n",
              "25%           0.000000  \n",
              "50%           0.059715  \n",
              "75%           0.106725  \n",
              "max           0.366667  "
            ],
            "text/html": [
              "\n",
              "  <div id=\"df-cad2ed3d-8574-4f1c-9efa-61e2ba9461bd\" class=\"colab-df-container\">\n",
              "    <div>\n",
              "<style scoped>\n",
              "    .dataframe tbody tr th:only-of-type {\n",
              "        vertical-align: middle;\n",
              "    }\n",
              "\n",
              "    .dataframe tbody tr th {\n",
              "        vertical-align: top;\n",
              "    }\n",
              "\n",
              "    .dataframe thead th {\n",
              "        text-align: right;\n",
              "    }\n",
              "</style>\n",
              "<table border=\"1\" class=\"dataframe\">\n",
              "  <thead>\n",
              "    <tr style=\"text-align: right;\">\n",
              "      <th></th>\n",
              "      <th>rouge1_precision</th>\n",
              "      <th>rouge1_recall</th>\n",
              "      <th>rouge1_fmeasure</th>\n",
              "      <th>rouge2_precision</th>\n",
              "      <th>rouge2_recall</th>\n",
              "      <th>rouge2_fmeasure</th>\n",
              "      <th>rougeL_precision</th>\n",
              "      <th>rougeL_recall</th>\n",
              "      <th>rougeL_fmeasure</th>\n",
              "    </tr>\n",
              "  </thead>\n",
              "  <tbody>\n",
              "    <tr>\n",
              "      <th>count</th>\n",
              "      <td>100.000000</td>\n",
              "      <td>100.000000</td>\n",
              "      <td>100.000000</td>\n",
              "      <td>100.000000</td>\n",
              "      <td>100.000000</td>\n",
              "      <td>100.000000</td>\n",
              "      <td>100.000000</td>\n",
              "      <td>100.000000</td>\n",
              "      <td>100.000000</td>\n",
              "    </tr>\n",
              "    <tr>\n",
              "      <th>mean</th>\n",
              "      <td>0.278544</td>\n",
              "      <td>0.075422</td>\n",
              "      <td>0.090331</td>\n",
              "      <td>0.028691</td>\n",
              "      <td>0.012157</td>\n",
              "      <td>0.012977</td>\n",
              "      <td>0.243100</td>\n",
              "      <td>0.061193</td>\n",
              "      <td>0.074918</td>\n",
              "    </tr>\n",
              "    <tr>\n",
              "      <th>std</th>\n",
              "      <td>0.278909</td>\n",
              "      <td>0.113233</td>\n",
              "      <td>0.103267</td>\n",
              "      <td>0.080672</td>\n",
              "      <td>0.034691</td>\n",
              "      <td>0.035324</td>\n",
              "      <td>0.250534</td>\n",
              "      <td>0.085786</td>\n",
              "      <td>0.079556</td>\n",
              "    </tr>\n",
              "    <tr>\n",
              "      <th>min</th>\n",
              "      <td>0.000000</td>\n",
              "      <td>0.000000</td>\n",
              "      <td>0.000000</td>\n",
              "      <td>0.000000</td>\n",
              "      <td>0.000000</td>\n",
              "      <td>0.000000</td>\n",
              "      <td>0.000000</td>\n",
              "      <td>0.000000</td>\n",
              "      <td>0.000000</td>\n",
              "    </tr>\n",
              "    <tr>\n",
              "      <th>25%</th>\n",
              "      <td>0.000000</td>\n",
              "      <td>0.000000</td>\n",
              "      <td>0.000000</td>\n",
              "      <td>0.000000</td>\n",
              "      <td>0.000000</td>\n",
              "      <td>0.000000</td>\n",
              "      <td>0.000000</td>\n",
              "      <td>0.000000</td>\n",
              "      <td>0.000000</td>\n",
              "    </tr>\n",
              "    <tr>\n",
              "      <th>50%</th>\n",
              "      <td>0.250000</td>\n",
              "      <td>0.037749</td>\n",
              "      <td>0.065591</td>\n",
              "      <td>0.000000</td>\n",
              "      <td>0.000000</td>\n",
              "      <td>0.000000</td>\n",
              "      <td>0.200000</td>\n",
              "      <td>0.034940</td>\n",
              "      <td>0.059715</td>\n",
              "    </tr>\n",
              "    <tr>\n",
              "      <th>75%</th>\n",
              "      <td>0.400000</td>\n",
              "      <td>0.080833</td>\n",
              "      <td>0.125000</td>\n",
              "      <td>0.000000</td>\n",
              "      <td>0.000000</td>\n",
              "      <td>0.000000</td>\n",
              "      <td>0.333333</td>\n",
              "      <td>0.067857</td>\n",
              "      <td>0.106725</td>\n",
              "    </tr>\n",
              "    <tr>\n",
              "      <th>max</th>\n",
              "      <td>1.000000</td>\n",
              "      <td>0.559322</td>\n",
              "      <td>0.523810</td>\n",
              "      <td>0.400000</td>\n",
              "      <td>0.189655</td>\n",
              "      <td>0.200000</td>\n",
              "      <td>1.000000</td>\n",
              "      <td>0.423077</td>\n",
              "      <td>0.366667</td>\n",
              "    </tr>\n",
              "  </tbody>\n",
              "</table>\n",
              "</div>\n",
              "    <div class=\"colab-df-buttons\">\n",
              "\n",
              "  <div class=\"colab-df-container\">\n",
              "    <button class=\"colab-df-convert\" onclick=\"convertToInteractive('df-cad2ed3d-8574-4f1c-9efa-61e2ba9461bd')\"\n",
              "            title=\"Convert this dataframe to an interactive table.\"\n",
              "            style=\"display:none;\">\n",
              "\n",
              "  <svg xmlns=\"http://www.w3.org/2000/svg\" height=\"24px\" viewBox=\"0 -960 960 960\">\n",
              "    <path d=\"M120-120v-720h720v720H120Zm60-500h600v-160H180v160Zm220 220h160v-160H400v160Zm0 220h160v-160H400v160ZM180-400h160v-160H180v160Zm440 0h160v-160H620v160ZM180-180h160v-160H180v160Zm440 0h160v-160H620v160Z\"/>\n",
              "  </svg>\n",
              "    </button>\n",
              "\n",
              "  <style>\n",
              "    .colab-df-container {\n",
              "      display:flex;\n",
              "      gap: 12px;\n",
              "    }\n",
              "\n",
              "    .colab-df-convert {\n",
              "      background-color: #E8F0FE;\n",
              "      border: none;\n",
              "      border-radius: 50%;\n",
              "      cursor: pointer;\n",
              "      display: none;\n",
              "      fill: #1967D2;\n",
              "      height: 32px;\n",
              "      padding: 0 0 0 0;\n",
              "      width: 32px;\n",
              "    }\n",
              "\n",
              "    .colab-df-convert:hover {\n",
              "      background-color: #E2EBFA;\n",
              "      box-shadow: 0px 1px 2px rgba(60, 64, 67, 0.3), 0px 1px 3px 1px rgba(60, 64, 67, 0.15);\n",
              "      fill: #174EA6;\n",
              "    }\n",
              "\n",
              "    .colab-df-buttons div {\n",
              "      margin-bottom: 4px;\n",
              "    }\n",
              "\n",
              "    [theme=dark] .colab-df-convert {\n",
              "      background-color: #3B4455;\n",
              "      fill: #D2E3FC;\n",
              "    }\n",
              "\n",
              "    [theme=dark] .colab-df-convert:hover {\n",
              "      background-color: #434B5C;\n",
              "      box-shadow: 0px 1px 3px 1px rgba(0, 0, 0, 0.15);\n",
              "      filter: drop-shadow(0px 1px 2px rgba(0, 0, 0, 0.3));\n",
              "      fill: #FFFFFF;\n",
              "    }\n",
              "  </style>\n",
              "\n",
              "    <script>\n",
              "      const buttonEl =\n",
              "        document.querySelector('#df-cad2ed3d-8574-4f1c-9efa-61e2ba9461bd button.colab-df-convert');\n",
              "      buttonEl.style.display =\n",
              "        google.colab.kernel.accessAllowed ? 'block' : 'none';\n",
              "\n",
              "      async function convertToInteractive(key) {\n",
              "        const element = document.querySelector('#df-cad2ed3d-8574-4f1c-9efa-61e2ba9461bd');\n",
              "        const dataTable =\n",
              "          await google.colab.kernel.invokeFunction('convertToInteractive',\n",
              "                                                    [key], {});\n",
              "        if (!dataTable) return;\n",
              "\n",
              "        const docLinkHtml = 'Like what you see? Visit the ' +\n",
              "          '<a target=\"_blank\" href=https://colab.research.google.com/notebooks/data_table.ipynb>data table notebook</a>'\n",
              "          + ' to learn more about interactive tables.';\n",
              "        element.innerHTML = '';\n",
              "        dataTable['output_type'] = 'display_data';\n",
              "        await google.colab.output.renderOutput(dataTable, element);\n",
              "        const docLink = document.createElement('div');\n",
              "        docLink.innerHTML = docLinkHtml;\n",
              "        element.appendChild(docLink);\n",
              "      }\n",
              "    </script>\n",
              "  </div>\n",
              "\n",
              "\n",
              "    <div id=\"df-2eb147df-c068-4b3b-98d7-b45ad2d2d5e1\">\n",
              "      <button class=\"colab-df-quickchart\" onclick=\"quickchart('df-2eb147df-c068-4b3b-98d7-b45ad2d2d5e1')\"\n",
              "                title=\"Suggest charts\"\n",
              "                style=\"display:none;\">\n",
              "\n",
              "<svg xmlns=\"http://www.w3.org/2000/svg\" height=\"24px\"viewBox=\"0 0 24 24\"\n",
              "     width=\"24px\">\n",
              "    <g>\n",
              "        <path d=\"M19 3H5c-1.1 0-2 .9-2 2v14c0 1.1.9 2 2 2h14c1.1 0 2-.9 2-2V5c0-1.1-.9-2-2-2zM9 17H7v-7h2v7zm4 0h-2V7h2v10zm4 0h-2v-4h2v4z\"/>\n",
              "    </g>\n",
              "</svg>\n",
              "      </button>\n",
              "\n",
              "<style>\n",
              "  .colab-df-quickchart {\n",
              "      --bg-color: #E8F0FE;\n",
              "      --fill-color: #1967D2;\n",
              "      --hover-bg-color: #E2EBFA;\n",
              "      --hover-fill-color: #174EA6;\n",
              "      --disabled-fill-color: #AAA;\n",
              "      --disabled-bg-color: #DDD;\n",
              "  }\n",
              "\n",
              "  [theme=dark] .colab-df-quickchart {\n",
              "      --bg-color: #3B4455;\n",
              "      --fill-color: #D2E3FC;\n",
              "      --hover-bg-color: #434B5C;\n",
              "      --hover-fill-color: #FFFFFF;\n",
              "      --disabled-bg-color: #3B4455;\n",
              "      --disabled-fill-color: #666;\n",
              "  }\n",
              "\n",
              "  .colab-df-quickchart {\n",
              "    background-color: var(--bg-color);\n",
              "    border: none;\n",
              "    border-radius: 50%;\n",
              "    cursor: pointer;\n",
              "    display: none;\n",
              "    fill: var(--fill-color);\n",
              "    height: 32px;\n",
              "    padding: 0;\n",
              "    width: 32px;\n",
              "  }\n",
              "\n",
              "  .colab-df-quickchart:hover {\n",
              "    background-color: var(--hover-bg-color);\n",
              "    box-shadow: 0 1px 2px rgba(60, 64, 67, 0.3), 0 1px 3px 1px rgba(60, 64, 67, 0.15);\n",
              "    fill: var(--button-hover-fill-color);\n",
              "  }\n",
              "\n",
              "  .colab-df-quickchart-complete:disabled,\n",
              "  .colab-df-quickchart-complete:disabled:hover {\n",
              "    background-color: var(--disabled-bg-color);\n",
              "    fill: var(--disabled-fill-color);\n",
              "    box-shadow: none;\n",
              "  }\n",
              "\n",
              "  .colab-df-spinner {\n",
              "    border: 2px solid var(--fill-color);\n",
              "    border-color: transparent;\n",
              "    border-bottom-color: var(--fill-color);\n",
              "    animation:\n",
              "      spin 1s steps(1) infinite;\n",
              "  }\n",
              "\n",
              "  @keyframes spin {\n",
              "    0% {\n",
              "      border-color: transparent;\n",
              "      border-bottom-color: var(--fill-color);\n",
              "      border-left-color: var(--fill-color);\n",
              "    }\n",
              "    20% {\n",
              "      border-color: transparent;\n",
              "      border-left-color: var(--fill-color);\n",
              "      border-top-color: var(--fill-color);\n",
              "    }\n",
              "    30% {\n",
              "      border-color: transparent;\n",
              "      border-left-color: var(--fill-color);\n",
              "      border-top-color: var(--fill-color);\n",
              "      border-right-color: var(--fill-color);\n",
              "    }\n",
              "    40% {\n",
              "      border-color: transparent;\n",
              "      border-right-color: var(--fill-color);\n",
              "      border-top-color: var(--fill-color);\n",
              "    }\n",
              "    60% {\n",
              "      border-color: transparent;\n",
              "      border-right-color: var(--fill-color);\n",
              "    }\n",
              "    80% {\n",
              "      border-color: transparent;\n",
              "      border-right-color: var(--fill-color);\n",
              "      border-bottom-color: var(--fill-color);\n",
              "    }\n",
              "    90% {\n",
              "      border-color: transparent;\n",
              "      border-bottom-color: var(--fill-color);\n",
              "    }\n",
              "  }\n",
              "</style>\n",
              "\n",
              "      <script>\n",
              "        async function quickchart(key) {\n",
              "          const quickchartButtonEl =\n",
              "            document.querySelector('#' + key + ' button');\n",
              "          quickchartButtonEl.disabled = true;  // To prevent multiple clicks.\n",
              "          quickchartButtonEl.classList.add('colab-df-spinner');\n",
              "          try {\n",
              "            const charts = await google.colab.kernel.invokeFunction(\n",
              "                'suggestCharts', [key], {});\n",
              "          } catch (error) {\n",
              "            console.error('Error during call to suggestCharts:', error);\n",
              "          }\n",
              "          quickchartButtonEl.classList.remove('colab-df-spinner');\n",
              "          quickchartButtonEl.classList.add('colab-df-quickchart-complete');\n",
              "        }\n",
              "        (() => {\n",
              "          let quickchartButtonEl =\n",
              "            document.querySelector('#df-2eb147df-c068-4b3b-98d7-b45ad2d2d5e1 button');\n",
              "          quickchartButtonEl.style.display =\n",
              "            google.colab.kernel.accessAllowed ? 'block' : 'none';\n",
              "        })();\n",
              "      </script>\n",
              "    </div>\n",
              "\n",
              "  <div id=\"id_b9a4426e-751a-4de8-864b-f515498dc22e\">\n",
              "    <style>\n",
              "      .colab-df-generate {\n",
              "        background-color: #E8F0FE;\n",
              "        border: none;\n",
              "        border-radius: 50%;\n",
              "        cursor: pointer;\n",
              "        display: none;\n",
              "        fill: #1967D2;\n",
              "        height: 32px;\n",
              "        padding: 0 0 0 0;\n",
              "        width: 32px;\n",
              "      }\n",
              "\n",
              "      .colab-df-generate:hover {\n",
              "        background-color: #E2EBFA;\n",
              "        box-shadow: 0px 1px 2px rgba(60, 64, 67, 0.3), 0px 1px 3px 1px rgba(60, 64, 67, 0.15);\n",
              "        fill: #174EA6;\n",
              "      }\n",
              "\n",
              "      [theme=dark] .colab-df-generate {\n",
              "        background-color: #3B4455;\n",
              "        fill: #D2E3FC;\n",
              "      }\n",
              "\n",
              "      [theme=dark] .colab-df-generate:hover {\n",
              "        background-color: #434B5C;\n",
              "        box-shadow: 0px 1px 3px 1px rgba(0, 0, 0, 0.15);\n",
              "        filter: drop-shadow(0px 1px 2px rgba(0, 0, 0, 0.3));\n",
              "        fill: #FFFFFF;\n",
              "      }\n",
              "    </style>\n",
              "    <button class=\"colab-df-generate\" onclick=\"generateWithVariable('evaluation_df_stats')\"\n",
              "            title=\"Generate code using this dataframe.\"\n",
              "            style=\"display:none;\">\n",
              "\n",
              "  <svg xmlns=\"http://www.w3.org/2000/svg\" height=\"24px\"viewBox=\"0 0 24 24\"\n",
              "       width=\"24px\">\n",
              "    <path d=\"M7,19H8.4L18.45,9,17,7.55,7,17.6ZM5,21V16.75L18.45,3.32a2,2,0,0,1,2.83,0l1.4,1.43a1.91,1.91,0,0,1,.58,1.4,1.91,1.91,0,0,1-.58,1.4L9.25,21ZM18.45,9,17,7.55Zm-12,3A5.31,5.31,0,0,0,4.9,8.1,5.31,5.31,0,0,0,1,6.5,5.31,5.31,0,0,0,4.9,4.9,5.31,5.31,0,0,0,6.5,1,5.31,5.31,0,0,0,8.1,4.9,5.31,5.31,0,0,0,12,6.5,5.46,5.46,0,0,0,6.5,12Z\"/>\n",
              "  </svg>\n",
              "    </button>\n",
              "    <script>\n",
              "      (() => {\n",
              "      const buttonEl =\n",
              "        document.querySelector('#id_b9a4426e-751a-4de8-864b-f515498dc22e button.colab-df-generate');\n",
              "      buttonEl.style.display =\n",
              "        google.colab.kernel.accessAllowed ? 'block' : 'none';\n",
              "\n",
              "      buttonEl.onclick = () => {\n",
              "        google.colab.notebook.generateWithVariable('evaluation_df_stats');\n",
              "      }\n",
              "      })();\n",
              "    </script>\n",
              "  </div>\n",
              "\n",
              "    </div>\n",
              "  </div>\n"
            ],
            "application/vnd.google.colaboratory.intrinsic+json": {
              "type": "dataframe",
              "variable_name": "evaluation_df_stats",
              "summary": "{\n  \"name\": \"evaluation_df_stats\",\n  \"rows\": 8,\n  \"fields\": [\n    {\n      \"column\": \"rouge1_precision\",\n      \"properties\": {\n        \"dtype\": \"number\",\n        \"std\": 35.24522750074588,\n        \"min\": 0.0,\n        \"max\": 100.0,\n        \"num_unique_values\": 7,\n        \"samples\": [\n          100.0,\n          0.27854445885911505,\n          0.4\n        ],\n        \"semantic_type\": \"\",\n        \"description\": \"\"\n      }\n    },\n    {\n      \"column\": \"rouge1_recall\",\n      \"properties\": {\n        \"dtype\": \"number\",\n        \"std\": 35.31204055183327,\n        \"min\": 0.0,\n        \"max\": 100.0,\n        \"num_unique_values\": 7,\n        \"samples\": [\n          100.0,\n          0.07542236017192483,\n          0.08083333333333334\n        ],\n        \"semantic_type\": \"\",\n        \"description\": \"\"\n      }\n    },\n    {\n      \"column\": \"rouge1_fmeasure\",\n      \"properties\": {\n        \"dtype\": \"number\",\n        \"std\": 35.3098733716972,\n        \"min\": 0.0,\n        \"max\": 100.0,\n        \"num_unique_values\": 7,\n        \"samples\": [\n          100.0,\n          0.09033098812800076,\n          0.125\n        ],\n        \"semantic_type\": \"\",\n        \"description\": \"\"\n      }\n    },\n    {\n      \"column\": \"rouge2_precision\",\n      \"properties\": {\n        \"dtype\": \"number\",\n        \"std\": 35.32987570540305,\n        \"min\": 0.0,\n        \"max\": 100.0,\n        \"num_unique_values\": 5,\n        \"samples\": [\n          0.0286914172783738,\n          0.4,\n          0.08067171305346592\n        ],\n        \"semantic_type\": \"\",\n        \"description\": \"\"\n      }\n    },\n    {\n      \"column\": \"rouge2_recall\",\n      \"properties\": {\n        \"dtype\": \"number\",\n        \"std\": 35.34345313126456,\n        \"min\": 0.0,\n        \"max\": 100.0,\n        \"num_unique_values\": 5,\n        \"samples\": [\n          0.012157211581779211,\n          0.1896551724137931,\n          0.03469057275334285\n        ],\n        \"semantic_type\": \"\",\n        \"description\": \"\"\n      }\n    },\n    {\n      \"column\": \"rouge2_fmeasure\",\n      \"properties\": {\n        \"dtype\": \"number\",\n        \"std\": 35.34286383271282,\n        \"min\": 0.0,\n        \"max\": 100.0,\n        \"num_unique_values\": 5,\n        \"samples\": [\n          0.012977481419206063,\n          0.2,\n          0.035324207173045394\n        ],\n        \"semantic_type\": \"\",\n        \"description\": \"\"\n      }\n    },\n    {\n      \"column\": \"rougeL_precision\",\n      \"properties\": {\n        \"dtype\": \"number\",\n        \"std\": 35.25435176642384,\n        \"min\": 0.0,\n        \"max\": 100.0,\n        \"num_unique_values\": 7,\n        \"samples\": [\n          100.0,\n          0.2431000050100181,\n          0.3333333333333333\n        ],\n        \"semantic_type\": \"\",\n        \"description\": \"\"\n      }\n    },\n    {\n      \"column\": \"rougeL_recall\",\n      \"properties\": {\n        \"dtype\": \"number\",\n        \"std\": 35.3216202328233,\n        \"min\": 0.0,\n        \"max\": 100.0,\n        \"num_unique_values\": 7,\n        \"samples\": [\n          100.0,\n          0.06119293796820108,\n          0.06785714285714285\n        ],\n        \"semantic_type\": \"\",\n        \"description\": \"\"\n      }\n    },\n    {\n      \"column\": \"rougeL_fmeasure\",\n      \"properties\": {\n        \"dtype\": \"number\",\n        \"std\": 35.320800679835806,\n        \"min\": 0.0,\n        \"max\": 100.0,\n        \"num_unique_values\": 7,\n        \"samples\": [\n          100.0,\n          0.07491790709319605,\n          0.1067251461988304\n        ],\n        \"semantic_type\": \"\",\n        \"description\": \"\"\n      }\n    }\n  ]\n}"
            }
          },
          "metadata": {},
          "execution_count": 43
        }
      ],
      "source": [
        "# Statistics of the evaluation dataframe.\n",
        "evaluation_df_stats"
      ]
    },
    {
      "cell_type": "code",
      "execution_count": 44,
      "metadata": {
        "id": "4fdVjY_JWcmq",
        "colab": {
          "base_uri": "https://localhost:8080/"
        },
        "outputId": "51e63f29-5fb8-4214-d224-b3cd273065f0"
      },
      "outputs": [
        {
          "output_type": "stream",
          "name": "stdout",
          "text": [
            "Mean rougeL_precision is 0.2431000050100181\n"
          ]
        }
      ],
      "source": [
        "print(\"Mean rougeL_precision is\", evaluation_df_stats.rougeL_precision[\"mean\"])"
      ]
    },
    {
      "cell_type": "markdown",
      "metadata": {
        "id": "IgMb3E0YEqL2"
      },
      "source": [
        "## Step7: Fine-tune the Model\n",
        "\n",
        " - `source_model`: Specifies the base Gemini model version you want to fine-tune.\n",
        " - `train_dataset`: Path to your training data in JSONL format.\n",
        "\n",
        "  *Optional parameters*\n",
        " - `validation_dataset`: If provided, this data is used to evaluate the model during tuning.\n",
        " - `tuned_model_display_name`: Display name for the tuned model.\n",
        " - `epochs`: The number of training epochs to run.\n",
        " - `learning_rate_multiplier`: A value to scale the learning rate during training.\n",
        " - `adapter_size` : Gemini 2.5 Flash supports Adapter length [1, 2, 4, 8], default value is 4."
      ]
    },
    {
      "cell_type": "markdown",
      "metadata": {
        "id": "4e81137766c6"
      },
      "source": [
        "**Note: The default hyperparameter settings are optimized for optimal performance based on rigorous testing and are recommended for initial use. Users may customize these parameters to address specific performance requirements.**"
      ]
    },
    {
      "cell_type": "code",
      "execution_count": 45,
      "metadata": {
        "id": "vQM2vDBZ27b_",
        "colab": {
          "base_uri": "https://localhost:8080/",
          "height": 92
        },
        "outputId": "a8004753-eee3-406d-863d-bf7a688b2f76"
      },
      "outputs": [
        {
          "output_type": "stream",
          "name": "stderr",
          "text": [
            "/tmp/ipython-input-3919398192.py:12: ExperimentalWarning: The SDK's tuning implementation is experimental, and may change in future versions.\n",
            "  sft_tuning_job = client.tunings.tune(\n"
          ]
        },
        {
          "output_type": "display_data",
          "data": {
            "text/plain": [
              "<IPython.core.display.HTML object>"
            ],
            "text/html": [
              "\n",
              "        \n",
              "    <link rel=\"stylesheet\" href=\"https://fonts.googleapis.com/icon?family=Material+Icons\">\n",
              "    <style>\n",
              "      .view-vertex-resource,\n",
              "      .view-vertex-resource:hover,\n",
              "      .view-vertex-resource:visited {\n",
              "        position: relative;\n",
              "        display: inline-flex;\n",
              "        flex-direction: row;\n",
              "        height: 32px;\n",
              "        padding: 0 12px;\n",
              "          margin: 4px 18px;\n",
              "        gap: 4px;\n",
              "        border-radius: 4px;\n",
              "\n",
              "        align-items: center;\n",
              "        justify-content: center;\n",
              "        background-color: rgb(255, 255, 255);\n",
              "        color: rgb(51, 103, 214);\n",
              "\n",
              "        font-family: Roboto,\"Helvetica Neue\",sans-serif;\n",
              "        font-size: 13px;\n",
              "        font-weight: 500;\n",
              "        text-transform: uppercase;\n",
              "        text-decoration: none !important;\n",
              "\n",
              "        transition: box-shadow 280ms cubic-bezier(0.4, 0, 0.2, 1) 0s;\n",
              "        box-shadow: 0px 3px 1px -2px rgba(0,0,0,0.2), 0px 2px 2px 0px rgba(0,0,0,0.14), 0px 1px 5px 0px rgba(0,0,0,0.12);\n",
              "      }\n",
              "      .view-vertex-resource:active {\n",
              "        box-shadow: 0px 5px 5px -3px rgba(0,0,0,0.2),0px 8px 10px 1px rgba(0,0,0,0.14),0px 3px 14px 2px rgba(0,0,0,0.12);\n",
              "      }\n",
              "      .view-vertex-resource:active .view-vertex-ripple::before {\n",
              "        position: absolute;\n",
              "        top: 0;\n",
              "        bottom: 0;\n",
              "        left: 0;\n",
              "        right: 0;\n",
              "        border-radius: 4px;\n",
              "        pointer-events: none;\n",
              "\n",
              "        content: '';\n",
              "        background-color: rgb(51, 103, 214);\n",
              "        opacity: 0.12;\n",
              "      }\n",
              "      .view-vertex-icon {\n",
              "        font-size: 18px;\n",
              "      }\n",
              "    </style>\n",
              "  \n",
              "        <a class=\"view-vertex-resource\" id=\"view-vertex-resource-d8d27d09-25ad-4d1e-9e48-9404e54a0a61\" href=\"#view-view-vertex-resource-d8d27d09-25ad-4d1e-9e48-9404e54a0a61\">\n",
              "          <span class=\"material-icons view-vertex-icon\">tune</span>\n",
              "          <span>View Tuning Job</span>\n",
              "        </a>\n",
              "        \n",
              "        <script>\n",
              "          (function () {\n",
              "            const link = document.getElementById('view-vertex-resource-d8d27d09-25ad-4d1e-9e48-9404e54a0a61');\n",
              "            link.addEventListener('click', (e) => {\n",
              "              if (window.google?.colab?.openUrl) {\n",
              "                window.google.colab.openUrl('https://console.cloud.google.com/vertex-ai/generative/language/locations/us-central1/tuning/tuningJob/3277970390936190976?project=190419722862');\n",
              "              } else {\n",
              "                window.open('https://console.cloud.google.com/vertex-ai/generative/language/locations/us-central1/tuning/tuningJob/3277970390936190976?project=190419722862', '_blank');\n",
              "              }\n",
              "              e.stopPropagation();\n",
              "              e.preventDefault();\n",
              "            });\n",
              "          })();\n",
              "        </script>\n",
              "    "
            ]
          },
          "metadata": {}
        }
      ],
      "source": [
        "tuned_model_display_name = \"fine-tuned-model-v1\"  # @param {type:\"string\"}\n",
        "\n",
        "training_dataset = {\n",
        "    \"gcs_uri\": f\"{BUCKET_URI}/train/sft_train_samples.jsonl\",\n",
        "}\n",
        "\n",
        "validation_dataset = types.TuningValidationDataset(\n",
        "    gcs_uri=f\"{BUCKET_URI}/val/sft_val_samples.jsonl\"\n",
        ")\n",
        "\n",
        "# Tune a model using `tune` method.\n",
        "sft_tuning_job = client.tunings.tune(\n",
        "    base_model=base_model,\n",
        "    training_dataset=training_dataset,\n",
        "    config=types.CreateTuningJobConfig(\n",
        "        tuned_model_display_name=tuned_model_display_name,\n",
        "        validation_dataset=validation_dataset,\n",
        "    ),\n",
        ")"
      ]
    },
    {
      "cell_type": "code",
      "execution_count": 46,
      "metadata": {
        "id": "yLlAgVjCNqXg",
        "colab": {
          "base_uri": "https://localhost:8080/",
          "height": 1000
        },
        "outputId": "a2ab5b63-11d6-4861-eabd-a0b42465ba90"
      },
      "outputs": [
        {
          "output_type": "display_data",
          "data": {
            "text/plain": [
              "<IPython.core.display.HTML object>"
            ],
            "text/html": [
              "\n",
              "        \n",
              "    <link rel=\"stylesheet\" href=\"https://fonts.googleapis.com/icon?family=Material+Icons\">\n",
              "    <style>\n",
              "      .view-vertex-resource,\n",
              "      .view-vertex-resource:hover,\n",
              "      .view-vertex-resource:visited {\n",
              "        position: relative;\n",
              "        display: inline-flex;\n",
              "        flex-direction: row;\n",
              "        height: 32px;\n",
              "        padding: 0 12px;\n",
              "          margin: 4px 18px;\n",
              "        gap: 4px;\n",
              "        border-radius: 4px;\n",
              "\n",
              "        align-items: center;\n",
              "        justify-content: center;\n",
              "        background-color: rgb(255, 255, 255);\n",
              "        color: rgb(51, 103, 214);\n",
              "\n",
              "        font-family: Roboto,\"Helvetica Neue\",sans-serif;\n",
              "        font-size: 13px;\n",
              "        font-weight: 500;\n",
              "        text-transform: uppercase;\n",
              "        text-decoration: none !important;\n",
              "\n",
              "        transition: box-shadow 280ms cubic-bezier(0.4, 0, 0.2, 1) 0s;\n",
              "        box-shadow: 0px 3px 1px -2px rgba(0,0,0,0.2), 0px 2px 2px 0px rgba(0,0,0,0.14), 0px 1px 5px 0px rgba(0,0,0,0.12);\n",
              "      }\n",
              "      .view-vertex-resource:active {\n",
              "        box-shadow: 0px 5px 5px -3px rgba(0,0,0,0.2),0px 8px 10px 1px rgba(0,0,0,0.14),0px 3px 14px 2px rgba(0,0,0,0.12);\n",
              "      }\n",
              "      .view-vertex-resource:active .view-vertex-ripple::before {\n",
              "        position: absolute;\n",
              "        top: 0;\n",
              "        bottom: 0;\n",
              "        left: 0;\n",
              "        right: 0;\n",
              "        border-radius: 4px;\n",
              "        pointer-events: none;\n",
              "\n",
              "        content: '';\n",
              "        background-color: rgb(51, 103, 214);\n",
              "        opacity: 0.12;\n",
              "      }\n",
              "      .view-vertex-icon {\n",
              "        font-size: 18px;\n",
              "      }\n",
              "    </style>\n",
              "  \n",
              "        <a class=\"view-vertex-resource\" id=\"view-vertex-resource-c5ee55ae-81d2-4459-8a2a-272663e39bef\" href=\"#view-view-vertex-resource-c5ee55ae-81d2-4459-8a2a-272663e39bef\">\n",
              "          <span class=\"material-icons view-vertex-icon\">science</span>\n",
              "          <span>View Experiment</span>\n",
              "        </a>\n",
              "        \n",
              "        <script>\n",
              "          (function () {\n",
              "            const link = document.getElementById('view-vertex-resource-c5ee55ae-81d2-4459-8a2a-272663e39bef');\n",
              "            link.addEventListener('click', (e) => {\n",
              "              if (window.google?.colab?.openUrl) {\n",
              "                window.google.colab.openUrl('https://console.cloud.google.com/vertex-ai/experiments/locations/us-central1/experiments/tuning-experiment-20250925132713608786/runs?project=adk-engine-exp');\n",
              "              } else {\n",
              "                window.open('https://console.cloud.google.com/vertex-ai/experiments/locations/us-central1/experiments/tuning-experiment-20250925132713608786/runs?project=adk-engine-exp', '_blank');\n",
              "              }\n",
              "              e.stopPropagation();\n",
              "              e.preventDefault();\n",
              "            });\n",
              "          })();\n",
              "        </script>\n",
              "    "
            ]
          },
          "metadata": {}
        },
        {
          "output_type": "execute_result",
          "data": {
            "text/plain": [
              "TuningJob(\n",
              "  base_model='gemini-2.5-flash',\n",
              "  create_time=datetime.datetime(2025, 9, 25, 20, 23, 4, 894715, tzinfo=TzInfo(UTC)),\n",
              "  experiment='projects/190419722862/locations/us-central1/metadataStores/default/contexts/tuning-experiment-20250925132713608786',\n",
              "  name='projects/190419722862/locations/us-central1/tuningJobs/3277970390936190976',\n",
              "  sdk_http_response=HttpResponse(\n",
              "    headers=<dict len=9>\n",
              "  ),\n",
              "  start_time=datetime.datetime(2025, 9, 25, 20, 24, 18, 60105, tzinfo=TzInfo(UTC)),\n",
              "  state=<JobState.JOB_STATE_RUNNING: 'JOB_STATE_RUNNING'>,\n",
              "  supervised_tuning_spec=SupervisedTuningSpec(\n",
              "    hyper_parameters=SupervisedHyperParameters(\n",
              "      adapter_size=<AdapterSize.ADAPTER_SIZE_FOUR: 'ADAPTER_SIZE_FOUR'>,\n",
              "      epoch_count=7,\n",
              "      learning_rate_multiplier=5.0\n",
              "    ),\n",
              "    training_dataset_uri='gs://fine-tuning-exp-sept25/train/sft_train_samples.jsonl',\n",
              "    validation_dataset_uri='gs://fine-tuning-exp-sept25/val/sft_val_samples.jsonl'\n",
              "  ),\n",
              "  tuned_model=TunedModel(\n",
              "    model='projects/190419722862/locations/us-central1/models/6239151244024217600@1'\n",
              "  ),\n",
              "  tuned_model_display_name='fine-tuned-model-v1',\n",
              "  tuning_data_stats=TuningDataStats(\n",
              "    supervised_tuning_data_stats=SupervisedTuningDataStats(\n",
              "      total_billable_token_count=255243,\n",
              "      tuning_dataset_example_count=500,\n",
              "      user_dataset_examples=[\n",
              "        Content(\n",
              "          parts=[\n",
              "            Part(\n",
              "              text=<... Max depth ...>\n",
              "            ),\n",
              "          ],\n",
              "          role='user'\n",
              "        ),\n",
              "        Content(\n",
              "          parts=[\n",
              "            Part(\n",
              "              text=<... Max depth ...>\n",
              "            ),\n",
              "          ],\n",
              "          role='model'\n",
              "        ),\n",
              "        Content(\n",
              "          parts=[\n",
              "            Part(\n",
              "              text=<... Max depth ...>\n",
              "            ),\n",
              "          ],\n",
              "          role='user'\n",
              "        ),\n",
              "        Content(\n",
              "          parts=[\n",
              "            Part(\n",
              "              text=<... Max depth ...>\n",
              "            ),\n",
              "          ],\n",
              "          role='model'\n",
              "        ),\n",
              "        Content(\n",
              "          parts=[\n",
              "            Part(\n",
              "              text=<... Max depth ...>\n",
              "            ),\n",
              "          ],\n",
              "          role='user'\n",
              "        ),\n",
              "        <... 1 more items ...>,\n",
              "      ],\n",
              "      user_input_token_distribution=SupervisedTuningDatasetDistribution(\n",
              "        buckets=[\n",
              "          SupervisedTuningDatasetDistributionDatasetBucket(\n",
              "            count=326.0,\n",
              "            left=25.0,\n",
              "            right=509.0\n",
              "          ),\n",
              "          SupervisedTuningDatasetDistributionDatasetBucket(\n",
              "            count=148.0,\n",
              "            left=510.0,\n",
              "            right=994.0\n",
              "          ),\n",
              "          SupervisedTuningDatasetDistributionDatasetBucket(\n",
              "            count=20.0,\n",
              "            left=995.0,\n",
              "            right=1478.0\n",
              "          ),\n",
              "          SupervisedTuningDatasetDistributionDatasetBucket(\n",
              "            count=5.0,\n",
              "            left=1479.0,\n",
              "            right=1963.0\n",
              "          ),\n",
              "          SupervisedTuningDatasetDistributionDatasetBucket(\n",
              "            count=1.0,\n",
              "            left=2449.0,\n",
              "            right=2932.0\n",
              "          ),\n",
              "        ],\n",
              "        max=2932.0,\n",
              "        mean=467.184,\n",
              "        median=414.0,\n",
              "        min=25.0,\n",
              "        p5=101.0,\n",
              "        p95=1016.0,\n",
              "        sum=233592\n",
              "      ),\n",
              "      user_message_per_example_distribution=SupervisedTuningDatasetDistribution(\n",
              "        buckets=[\n",
              "          SupervisedTuningDatasetDistributionDatasetBucket(\n",
              "            count=500.0,\n",
              "            left=2.0,\n",
              "            right=2.0\n",
              "          ),\n",
              "        ],\n",
              "        max=2.0,\n",
              "        mean=2.0,\n",
              "        median=2.0,\n",
              "        min=2.0,\n",
              "        p5=2.0,\n",
              "        p95=2.0,\n",
              "        sum=1000\n",
              "      ),\n",
              "      user_output_token_distribution=SupervisedTuningDatasetDistribution(\n",
              "        buckets=[\n",
              "          SupervisedTuningDatasetDistributionDatasetBucket(\n",
              "            count=298.0,\n",
              "            left=3.0,\n",
              "            right=42.0\n",
              "          ),\n",
              "          SupervisedTuningDatasetDistributionDatasetBucket(\n",
              "            count=164.0,\n",
              "            left=43.0,\n",
              "            right=81.0\n",
              "          ),\n",
              "          SupervisedTuningDatasetDistributionDatasetBucket(\n",
              "            count=29.0,\n",
              "            left=82.0,\n",
              "            right=120.0\n",
              "          ),\n",
              "          SupervisedTuningDatasetDistributionDatasetBucket(\n",
              "            count=5.0,\n",
              "            left=121.0,\n",
              "            right=159.0\n",
              "          ),\n",
              "          SupervisedTuningDatasetDistributionDatasetBucket(\n",
              "            count=3.0,\n",
              "            left=160.0,\n",
              "            right=198.0\n",
              "          ),\n",
              "          <... 1 more items ...>,\n",
              "        ],\n",
              "        max=237.0,\n",
              "        mean=43.302,\n",
              "        median=37.0,\n",
              "        min=3.0,\n",
              "        p5=15.0,\n",
              "        p95=89.0,\n",
              "        sum=21651\n",
              "      )\n",
              "    )\n",
              "  ),\n",
              "  update_time=datetime.datetime(2025, 9, 25, 20, 31, 9, 844207, tzinfo=TzInfo(UTC))\n",
              ")"
            ]
          },
          "metadata": {},
          "execution_count": 46
        }
      ],
      "source": [
        "# Get the tuning job info.\n",
        "tuning_job = client.tunings.get(name=sft_tuning_job.name)\n",
        "tuning_job"
      ]
    },
    {
      "cell_type": "markdown",
      "metadata": {
        "id": "22QZ035C8GJ3"
      },
      "source": [
        "**Note: Tuning time depends on several factors, such as training data size, number of epochs, learning rate multiplier, etc.**"
      ]
    },
    {
      "cell_type": "markdown",
      "metadata": {
        "id": "NN1KX-_WyKeu"
      },
      "source": [
        "<div class=\"alert alert-block alert-warning\">\n",
        "<b>⚠️ It will take ~15 mins for the model tuning job to complete on the provided dataset and set configurations/hyperparameters. ⚠️</b>\n",
        "</div>"
      ]
    },
    {
      "cell_type": "markdown",
      "metadata": {
        "id": "233ec153ccc0"
      },
      "source": [
        "### [Optional] Cancel Tuning Job"
      ]
    },
    {
      "cell_type": "markdown",
      "metadata": {
        "id": "c3d93e91ff0e"
      },
      "source": [
        "- Uncomment the below code to cancel the tuning job"
      ]
    },
    {
      "cell_type": "code",
      "execution_count": null,
      "metadata": {
        "id": "2bae78ec8856"
      },
      "outputs": [],
      "source": [
        "## Cancel the tuning job\n",
        "# tuning_job = client.tunings.cancel(name=sft_tuning_job.name)\n",
        "# tuning_job"
      ]
    },
    {
      "cell_type": "markdown",
      "metadata": {
        "id": "5f3380996dc4"
      },
      "source": [
        "### Status Check"
      ]
    },
    {
      "cell_type": "code",
      "execution_count": 47,
      "metadata": {
        "id": "2ma3P6tZ6suI",
        "colab": {
          "base_uri": "https://localhost:8080/"
        },
        "outputId": "609a0168-e29e-4cbd-fa07-33bcd4758f71"
      },
      "outputs": [
        {
          "output_type": "stream",
          "name": "stdout",
          "text": [
            "..............................................................................................................................................................................................\n",
            "CPU times: user 1.63 s, sys: 181 ms, total: 1.81 s\n",
            "Wall time: 35min 55s\n"
          ]
        }
      ],
      "source": [
        "%%time\n",
        "# Wait for job completion\n",
        "\n",
        "running_states = [\n",
        "    \"JOB_STATE_PENDING\",\n",
        "    \"JOB_STATE_RUNNING\",\n",
        "]\n",
        "\n",
        "while tuning_job.state.name in running_states:\n",
        "    print(\".\", end=\"\")\n",
        "    tuning_job = client.tunings.get(name=tuning_job.name)\n",
        "    time.sleep(10)\n",
        "print()"
      ]
    },
    {
      "cell_type": "code",
      "execution_count": 48,
      "metadata": {
        "id": "e1O1xCBS6spi",
        "colab": {
          "base_uri": "https://localhost:8080/"
        },
        "outputId": "88598c69-30a3-4956-f1cf-4c2534131f4f"
      },
      "outputs": [
        {
          "output_type": "stream",
          "name": "stdout",
          "text": [
            "Tuned model experiment projects/190419722862/locations/us-central1/metadataStores/default/contexts/tuning-experiment-20250925132713608786\n",
            "Tuned model endpoint resource name: projects/190419722862/locations/us-central1/endpoints/5879127156625244160\n"
          ]
        }
      ],
      "source": [
        "tuned_model = tuning_job.tuned_model.endpoint\n",
        "experiment_name = tuning_job.experiment\n",
        "\n",
        "print(\"Tuned model experiment\", experiment_name)\n",
        "print(\"Tuned model endpoint resource name:\", tuned_model)"
      ]
    },
    {
      "cell_type": "markdown",
      "metadata": {
        "id": "8DzlWWKpbGcu"
      },
      "source": [
        "### Step7 [a]: Tuning and evaluation metrics"
      ]
    },
    {
      "cell_type": "markdown",
      "metadata": {
        "id": "psRbCfzwWz_g"
      },
      "source": [
        "#### Model tuning metrics\n",
        "\n",
        "- `/train_total_loss`: Loss for the tuning dataset at a training step.\n",
        "- `/train_fraction_of_correct_next_step_preds`: The token accuracy at a training step. A single prediction consists of a sequence of tokens. This metric measures the accuracy of the predicted tokens when compared to the ground truth in the tuning dataset.\n",
        "- `/train_num_predictions`: Number of predicted tokens at a training step\n",
        "\n",
        "#### Model evaluation metrics:\n",
        "\n",
        "- `/eval_total_loss`: Loss for the evaluation dataset at an evaluation step.\n",
        "- `/eval_fraction_of_correct_next_step_preds`: The token accuracy at an evaluation step. A single prediction consists of a sequence of tokens. This metric measures the accuracy of the predicted tokens when compared to the ground truth in the evaluation dataset.\n",
        "- `/eval_num_predictions`: Number of predicted tokens at an evaluation step.\n",
        "\n",
        "The metrics visualizations are available after the model tuning job completes. If you don't specify a validation dataset when you create the tuning job, only the visualizations for the tuning metrics are available.\n"
      ]
    },
    {
      "cell_type": "code",
      "execution_count": 49,
      "metadata": {
        "id": "5J1LP3nCbNlg"
      },
      "outputs": [],
      "source": [
        "# Locate Vertex AI Experiment and Vertex AI Experiment Run\n",
        "experiment = aiplatform.Experiment(experiment_name=experiment_name)\n",
        "filter_str = metadata_utils._make_filter_string(\n",
        "    schema_title=\"system.ExperimentRun\",\n",
        "    parent_contexts=[experiment.resource_name],\n",
        ")\n",
        "experiment_run = context.Context.list(filter_str)[0]"
      ]
    },
    {
      "cell_type": "code",
      "execution_count": 50,
      "metadata": {
        "id": "htBrcQY1bPyh"
      },
      "outputs": [],
      "source": [
        "# Read data from Tensorboard\n",
        "tensorboard_run_name = f\"{experiment.get_backing_tensorboard_resource().resource_name}/experiments/{experiment.name}/runs/{experiment_run.name.replace(experiment.name, '')[1:]}\"\n",
        "tensorboard_run = aiplatform.TensorboardRun(tensorboard_run_name)\n",
        "metrics = tensorboard_run.read_time_series_data()"
      ]
    },
    {
      "cell_type": "code",
      "execution_count": 51,
      "metadata": {
        "id": "uRZ-UZXcbYj5"
      },
      "outputs": [],
      "source": [
        "def get_metrics(metric: str = \"/train_total_loss\"):\n",
        "    \"\"\"Get metrics from Tensorboard.\n",
        "\n",
        "    Args:\n",
        "      metric: metric name, eg. /train_total_loss or /eval_total_loss.\n",
        "\n",
        "    Returns:\n",
        "      steps: list of steps.\n",
        "      steps_loss: list of loss values.\n",
        "    \"\"\"\n",
        "    loss_values = metrics[metric].values\n",
        "    steps_loss = []\n",
        "    steps = []\n",
        "    for loss in loss_values:\n",
        "        steps_loss.append(loss.scalar.value)\n",
        "        steps.append(loss.step)\n",
        "    return steps, steps_loss"
      ]
    },
    {
      "cell_type": "code",
      "execution_count": 52,
      "metadata": {
        "id": "ImR4doLZblaH"
      },
      "outputs": [],
      "source": [
        "# Get Train and Eval Loss\n",
        "train_loss = get_metrics(metric=\"/train_total_loss\")\n",
        "eval_loss = get_metrics(metric=\"/eval_total_loss\")"
      ]
    },
    {
      "cell_type": "markdown",
      "metadata": {
        "id": "NuN-m1Ikbn15"
      },
      "source": [
        "### Step7 [b]: Plot the metrics"
      ]
    },
    {
      "cell_type": "code",
      "execution_count": 53,
      "metadata": {
        "id": "1KWWkVR5jQkA",
        "colab": {
          "base_uri": "https://localhost:8080/",
          "height": 542
        },
        "outputId": "9ea652c5-c381-4ea8-90d2-6d8e47e9ef5d"
      },
      "outputs": [
        {
          "output_type": "display_data",
          "data": {
            "text/html": [
              "<html>\n",
              "<head><meta charset=\"utf-8\" /></head>\n",
              "<body>\n",
              "    <div>            <script src=\"https://cdnjs.cloudflare.com/ajax/libs/mathjax/2.7.5/MathJax.js?config=TeX-AMS-MML_SVG\"></script><script type=\"text/javascript\">if (window.MathJax && window.MathJax.Hub && window.MathJax.Hub.Config) {window.MathJax.Hub.Config({SVG: {font: \"STIX-Web\"}});}</script>                <script type=\"text/javascript\">window.PlotlyConfig = {MathJaxConfig: 'local'};</script>\n",
              "        <script charset=\"utf-8\" src=\"https://cdn.plot.ly/plotly-3.1.0.min.js\" integrity=\"sha256-Ei4740bWZhaUTQuD6q9yQlgVCMPBz6CZWhevDYPv93A=\" crossorigin=\"anonymous\"></script>                <div id=\"53d2bf46-2363-4c0f-8fab-43f2cc238ec1\" class=\"plotly-graph-div\" style=\"height:525px; width:100%;\"></div>            <script type=\"text/javascript\">                window.PLOTLYENV=window.PLOTLYENV || {};                                if (document.getElementById(\"53d2bf46-2363-4c0f-8fab-43f2cc238ec1\")) {                    Plotly.newPlot(                        \"53d2bf46-2363-4c0f-8fab-43f2cc238ec1\",                        [{\"mode\":\"lines\",\"name\":\"Train Loss\",\"x\":[1,2,3,4,5,6,7,8,9,10,11,12,13,14,15,16,17,18,19,20,21,22,23,24,25,26,27,28,29,30,31,32,33,34,35,36,37,38,39,40,41,42,43,44,45,46,47,48,49,50,51,52,53,54,55,56,57,58,59,60,61,62,63,64,65,66,67,68,69,70,71,72,73,74,75,76,77,78,79,80,81,82,83,84,85,86,87,88,89,90,91,92,93,94,95,96,97,98,99,100,101,102,103,104,105,106,107,108,109,110,111,112,113,114,115,116,117,118,119,120,121,122,123,124,125,126,127,128,129,130,131,132,133,134,135,136,137,138,139,140,141,142,143,144,145,146,147,148,149,150,151,152,153,154,155,156,157,158,159,160,161,162,163,164,165,166,167,168,169,170,171,172,173,174,175,176,177,178,179,180,181,182,183,184,185,186,187,188,189,190,191,192,193,194,195,196,197,198,199,200,201,202,203,204,205,206,207,208,209,210,211,212,213,214,215,216,217,218,219,220,221,222,223,224,225,226,227,228,229,230,231,232,233,234],\"y\":[1.8951611518859863,2.15322208404541,2.5805201530456543,2.5058772563934326,2.0527610778808594,2.0933878421783447,1.6383038759231567,1.1668720245361328,1.4373328685760498,1.3070054054260254,1.3817933797836304,1.3160754442214966,1.1943143606185913,1.4272723197937012,1.4022715091705322,1.490939736366272,1.2930207252502441,1.3245352506637573,1.4693783521652222,1.2541946172714233,1.375111699104309,1.4067250490188599,1.165695309638977,1.413346767425537,1.1253377199172974,1.3759653568267822,1.364831566810608,1.276552677154541,1.3942400217056274,1.146498441696167,1.1094683408737183,1.4169259071350098,1.1663990020751953,1.2178194522857666,1.3871450424194336,1.1305774450302124,0.9785469174385071,1.1949249505996704,1.3123341798782349,1.0582820177078247,1.2548061609268188,1.175018072128296,1.0132555961608887,1.305362582206726,1.3183073997497559,1.3488917350769043,1.1764487028121948,1.3594427108764648,1.395318865776062,1.177160620689392,1.2868657112121582,1.1932337284088135,1.20481276512146,1.2296870946884155,1.2022956609725952,1.2821842432022095,1.1240170001983643,1.225356101989746,1.0779352188110352,1.2492923736572266,1.3707749843597412,1.05914306640625,1.2256016731262207,0.96138596534729,1.113803505897522,1.0186479091644287,1.1385064125061035,0.7975269556045532,1.0169174671173096,1.1653318405151367,0.9402648210525513,1.0069154500961304,1.035413146018982,0.9574913382530212,1.4149950742721558,1.1196393966674805,1.0736632347106934,0.9655237793922424,1.1734366416931152,0.9094780683517456,1.104009747505188,0.9204556345939636,1.0796284675598145,1.0316448211669922,0.8961150646209717,1.035927653312683,1.052099585533142,0.8596262335777283,1.0994430780410767,0.9732552766799927,1.1097713708877563,0.9333940148353577,1.1405214071273804,2.4394543170928955,1.0846806764602661,0.9051007628440857,1.1302967071533203,0.955031156539917,1.2488981485366821,1.0015870332717896,1.6372767686843872,1.1393027305603027,0.9422121644020081,1.2712655067443848,1.0898051261901855,1.1195330619812012,1.051644206047058,0.8818063139915466,0.9514913558959961,1.0076963901519775,0.8424117565155029,0.7836907505989075,0.9623302817344666,0.8061813116073608,0.7410945296287537,0.8182626962661743,0.807848334312439,0.7174597978591919,0.9687227010726929,0.8422822952270508,0.9999030828475952,0.7437119483947754,0.7390279769897461,1.0122367143630981,1.1141822338104248,0.8680875301361084,0.8512668609619141,1.0261534452438354,0.9877755641937256,1.038554072380066,0.7444576025009155,0.9539857506752014,1.0831924676895142,0.9773024916648865,0.7659700512886047,0.9273014664649963,1.0235189199447632,0.7153582572937012,1.0052461624145508,0.8699694871902466,0.6782699823379517,0.7676693201065063,0.6474839448928833,0.8003244996070862,0.5633522272109985,0.6412888169288635,0.5890180468559265,0.6820759177207947,0.8001368641853333,0.6451154351234436,0.601963460445404,0.6130359172821045,0.6865442991256714,0.6222729682922363,0.8202502131462097,0.8709762692451477,0.7215090394020081,0.5220891237258911,0.7731785178184509,0.8512587547302246,0.5822026133537292,0.6704632639884949,0.8156495094299316,0.9439058303833008,0.7445885539054871,0.9865217804908752,0.6698758602142334,0.6652483344078064,0.5869225859642029,0.7858975529670715,0.5269379615783691,0.6145164370536804,0.6596325635910034,0.5127761363983154,0.6100671291351318,0.6956248879432678,0.5861815810203552,0.6130942702293396,0.5367233157157898,0.7034106254577637,0.6440220475196838,0.8066933155059814,0.6376622915267944,0.5637856721878052,0.4936809539794922,0.6439878940582275,0.6222637295722961,0.5622884035110474,0.48086807131767273,0.5872607231140137,0.5103099346160889,0.6699322462081909,0.688437819480896,0.629022479057312,0.4467316269874573,0.4572881758213043,0.5798587203025818,0.5769136548042297,0.5330888628959656,0.48287954926490784,0.4815951883792877,0.4492219090461731,0.4233325719833374,0.4727593660354614,0.516161322593689,0.5199446082115173,0.655338704586029,0.545263946056366,0.6764317154884338,0.5945830345153809,0.5404337644577026,0.44435593485832214,0.5072333216667175,0.5931777358055115,0.630815863609314,0.3612900376319885,0.4325946569442749,0.3475748598575592,0.37609997391700745,0.4012531638145447,0.33143842220306396,0.3944721817970276,0.3932996988296509,0.3689470589160919,0.45797622203826904,0.5008235573768616,0.4615452289581299,0.4458062946796417,0.5191102623939514,0.463910311460495,0.534918487071991,0.5095590949058533,0.6388204097747803,0.5033295750617981],\"type\":\"scatter\",\"xaxis\":\"x\",\"yaxis\":\"y\"},{\"mode\":\"lines\",\"name\":\"Eval Loss\",\"x\":[1,33,34,66,68,99,100,102,132,136,165,170,198,200,204,231,234],\"y\":[2.4836809975760326,1.2233397620064872,1.2240284511021204,1.2520547594342912,1.2613484518868583,1.4063870566231864,1.4198687417166573,1.428673335484096,1.5458568845476424,1.5479833057948522,1.7747989382062639,1.6843679973057337,2.124140058244978,2.2201954977852956,2.100107192993164,2.131502423967634,2.231613431658064],\"type\":\"scatter\",\"xaxis\":\"x2\",\"yaxis\":\"y2\"}],                        {\"template\":{\"data\":{\"histogram2dcontour\":[{\"type\":\"histogram2dcontour\",\"colorbar\":{\"outlinewidth\":0,\"ticks\":\"\"},\"colorscale\":[[0.0,\"#0d0887\"],[0.1111111111111111,\"#46039f\"],[0.2222222222222222,\"#7201a8\"],[0.3333333333333333,\"#9c179e\"],[0.4444444444444444,\"#bd3786\"],[0.5555555555555556,\"#d8576b\"],[0.6666666666666666,\"#ed7953\"],[0.7777777777777778,\"#fb9f3a\"],[0.8888888888888888,\"#fdca26\"],[1.0,\"#f0f921\"]]}],\"choropleth\":[{\"type\":\"choropleth\",\"colorbar\":{\"outlinewidth\":0,\"ticks\":\"\"}}],\"histogram2d\":[{\"type\":\"histogram2d\",\"colorbar\":{\"outlinewidth\":0,\"ticks\":\"\"},\"colorscale\":[[0.0,\"#0d0887\"],[0.1111111111111111,\"#46039f\"],[0.2222222222222222,\"#7201a8\"],[0.3333333333333333,\"#9c179e\"],[0.4444444444444444,\"#bd3786\"],[0.5555555555555556,\"#d8576b\"],[0.6666666666666666,\"#ed7953\"],[0.7777777777777778,\"#fb9f3a\"],[0.8888888888888888,\"#fdca26\"],[1.0,\"#f0f921\"]]}],\"heatmap\":[{\"type\":\"heatmap\",\"colorbar\":{\"outlinewidth\":0,\"ticks\":\"\"},\"colorscale\":[[0.0,\"#0d0887\"],[0.1111111111111111,\"#46039f\"],[0.2222222222222222,\"#7201a8\"],[0.3333333333333333,\"#9c179e\"],[0.4444444444444444,\"#bd3786\"],[0.5555555555555556,\"#d8576b\"],[0.6666666666666666,\"#ed7953\"],[0.7777777777777778,\"#fb9f3a\"],[0.8888888888888888,\"#fdca26\"],[1.0,\"#f0f921\"]]}],\"contourcarpet\":[{\"type\":\"contourcarpet\",\"colorbar\":{\"outlinewidth\":0,\"ticks\":\"\"}}],\"contour\":[{\"type\":\"contour\",\"colorbar\":{\"outlinewidth\":0,\"ticks\":\"\"},\"colorscale\":[[0.0,\"#0d0887\"],[0.1111111111111111,\"#46039f\"],[0.2222222222222222,\"#7201a8\"],[0.3333333333333333,\"#9c179e\"],[0.4444444444444444,\"#bd3786\"],[0.5555555555555556,\"#d8576b\"],[0.6666666666666666,\"#ed7953\"],[0.7777777777777778,\"#fb9f3a\"],[0.8888888888888888,\"#fdca26\"],[1.0,\"#f0f921\"]]}],\"surface\":[{\"type\":\"surface\",\"colorbar\":{\"outlinewidth\":0,\"ticks\":\"\"},\"colorscale\":[[0.0,\"#0d0887\"],[0.1111111111111111,\"#46039f\"],[0.2222222222222222,\"#7201a8\"],[0.3333333333333333,\"#9c179e\"],[0.4444444444444444,\"#bd3786\"],[0.5555555555555556,\"#d8576b\"],[0.6666666666666666,\"#ed7953\"],[0.7777777777777778,\"#fb9f3a\"],[0.8888888888888888,\"#fdca26\"],[1.0,\"#f0f921\"]]}],\"mesh3d\":[{\"type\":\"mesh3d\",\"colorbar\":{\"outlinewidth\":0,\"ticks\":\"\"}}],\"scatter\":[{\"fillpattern\":{\"fillmode\":\"overlay\",\"size\":10,\"solidity\":0.2},\"type\":\"scatter\"}],\"parcoords\":[{\"type\":\"parcoords\",\"line\":{\"colorbar\":{\"outlinewidth\":0,\"ticks\":\"\"}}}],\"scatterpolargl\":[{\"type\":\"scatterpolargl\",\"marker\":{\"colorbar\":{\"outlinewidth\":0,\"ticks\":\"\"}}}],\"bar\":[{\"error_x\":{\"color\":\"#2a3f5f\"},\"error_y\":{\"color\":\"#2a3f5f\"},\"marker\":{\"line\":{\"color\":\"#E5ECF6\",\"width\":0.5},\"pattern\":{\"fillmode\":\"overlay\",\"size\":10,\"solidity\":0.2}},\"type\":\"bar\"}],\"scattergeo\":[{\"type\":\"scattergeo\",\"marker\":{\"colorbar\":{\"outlinewidth\":0,\"ticks\":\"\"}}}],\"scatterpolar\":[{\"type\":\"scatterpolar\",\"marker\":{\"colorbar\":{\"outlinewidth\":0,\"ticks\":\"\"}}}],\"histogram\":[{\"marker\":{\"pattern\":{\"fillmode\":\"overlay\",\"size\":10,\"solidity\":0.2}},\"type\":\"histogram\"}],\"scattergl\":[{\"type\":\"scattergl\",\"marker\":{\"colorbar\":{\"outlinewidth\":0,\"ticks\":\"\"}}}],\"scatter3d\":[{\"type\":\"scatter3d\",\"line\":{\"colorbar\":{\"outlinewidth\":0,\"ticks\":\"\"}},\"marker\":{\"colorbar\":{\"outlinewidth\":0,\"ticks\":\"\"}}}],\"scattermap\":[{\"type\":\"scattermap\",\"marker\":{\"colorbar\":{\"outlinewidth\":0,\"ticks\":\"\"}}}],\"scattermapbox\":[{\"type\":\"scattermapbox\",\"marker\":{\"colorbar\":{\"outlinewidth\":0,\"ticks\":\"\"}}}],\"scatterternary\":[{\"type\":\"scatterternary\",\"marker\":{\"colorbar\":{\"outlinewidth\":0,\"ticks\":\"\"}}}],\"scattercarpet\":[{\"type\":\"scattercarpet\",\"marker\":{\"colorbar\":{\"outlinewidth\":0,\"ticks\":\"\"}}}],\"carpet\":[{\"aaxis\":{\"endlinecolor\":\"#2a3f5f\",\"gridcolor\":\"white\",\"linecolor\":\"white\",\"minorgridcolor\":\"white\",\"startlinecolor\":\"#2a3f5f\"},\"baxis\":{\"endlinecolor\":\"#2a3f5f\",\"gridcolor\":\"white\",\"linecolor\":\"white\",\"minorgridcolor\":\"white\",\"startlinecolor\":\"#2a3f5f\"},\"type\":\"carpet\"}],\"table\":[{\"cells\":{\"fill\":{\"color\":\"#EBF0F8\"},\"line\":{\"color\":\"white\"}},\"header\":{\"fill\":{\"color\":\"#C8D4E3\"},\"line\":{\"color\":\"white\"}},\"type\":\"table\"}],\"barpolar\":[{\"marker\":{\"line\":{\"color\":\"#E5ECF6\",\"width\":0.5},\"pattern\":{\"fillmode\":\"overlay\",\"size\":10,\"solidity\":0.2}},\"type\":\"barpolar\"}],\"pie\":[{\"automargin\":true,\"type\":\"pie\"}]},\"layout\":{\"autotypenumbers\":\"strict\",\"colorway\":[\"#636efa\",\"#EF553B\",\"#00cc96\",\"#ab63fa\",\"#FFA15A\",\"#19d3f3\",\"#FF6692\",\"#B6E880\",\"#FF97FF\",\"#FECB52\"],\"font\":{\"color\":\"#2a3f5f\"},\"hovermode\":\"closest\",\"hoverlabel\":{\"align\":\"left\"},\"paper_bgcolor\":\"white\",\"plot_bgcolor\":\"#E5ECF6\",\"polar\":{\"bgcolor\":\"#E5ECF6\",\"angularaxis\":{\"gridcolor\":\"white\",\"linecolor\":\"white\",\"ticks\":\"\"},\"radialaxis\":{\"gridcolor\":\"white\",\"linecolor\":\"white\",\"ticks\":\"\"}},\"ternary\":{\"bgcolor\":\"#E5ECF6\",\"aaxis\":{\"gridcolor\":\"white\",\"linecolor\":\"white\",\"ticks\":\"\"},\"baxis\":{\"gridcolor\":\"white\",\"linecolor\":\"white\",\"ticks\":\"\"},\"caxis\":{\"gridcolor\":\"white\",\"linecolor\":\"white\",\"ticks\":\"\"}},\"coloraxis\":{\"colorbar\":{\"outlinewidth\":0,\"ticks\":\"\"}},\"colorscale\":{\"sequential\":[[0.0,\"#0d0887\"],[0.1111111111111111,\"#46039f\"],[0.2222222222222222,\"#7201a8\"],[0.3333333333333333,\"#9c179e\"],[0.4444444444444444,\"#bd3786\"],[0.5555555555555556,\"#d8576b\"],[0.6666666666666666,\"#ed7953\"],[0.7777777777777778,\"#fb9f3a\"],[0.8888888888888888,\"#fdca26\"],[1.0,\"#f0f921\"]],\"sequentialminus\":[[0.0,\"#0d0887\"],[0.1111111111111111,\"#46039f\"],[0.2222222222222222,\"#7201a8\"],[0.3333333333333333,\"#9c179e\"],[0.4444444444444444,\"#bd3786\"],[0.5555555555555556,\"#d8576b\"],[0.6666666666666666,\"#ed7953\"],[0.7777777777777778,\"#fb9f3a\"],[0.8888888888888888,\"#fdca26\"],[1.0,\"#f0f921\"]],\"diverging\":[[0,\"#8e0152\"],[0.1,\"#c51b7d\"],[0.2,\"#de77ae\"],[0.3,\"#f1b6da\"],[0.4,\"#fde0ef\"],[0.5,\"#f7f7f7\"],[0.6,\"#e6f5d0\"],[0.7,\"#b8e186\"],[0.8,\"#7fbc41\"],[0.9,\"#4d9221\"],[1,\"#276419\"]]},\"xaxis\":{\"gridcolor\":\"white\",\"linecolor\":\"white\",\"ticks\":\"\",\"title\":{\"standoff\":15},\"zerolinecolor\":\"white\",\"automargin\":true,\"zerolinewidth\":2},\"yaxis\":{\"gridcolor\":\"white\",\"linecolor\":\"white\",\"ticks\":\"\",\"title\":{\"standoff\":15},\"zerolinecolor\":\"white\",\"automargin\":true,\"zerolinewidth\":2},\"scene\":{\"xaxis\":{\"backgroundcolor\":\"#E5ECF6\",\"gridcolor\":\"white\",\"linecolor\":\"white\",\"showbackground\":true,\"ticks\":\"\",\"zerolinecolor\":\"white\",\"gridwidth\":2},\"yaxis\":{\"backgroundcolor\":\"#E5ECF6\",\"gridcolor\":\"white\",\"linecolor\":\"white\",\"showbackground\":true,\"ticks\":\"\",\"zerolinecolor\":\"white\",\"gridwidth\":2},\"zaxis\":{\"backgroundcolor\":\"#E5ECF6\",\"gridcolor\":\"white\",\"linecolor\":\"white\",\"showbackground\":true,\"ticks\":\"\",\"zerolinecolor\":\"white\",\"gridwidth\":2}},\"shapedefaults\":{\"line\":{\"color\":\"#2a3f5f\"}},\"annotationdefaults\":{\"arrowcolor\":\"#2a3f5f\",\"arrowhead\":0,\"arrowwidth\":1},\"geo\":{\"bgcolor\":\"white\",\"landcolor\":\"#E5ECF6\",\"subunitcolor\":\"white\",\"showland\":true,\"showlakes\":true,\"lakecolor\":\"white\"},\"title\":{\"x\":0.05},\"mapbox\":{\"style\":\"light\"}}},\"xaxis\":{\"anchor\":\"y\",\"domain\":[0.0,0.45],\"title\":{\"text\":\"Steps\"}},\"yaxis\":{\"anchor\":\"x\",\"domain\":[0.0,1.0],\"title\":{\"text\":\"Loss\"}},\"xaxis2\":{\"anchor\":\"y2\",\"domain\":[0.55,1.0],\"title\":{\"text\":\"Steps\"}},\"yaxis2\":{\"anchor\":\"x2\",\"domain\":[0.0,1.0],\"title\":{\"text\":\"Loss\"}},\"annotations\":[{\"font\":{\"size\":16},\"showarrow\":false,\"text\":\"Train Loss\",\"x\":0.225,\"xanchor\":\"center\",\"xref\":\"paper\",\"y\":1.0,\"yanchor\":\"bottom\",\"yref\":\"paper\"},{\"font\":{\"size\":16},\"showarrow\":false,\"text\":\"Eval Loss\",\"x\":0.775,\"xanchor\":\"center\",\"xref\":\"paper\",\"y\":1.0,\"yanchor\":\"bottom\",\"yref\":\"paper\"}],\"title\":{\"text\":\"Train and Eval Loss\"}},                        {\"responsive\": true}                    ).then(function(){\n",
              "                            \n",
              "var gd = document.getElementById('53d2bf46-2363-4c0f-8fab-43f2cc238ec1');\n",
              "var x = new MutationObserver(function (mutations, observer) {{\n",
              "        var display = window.getComputedStyle(gd).display;\n",
              "        if (!display || display === 'none') {{\n",
              "            console.log([gd, 'removed!']);\n",
              "            Plotly.purge(gd);\n",
              "            observer.disconnect();\n",
              "        }}\n",
              "}});\n",
              "\n",
              "// Listen for the removal of the full notebook cells\n",
              "var notebookContainer = gd.closest('#notebook-container');\n",
              "if (notebookContainer) {{\n",
              "    x.observe(notebookContainer, {childList: true});\n",
              "}}\n",
              "\n",
              "// Listen for the clearing of the current output cell\n",
              "var outputEl = gd.closest('.output');\n",
              "if (outputEl) {{\n",
              "    x.observe(outputEl, {childList: true});\n",
              "}}\n",
              "\n",
              "                        })                };            </script>        </div>\n",
              "</body>\n",
              "</html>"
            ]
          },
          "metadata": {}
        }
      ],
      "source": [
        "# Plot the train and eval loss metrics using Plotly python library\n",
        "\n",
        "fig = make_subplots(\n",
        "    rows=1, cols=2, shared_xaxes=True, subplot_titles=(\"Train Loss\", \"Eval Loss\")\n",
        ")\n",
        "\n",
        "# Add traces\n",
        "fig.add_trace(\n",
        "    go.Scatter(x=train_loss[0], y=train_loss[1], name=\"Train Loss\", mode=\"lines\"),\n",
        "    row=1,\n",
        "    col=1,\n",
        ")\n",
        "fig.add_trace(\n",
        "    go.Scatter(x=eval_loss[0], y=eval_loss[1], name=\"Eval Loss\", mode=\"lines\"),\n",
        "    row=1,\n",
        "    col=2,\n",
        ")\n",
        "\n",
        "# Add figure title\n",
        "fig.update_layout(title=\"Train and Eval Loss\", xaxis_title=\"Steps\", yaxis_title=\"Loss\")\n",
        "\n",
        "# Set x-axis title\n",
        "fig.update_xaxes(title_text=\"Steps\")\n",
        "\n",
        "# Set y-axes titles\n",
        "fig.update_yaxes(title_text=\"Loss\")\n",
        "\n",
        "# Show plot\n",
        "fig.show()"
      ]
    },
    {
      "cell_type": "markdown",
      "metadata": {
        "id": "KY-eiVk0FI-M"
      },
      "source": [
        "## Step8: Load the Tuned Model\n",
        "\n",
        " - Load the fine-tuned model using `GenerativeModel` class with the tuning job model endpoint name.\n",
        "\n",
        " - Test the tuned model with the following prompt"
      ]
    },
    {
      "cell_type": "code",
      "execution_count": 54,
      "metadata": {
        "id": "GiJ831VMDQNy",
        "colab": {
          "base_uri": "https://localhost:8080/",
          "height": 104
        },
        "outputId": "bbe86483-f179-4909-b781-84d926376dd4"
      },
      "outputs": [
        {
          "output_type": "execute_result",
          "data": {
            "text/plain": [
              "'\\nHold your arm out flat in front of you with your elbow bent. The top of your forearm should form a level surface. Apply a line of lotion from the back of your hand up your arm almost to the crease of your elbow. Squeeze lotion onto both forearms.  Do not rub the lotion into your arms, rather let it sit on your arm in the line you squeezed. You can use as much or as little lotion as you feel is necessary to cover your back completely. Bend your elbows and reach both of your arms behind you, placing the lotion covered forearms against your back. Depending on how flexible you are, this may hurt a little. It might be easier to place one arm behind your back at a time. If you have shoulder pain or are not very flexible, this method may not work well for you. Rub your forearms and the backs of your hands up and down your back like windshield wipers covering as much of your back as you can. You can use your left arm first to cover your left side and then place your right arm behind and use it to cover the right side of your back. Repeat this process as necessary if you don’t feel like you got enough lotion on your back.\\n\\nProvide a summary of the article in two or three sentences:\\n\\n\\n'"
            ],
            "application/vnd.google.colaboratory.intrinsic+json": {
              "type": "string"
            }
          },
          "metadata": {},
          "execution_count": 54
        }
      ],
      "source": [
        "prompt"
      ]
    },
    {
      "cell_type": "code",
      "execution_count": 57,
      "metadata": {
        "id": "65SYYpaNT4QR",
        "colab": {
          "base_uri": "https://localhost:8080/"
        },
        "outputId": "a98b8075-3e0e-4126-8b98-e3fb9b68ee27"
      },
      "outputs": [
        {
          "output_type": "stream",
          "name": "stdout",
          "text": [
            "***Testing***\n",
            "Hold your arm out flat in front of you with your elbow bent. Squeeze lotion onto both forearms. Bend your elbows and reach both arms behind you. Rub your forearms and the backs of your hands up and down your back. Repeat as necessary.\n"
          ]
        }
      ],
      "source": [
        "if True:\n",
        "    # Test with the loaded model.\n",
        "    print(\"***Testing***\")\n",
        "    print(\n",
        "        client.models.generate_content(\n",
        "            model=tuned_model, contents=prompt, config=config\n",
        "        ).text\n",
        "    )\n",
        "else:\n",
        "    print(\"State:\", tuning_job.state.name.state)\n",
        "    print(\"Error:\", tuning_job.state.name.error)"
      ]
    },
    {
      "cell_type": "markdown",
      "metadata": {
        "id": "d54ce2b88af3"
      },
      "source": [
        "- We can clearly see the difference between summary generated pre and post tuning, as tuned summary is more inline with the ground truth format (**Note**: Pre and Post outputs, might vary based on the set parameters.)\n",
        "\n",
        "  - *Pre*: `This article describes a method for applying lotion to your back using your forearms as applicators. By squeezing lotion onto your forearms and then reaching behind your back, you can use a windshield wiper motion to spread the lotion across your back. The method acknowledges potential limitations for those with shoulder pain or limited flexibility.`\n",
        "  - *Post*: `Squeeze a line of lotion on your forearm. Reach behind you and rub your back.`\n",
        "  - *Ground Truth*:` Squeeze a line of lotion onto the tops of both forearms and the backs of your hands. Place your arms behind your back. Move your arms in a windshield wiper motion.`"
      ]
    },
    {
      "cell_type": "markdown",
      "metadata": {
        "id": "oYsIpFakU4CC"
      },
      "source": [
        "## Step9: Evaluation post model tuning"
      ]
    },
    {
      "cell_type": "markdown",
      "metadata": {
        "id": "mwlCcKPZ62Of"
      },
      "source": [
        "<div class=\"alert alert-block alert-warning\">\n",
        "<b>⚠️ It will take ~5 mins for the evaluation on the provided batch. ⚠️</b>\n",
        "</div>"
      ]
    },
    {
      "cell_type": "code",
      "execution_count": 58,
      "metadata": {
        "id": "KrBk1amTU3r2",
        "colab": {
          "base_uri": "https://localhost:8080/"
        },
        "outputId": "93a820cd-15d2-4084-c0e5-52ed921e4f98"
      },
      "outputs": [
        {
          "output_type": "stream",
          "name": "stderr",
          "text": [
            " 48%|████▊     | 48/100 [03:04<04:11,  4.84s/it]"
          ]
        },
        {
          "output_type": "stream",
          "name": "stdout",
          "text": [
            "\n",
            "Model has blocked the response for the document.\n",
            " Response: sdk_http_response=HttpResponse(\n",
            "  headers=<dict len=9>\n",
            ") candidates=[Candidate(\n",
            "  content=Content(\n",
            "    role='model'\n",
            "  ),\n",
            "  finish_reason=<FinishReason.MAX_TOKENS: 'MAX_TOKENS'>\n",
            ")] create_time=datetime.datetime(2025, 9, 25, 21, 26, 35, 191306, tzinfo=TzInfo(UTC)) model_version='gemini-2.5-flash@default' prompt_feedback=None response_id='i7PVaMrWC_iq3NoPmrT10AQ' usage_metadata=GenerateContentResponseUsageMetadata(\n",
            "  prompt_token_count=472,\n",
            "  prompt_tokens_details=[\n",
            "    ModalityTokenCount(\n",
            "      modality=<MediaModality.TEXT: 'TEXT'>,\n",
            "      token_count=472\n",
            "    ),\n",
            "  ],\n",
            "  thoughts_token_count=1023,\n",
            "  total_token_count=1495,\n",
            "  traffic_type=<TrafficType.ON_DEMAND: 'ON_DEMAND'>\n",
            ") automatic_function_calling_history=[] parsed=None\n",
            " Document: Abuse comes in many forms, but it's important to understand the concepts underlying most types of abuse. Sibling rivalry is common, but if one sibling is always the aggressor and the other always the victim, it is an abusive situation.  Sibling abuse may be physical, emotional, or sexual, and is most often perpetrated by one sibling against the other. Abuse is often an act of power and control. If a sibling tries to make you feel powerless, neglected, or devalued, it is likely an abusive situation. When in doubt, try to seek help through professional opinion and evaluation of the situation. Emotional abuse can stand alone, or it may underpin physical or sexual abuse. Emotional abuse from a sibling is their attempt to control you through manipulation of your thoughts and emotions, making you feel constant fear, shame, or humiliation.  Emotional abuse often makes you feel as though you are walking on eggshells, like anything you do could send your sibling into a rampage or spiral of criticism.  Emotional abuse often leaves victims feeling unheard or unseen, unlovable, and like they don't matter. Emotional abuse may take many forms, but it can include your sibling constantly criticizing your looks, work, or academic performance. It may also include your sibling trying to convince you that you are not respected or wanted by the rest of your family. Physical abuse is using excessive force or doing anything with the intent of causing physical harm to someone else. Physical abuse is generally a controlling act carried out with physical force against another.  Common forms of physical abuse may include hitting, kicking, biting, throwing objects at another, or any other form of physical exertion from an antagonist meant to overpower a victim. Some signs of physical abuse may include bruising, broken bones, burns, bite marks, cuts, abrasions, scarring, and others. Sexual abuse is any unwanted touching, exposure, or forced intimate actions between siblings. It is often the least disclosed and treated form of sibling abuse.  Sibling sexual abuse does not have to include forced sexual acts to be abuse. It may also come in the forms of unwanted exposure or unwanted touching. If you believe there is a problem with sibling sexual abuse in your home, it is advisable to contact law enforcement or a social worker as soon as possible.\n",
            "\n",
            "Provide a summary of the article in two or three sentences:\n",
            "\n",
            "\n"
          ]
        },
        {
          "output_type": "stream",
          "name": "stderr",
          "text": [
            "100%|██████████| 100/100 [06:27<00:00,  3.87s/it]\n"
          ]
        }
      ],
      "source": [
        "# run evaluation\n",
        "evaluation_df_post_tuning = run_evaluation(tuned_model, corpus_batch)"
      ]
    },
    {
      "cell_type": "code",
      "execution_count": 59,
      "metadata": {
        "id": "ONnlEkSex-iO",
        "colab": {
          "base_uri": "https://localhost:8080/",
          "height": 379
        },
        "outputId": "6d1ce804-462a-42b1-ce01-9d0d74a97b33"
      },
      "outputs": [
        {
          "output_type": "execute_result",
          "data": {
            "text/plain": [
              "                                            document  \\\n",
              "0  Hold your arm out flat in front of you with yo...   \n",
              "1  As you continue playing, surviving becomes pai...   \n",
              "2  Go to https://www.4kdownload.com/products/prod...   \n",
              "3  You should know that vaginoplasty can treat a ...   \n",
              "4  If you want to gather data on the frequency of...   \n",
              "\n",
              "                                             summary  \\\n",
              "0  Squeeze a line of lotion onto the tops of both...   \n",
              "1  Make a Crock Pot for better food. Create an Al...   \n",
              "2  Download the 4K Video Downloader setup file. I...   \n",
              "3  Consider the health of your bladder. Find a so...   \n",
              "4  Gather data to be graphed. Choose your range b...   \n",
              "\n",
              "                                   generated_summary  \\\n",
              "0  Place lotion on your forearms. Bend your elbow...   \n",
              "1  Here's how to survive longer in Don't Starve:\\...   \n",
              "2  Go to the 4K Video Downloader website. Click G...   \n",
              "3  Here are the key reasons why someone might con...   \n",
              "4  A histogram is a graphical representation of t...   \n",
              "\n",
              "                                              scores  rouge1_precision  \\\n",
              "0  {'rouge1': (0.5, 0.3870967741935484, 0.4363636...          0.500000   \n",
              "1  {'rouge1': (0.05263157894736842, 0.77777777777...          0.052632   \n",
              "2  {'rouge1': (0.7358490566037735, 0.661016949152...          0.735849   \n",
              "3  {'rouge1': (0.25, 0.25, 0.25), 'rouge2': (0.0,...          0.250000   \n",
              "4  {'rouge1': (0.30303030303030304, 0.43478260869...          0.303030   \n",
              "\n",
              "   rouge1_recall  rouge1_fmeasure  rouge2_precision  rouge2_recall  \\\n",
              "0       0.387097         0.436364          0.173913       0.133333   \n",
              "1       0.777778         0.098592          0.011321       0.176471   \n",
              "2       0.661017         0.696429          0.461538       0.413793   \n",
              "3       0.250000         0.250000          0.000000       0.000000   \n",
              "4       0.434783         0.357143          0.062500       0.090909   \n",
              "\n",
              "   rouge2_fmeasure  rougeL_precision  rougeL_recall  rougeL_fmeasure  \n",
              "0         0.150943          0.333333       0.258065         0.290909  \n",
              "1         0.021277          0.045113       0.666667         0.084507  \n",
              "2         0.436364          0.528302       0.474576         0.500000  \n",
              "3         0.000000          0.142857       0.142857         0.142857  \n",
              "4         0.074074          0.212121       0.304348         0.250000  "
            ],
            "text/html": [
              "\n",
              "  <div id=\"df-3122a19b-f8fc-4d04-b48c-02844a7bfdc3\" class=\"colab-df-container\">\n",
              "    <div>\n",
              "<style scoped>\n",
              "    .dataframe tbody tr th:only-of-type {\n",
              "        vertical-align: middle;\n",
              "    }\n",
              "\n",
              "    .dataframe tbody tr th {\n",
              "        vertical-align: top;\n",
              "    }\n",
              "\n",
              "    .dataframe thead th {\n",
              "        text-align: right;\n",
              "    }\n",
              "</style>\n",
              "<table border=\"1\" class=\"dataframe\">\n",
              "  <thead>\n",
              "    <tr style=\"text-align: right;\">\n",
              "      <th></th>\n",
              "      <th>document</th>\n",
              "      <th>summary</th>\n",
              "      <th>generated_summary</th>\n",
              "      <th>scores</th>\n",
              "      <th>rouge1_precision</th>\n",
              "      <th>rouge1_recall</th>\n",
              "      <th>rouge1_fmeasure</th>\n",
              "      <th>rouge2_precision</th>\n",
              "      <th>rouge2_recall</th>\n",
              "      <th>rouge2_fmeasure</th>\n",
              "      <th>rougeL_precision</th>\n",
              "      <th>rougeL_recall</th>\n",
              "      <th>rougeL_fmeasure</th>\n",
              "    </tr>\n",
              "  </thead>\n",
              "  <tbody>\n",
              "    <tr>\n",
              "      <th>0</th>\n",
              "      <td>Hold your arm out flat in front of you with yo...</td>\n",
              "      <td>Squeeze a line of lotion onto the tops of both...</td>\n",
              "      <td>Place lotion on your forearms. Bend your elbow...</td>\n",
              "      <td>{'rouge1': (0.5, 0.3870967741935484, 0.4363636...</td>\n",
              "      <td>0.500000</td>\n",
              "      <td>0.387097</td>\n",
              "      <td>0.436364</td>\n",
              "      <td>0.173913</td>\n",
              "      <td>0.133333</td>\n",
              "      <td>0.150943</td>\n",
              "      <td>0.333333</td>\n",
              "      <td>0.258065</td>\n",
              "      <td>0.290909</td>\n",
              "    </tr>\n",
              "    <tr>\n",
              "      <th>1</th>\n",
              "      <td>As you continue playing, surviving becomes pai...</td>\n",
              "      <td>Make a Crock Pot for better food. Create an Al...</td>\n",
              "      <td>Here's how to survive longer in Don't Starve:\\...</td>\n",
              "      <td>{'rouge1': (0.05263157894736842, 0.77777777777...</td>\n",
              "      <td>0.052632</td>\n",
              "      <td>0.777778</td>\n",
              "      <td>0.098592</td>\n",
              "      <td>0.011321</td>\n",
              "      <td>0.176471</td>\n",
              "      <td>0.021277</td>\n",
              "      <td>0.045113</td>\n",
              "      <td>0.666667</td>\n",
              "      <td>0.084507</td>\n",
              "    </tr>\n",
              "    <tr>\n",
              "      <th>2</th>\n",
              "      <td>Go to https://www.4kdownload.com/products/prod...</td>\n",
              "      <td>Download the 4K Video Downloader setup file. I...</td>\n",
              "      <td>Go to the 4K Video Downloader website. Click G...</td>\n",
              "      <td>{'rouge1': (0.7358490566037735, 0.661016949152...</td>\n",
              "      <td>0.735849</td>\n",
              "      <td>0.661017</td>\n",
              "      <td>0.696429</td>\n",
              "      <td>0.461538</td>\n",
              "      <td>0.413793</td>\n",
              "      <td>0.436364</td>\n",
              "      <td>0.528302</td>\n",
              "      <td>0.474576</td>\n",
              "      <td>0.500000</td>\n",
              "    </tr>\n",
              "    <tr>\n",
              "      <th>3</th>\n",
              "      <td>You should know that vaginoplasty can treat a ...</td>\n",
              "      <td>Consider the health of your bladder. Find a so...</td>\n",
              "      <td>Here are the key reasons why someone might con...</td>\n",
              "      <td>{'rouge1': (0.25, 0.25, 0.25), 'rouge2': (0.0,...</td>\n",
              "      <td>0.250000</td>\n",
              "      <td>0.250000</td>\n",
              "      <td>0.250000</td>\n",
              "      <td>0.000000</td>\n",
              "      <td>0.000000</td>\n",
              "      <td>0.000000</td>\n",
              "      <td>0.142857</td>\n",
              "      <td>0.142857</td>\n",
              "      <td>0.142857</td>\n",
              "    </tr>\n",
              "    <tr>\n",
              "      <th>4</th>\n",
              "      <td>If you want to gather data on the frequency of...</td>\n",
              "      <td>Gather data to be graphed. Choose your range b...</td>\n",
              "      <td>A histogram is a graphical representation of t...</td>\n",
              "      <td>{'rouge1': (0.30303030303030304, 0.43478260869...</td>\n",
              "      <td>0.303030</td>\n",
              "      <td>0.434783</td>\n",
              "      <td>0.357143</td>\n",
              "      <td>0.062500</td>\n",
              "      <td>0.090909</td>\n",
              "      <td>0.074074</td>\n",
              "      <td>0.212121</td>\n",
              "      <td>0.304348</td>\n",
              "      <td>0.250000</td>\n",
              "    </tr>\n",
              "  </tbody>\n",
              "</table>\n",
              "</div>\n",
              "    <div class=\"colab-df-buttons\">\n",
              "\n",
              "  <div class=\"colab-df-container\">\n",
              "    <button class=\"colab-df-convert\" onclick=\"convertToInteractive('df-3122a19b-f8fc-4d04-b48c-02844a7bfdc3')\"\n",
              "            title=\"Convert this dataframe to an interactive table.\"\n",
              "            style=\"display:none;\">\n",
              "\n",
              "  <svg xmlns=\"http://www.w3.org/2000/svg\" height=\"24px\" viewBox=\"0 -960 960 960\">\n",
              "    <path d=\"M120-120v-720h720v720H120Zm60-500h600v-160H180v160Zm220 220h160v-160H400v160Zm0 220h160v-160H400v160ZM180-400h160v-160H180v160Zm440 0h160v-160H620v160ZM180-180h160v-160H180v160Zm440 0h160v-160H620v160Z\"/>\n",
              "  </svg>\n",
              "    </button>\n",
              "\n",
              "  <style>\n",
              "    .colab-df-container {\n",
              "      display:flex;\n",
              "      gap: 12px;\n",
              "    }\n",
              "\n",
              "    .colab-df-convert {\n",
              "      background-color: #E8F0FE;\n",
              "      border: none;\n",
              "      border-radius: 50%;\n",
              "      cursor: pointer;\n",
              "      display: none;\n",
              "      fill: #1967D2;\n",
              "      height: 32px;\n",
              "      padding: 0 0 0 0;\n",
              "      width: 32px;\n",
              "    }\n",
              "\n",
              "    .colab-df-convert:hover {\n",
              "      background-color: #E2EBFA;\n",
              "      box-shadow: 0px 1px 2px rgba(60, 64, 67, 0.3), 0px 1px 3px 1px rgba(60, 64, 67, 0.15);\n",
              "      fill: #174EA6;\n",
              "    }\n",
              "\n",
              "    .colab-df-buttons div {\n",
              "      margin-bottom: 4px;\n",
              "    }\n",
              "\n",
              "    [theme=dark] .colab-df-convert {\n",
              "      background-color: #3B4455;\n",
              "      fill: #D2E3FC;\n",
              "    }\n",
              "\n",
              "    [theme=dark] .colab-df-convert:hover {\n",
              "      background-color: #434B5C;\n",
              "      box-shadow: 0px 1px 3px 1px rgba(0, 0, 0, 0.15);\n",
              "      filter: drop-shadow(0px 1px 2px rgba(0, 0, 0, 0.3));\n",
              "      fill: #FFFFFF;\n",
              "    }\n",
              "  </style>\n",
              "\n",
              "    <script>\n",
              "      const buttonEl =\n",
              "        document.querySelector('#df-3122a19b-f8fc-4d04-b48c-02844a7bfdc3 button.colab-df-convert');\n",
              "      buttonEl.style.display =\n",
              "        google.colab.kernel.accessAllowed ? 'block' : 'none';\n",
              "\n",
              "      async function convertToInteractive(key) {\n",
              "        const element = document.querySelector('#df-3122a19b-f8fc-4d04-b48c-02844a7bfdc3');\n",
              "        const dataTable =\n",
              "          await google.colab.kernel.invokeFunction('convertToInteractive',\n",
              "                                                    [key], {});\n",
              "        if (!dataTable) return;\n",
              "\n",
              "        const docLinkHtml = 'Like what you see? Visit the ' +\n",
              "          '<a target=\"_blank\" href=https://colab.research.google.com/notebooks/data_table.ipynb>data table notebook</a>'\n",
              "          + ' to learn more about interactive tables.';\n",
              "        element.innerHTML = '';\n",
              "        dataTable['output_type'] = 'display_data';\n",
              "        await google.colab.output.renderOutput(dataTable, element);\n",
              "        const docLink = document.createElement('div');\n",
              "        docLink.innerHTML = docLinkHtml;\n",
              "        element.appendChild(docLink);\n",
              "      }\n",
              "    </script>\n",
              "  </div>\n",
              "\n",
              "\n",
              "    <div id=\"df-d4aa4956-ee95-43c9-ab3a-c98a57bdea54\">\n",
              "      <button class=\"colab-df-quickchart\" onclick=\"quickchart('df-d4aa4956-ee95-43c9-ab3a-c98a57bdea54')\"\n",
              "                title=\"Suggest charts\"\n",
              "                style=\"display:none;\">\n",
              "\n",
              "<svg xmlns=\"http://www.w3.org/2000/svg\" height=\"24px\"viewBox=\"0 0 24 24\"\n",
              "     width=\"24px\">\n",
              "    <g>\n",
              "        <path d=\"M19 3H5c-1.1 0-2 .9-2 2v14c0 1.1.9 2 2 2h14c1.1 0 2-.9 2-2V5c0-1.1-.9-2-2-2zM9 17H7v-7h2v7zm4 0h-2V7h2v10zm4 0h-2v-4h2v4z\"/>\n",
              "    </g>\n",
              "</svg>\n",
              "      </button>\n",
              "\n",
              "<style>\n",
              "  .colab-df-quickchart {\n",
              "      --bg-color: #E8F0FE;\n",
              "      --fill-color: #1967D2;\n",
              "      --hover-bg-color: #E2EBFA;\n",
              "      --hover-fill-color: #174EA6;\n",
              "      --disabled-fill-color: #AAA;\n",
              "      --disabled-bg-color: #DDD;\n",
              "  }\n",
              "\n",
              "  [theme=dark] .colab-df-quickchart {\n",
              "      --bg-color: #3B4455;\n",
              "      --fill-color: #D2E3FC;\n",
              "      --hover-bg-color: #434B5C;\n",
              "      --hover-fill-color: #FFFFFF;\n",
              "      --disabled-bg-color: #3B4455;\n",
              "      --disabled-fill-color: #666;\n",
              "  }\n",
              "\n",
              "  .colab-df-quickchart {\n",
              "    background-color: var(--bg-color);\n",
              "    border: none;\n",
              "    border-radius: 50%;\n",
              "    cursor: pointer;\n",
              "    display: none;\n",
              "    fill: var(--fill-color);\n",
              "    height: 32px;\n",
              "    padding: 0;\n",
              "    width: 32px;\n",
              "  }\n",
              "\n",
              "  .colab-df-quickchart:hover {\n",
              "    background-color: var(--hover-bg-color);\n",
              "    box-shadow: 0 1px 2px rgba(60, 64, 67, 0.3), 0 1px 3px 1px rgba(60, 64, 67, 0.15);\n",
              "    fill: var(--button-hover-fill-color);\n",
              "  }\n",
              "\n",
              "  .colab-df-quickchart-complete:disabled,\n",
              "  .colab-df-quickchart-complete:disabled:hover {\n",
              "    background-color: var(--disabled-bg-color);\n",
              "    fill: var(--disabled-fill-color);\n",
              "    box-shadow: none;\n",
              "  }\n",
              "\n",
              "  .colab-df-spinner {\n",
              "    border: 2px solid var(--fill-color);\n",
              "    border-color: transparent;\n",
              "    border-bottom-color: var(--fill-color);\n",
              "    animation:\n",
              "      spin 1s steps(1) infinite;\n",
              "  }\n",
              "\n",
              "  @keyframes spin {\n",
              "    0% {\n",
              "      border-color: transparent;\n",
              "      border-bottom-color: var(--fill-color);\n",
              "      border-left-color: var(--fill-color);\n",
              "    }\n",
              "    20% {\n",
              "      border-color: transparent;\n",
              "      border-left-color: var(--fill-color);\n",
              "      border-top-color: var(--fill-color);\n",
              "    }\n",
              "    30% {\n",
              "      border-color: transparent;\n",
              "      border-left-color: var(--fill-color);\n",
              "      border-top-color: var(--fill-color);\n",
              "      border-right-color: var(--fill-color);\n",
              "    }\n",
              "    40% {\n",
              "      border-color: transparent;\n",
              "      border-right-color: var(--fill-color);\n",
              "      border-top-color: var(--fill-color);\n",
              "    }\n",
              "    60% {\n",
              "      border-color: transparent;\n",
              "      border-right-color: var(--fill-color);\n",
              "    }\n",
              "    80% {\n",
              "      border-color: transparent;\n",
              "      border-right-color: var(--fill-color);\n",
              "      border-bottom-color: var(--fill-color);\n",
              "    }\n",
              "    90% {\n",
              "      border-color: transparent;\n",
              "      border-bottom-color: var(--fill-color);\n",
              "    }\n",
              "  }\n",
              "</style>\n",
              "\n",
              "      <script>\n",
              "        async function quickchart(key) {\n",
              "          const quickchartButtonEl =\n",
              "            document.querySelector('#' + key + ' button');\n",
              "          quickchartButtonEl.disabled = true;  // To prevent multiple clicks.\n",
              "          quickchartButtonEl.classList.add('colab-df-spinner');\n",
              "          try {\n",
              "            const charts = await google.colab.kernel.invokeFunction(\n",
              "                'suggestCharts', [key], {});\n",
              "          } catch (error) {\n",
              "            console.error('Error during call to suggestCharts:', error);\n",
              "          }\n",
              "          quickchartButtonEl.classList.remove('colab-df-spinner');\n",
              "          quickchartButtonEl.classList.add('colab-df-quickchart-complete');\n",
              "        }\n",
              "        (() => {\n",
              "          let quickchartButtonEl =\n",
              "            document.querySelector('#df-d4aa4956-ee95-43c9-ab3a-c98a57bdea54 button');\n",
              "          quickchartButtonEl.style.display =\n",
              "            google.colab.kernel.accessAllowed ? 'block' : 'none';\n",
              "        })();\n",
              "      </script>\n",
              "    </div>\n",
              "\n",
              "    </div>\n",
              "  </div>\n"
            ],
            "application/vnd.google.colaboratory.intrinsic+json": {
              "type": "dataframe",
              "variable_name": "evaluation_df_post_tuning",
              "summary": "{\n  \"name\": \"evaluation_df_post_tuning\",\n  \"rows\": 99,\n  \"fields\": [\n    {\n      \"column\": \"document\",\n      \"properties\": {\n        \"dtype\": \"string\",\n        \"num_unique_values\": 99,\n        \"samples\": [\n          \"Work in a well-ventilated area in your home, and mix the bleach and water in a small container. Be careful not to use more bleach or else it could give your white shoes a yellow tinge.  Bleach works best for white fabric shoes. Wear nitrile gloves while working with bleach to prevent any skin irritation. Dip the toothbrush in your bleach solution and start scrubbing your shoes. Focus on soiled areas and deep stains, applying slight pressure to the fabric. You should notice the stains lift out of the fabric. Start with your shoes\\u2019 fabric before moving onto harder surfaces, like the soles. Wet a soft microfiber towel in clean warm water and wring it out until it\\u2019s damp. Apply gentle pressure as you wipe the towel over your shoes. You can also remove the insoles from your shoes and run your shoes under the faucet. Leave your shoes in the room to dry for at least 5-6 hours before you plan on wearing them again. Try to let them dry overnight if you can to dry completely. Put a fan in front of your shoes to speed up the drying process.\\n\\nProvide a summary of the article in two or three sentences:\\n\\n\",\n          \"Skipping sleep can aggravate any issue you might be facing. Adults need 7-8 hours of sleep a night, with as few interruptions as possible. Sleeping too much can cause lethargy and depression, while sleeping too little can damage your immune resistance, your weight, and your mental health.  If you are having trouble sleeping at night, try to build a relaxing bedtime routine. Give yourself an hour before bed to brush your teeth, change into soft pajamas, and do one restful activity, such as reading, meditating, watching a show, or listening to music. Cut down on alcohol and caffeine, and try not to nap. When a work-related or stressful thought comes to you at night, say gently to yourself \\\"It's not time to think about that. It's my bedtime.\\\" Regular exercise can make you more energetic, confident, healthy, and relaxed. Most adults should get at least 150 minutes of moderate aerobic activity or 75 minutes of vigorous aerobic activity a week. Break your exercise up into shorter increments across the week. If you don't like the gym, try going on brisk walks, taking bike rides, or attending dance or yoga classes. Cooking at home is cheaper and healthier than eating out, so teach yourself to cook the things you love, and keep a well-stocked fridge. Rather than bothering with vitamins and supplements, eat plenty of fruits and vegetables, and vary your diet. Eating a wide range of foods will help you get the nutrients your body needs. Make sure to get the protein and carbohydrates you need for energy. Eat at least three meals a day with healthy snacks in between. Treat yourself the way any human deserves to be treated: with compassion, respect, and love. Instead of being down on yourself, speak to yourself with calm attention. When negative thoughts and feelings come to you, name them. Identify the situations that bring those feelings on. Accept the feelings as they come, but analyze the beliefs behind them. If you have a negative feeling that comes often, name it and treat it like an annoying by-product of your environment. Say \\\"oh, there's body-shame again. Probably because I'm in this waiting room surrounded by magazines depicting one body type.\\\" Mindfulness means paying attention to your thoughts, senses, and feelings in the moment, without interpretation or judgment. It can relieve your anxiety, and help you relax out of a negative spiral. To practice mindfulness, pay attention to your senses. List everything you can see, smell, hear, and feel in the moment.  Try saying what you are doing when you begin to feel tense or stressed. Say \\\"I am walking up the street. I am holding my jacket closed. I am breathing.\\\" Feel the breath coming in and out of you. Notice which parts of your body rise and fall. When your mind wanders, remind yourself to pay attention to your breath.   To relax your whole body, tense and relax each muscle in turn. Know what you are earning and spending. Make sure you have enough to pay for your monthly expenses and put aside for the future. If you are spending more than you earn, see if you can reduce your expenses. Having a budget will reduce your anxiety and help you make better decisions.  Calculate what you make each month, what you are spending, and what you are spending it on. Then calculate what you can afford to spend each month. If you don't have a savings account, open one. Calculate an amount you can afford to deposit in it every month. Ways to start saving money include cooking at home, buying ingredients from scratch instead of buying processed food, taking public transportation, and not buying drinks from bars or coffee shops. One realistic way to help yourself is to recognize the value of an outside opinion. There are some situations we can't get out of on our own. If you are struggling with an addiction, mental illness, money trouble, legal trouble, or abuse, you might have trouble recovering without the knowledge and skillset of a professional.\\n\\nProvide a summary of the article in two or three sentences:\\n\\n\",\n          \"Though it may be tempting to squeeze a swollen whitehead or a prominent blackhead, squeezing, poking, and picking at them can cause the skin to become even more inflamed. This can also lead to an infection or scarring. Instead, make sure you wash the area well and apply skin care products that will work to treat and heal the blackheads or whiteheads Never use any sharp tools on your skin, even if it is advertised as a blackhead removal tool. This can lead to permanent damage to your skin that can be difficult to treat or that will require more intense skin care treatments to heal. To make sure you are removing dead skin cells from your skin, you should wash your face at least twice a day, once in the morning and once at night. Use a cleansing product that contains salicylic acid, benzoyl peroxide, and glycolic acid to remove blackheads and whiteheads effectively. If you wear makeup every day, you should always wash your face well and remove all makeup products from your face before going to bed. This will prevent a buildup of dirt and dead skin cells on your skin and ensure you do not develop any blackheads or whiteheads during the night. As part of your daily skin routine, you may consider using a toner that contains salicylic acid after you have washed your face with a cleanser. Toner, usually applied with a cotton pad, can help to remove dead skin and dirt that can lead to the development of blackheads and whiteheads. If your skin is sensitive or allergic to salicylic acid, you can talk to your dermatologist about using a toner that contains benzoyl peroxide or glycolic acid. Choose an exfoliation product that contains salicylic acid, benzoyl peroxide, or glycolic acid to help get rid of any clogged pores. Apply the exfoliator in circular motions to any areas that have blackheads and whiteheads, such as your nose, forehead and chin. Exfoliation will remove dead skin cells and encourage a newer, smoother skin surface. It will also help to prevent further breakouts and diminish blemishes and pigmentation spots from acne. Lots of commercial products can dry out your skin, especially if your skin is still trying to get used to the ingredients in the product. To prevent dryness or chapped skin, use a moisturizer that is oil-free and noncomedogenic. This will ensure the moisturizer does not clog your pores or irritate your skin. Avoid using moisturizers that are heavy in oils, such as Vaseline and mineral oils. These products will only increase the buildup of oil and debris on your skin and the development of more blackheads and whiteheads.\\n\\nProvide a summary of the article in two or three sentences:\\n\\n\"\n        ],\n        \"semantic_type\": \"\",\n        \"description\": \"\"\n      }\n    },\n    {\n      \"column\": \"summary\",\n      \"properties\": {\n        \"dtype\": \"string\",\n        \"num_unique_values\": 99,\n        \"samples\": [\n          \"Dilute 1 part of bleach with 5 parts water. Work a toothbrush in small circles to loosen stains. Wipe the bleach solution off your shoes with a damp towel. Let the shoes dry in a well-ventilated area.\",\n          \"Sleep well. Get exercise. Feed yourself well. Avoid negative self-talk. Practice mindfulness. Make a budget. Take yourself to an expert.\",\n          \"Avoid squeezing blackheads and whiteheads. Wash your face at least twice a day. Use a toner that contains salicylic acid at least twice a day. Exfoliate at least three times a week. Apply moisturizer to keep your skin from drying out.\"\n        ],\n        \"semantic_type\": \"\",\n        \"description\": \"\"\n      }\n    },\n    {\n      \"column\": \"generated_summary\",\n      \"properties\": {\n        \"dtype\": \"string\",\n        \"num_unique_values\": 99,\n        \"samples\": [\n          \"Mix 1 part bleach with 4 parts water in a small container. Wear gloves to protect your hands. Scrub the shoes with a toothbrush, focusing on stains. Wipe the entire shoe with a damp microfiber towel to remove bleach residue. Let the shoes dry completely for 5-6 hours or overnight.\",\n          \"Take care of yourself. Get enough sleep. Stay active. Eat well. Practice self-compassion. Try mindfulness. Budget your money. Don't be afraid to ask for help.\",\n          \"Do not squeeze, poke, or pick at blackheads or whiteheads. Wash your face twice a day with a cleanser containing salicylic acid, benzoyl peroxide, or glycolic acid. Use a toner with salicylic acid after cleansing. Exfoliate 1-2 times a week with a product containing salicylic acid, benzoyl peroxide, or glycolic acid. Moisturize daily with an oil-free, noncomedogenic product.\"\n        ],\n        \"semantic_type\": \"\",\n        \"description\": \"\"\n      }\n    },\n    {\n      \"column\": \"scores\",\n      \"properties\": {\n        \"dtype\": \"object\",\n        \"semantic_type\": \"\",\n        \"description\": \"\"\n      }\n    },\n    {\n      \"column\": \"rouge1_precision\",\n      \"properties\": {\n        \"dtype\": \"number\",\n        \"std\": 0.17483964050759743,\n        \"min\": 0.027777777777777776,\n        \"max\": 0.7358490566037735,\n        \"num_unique_values\": 94,\n        \"samples\": [\n          0.47058823529411764,\n          0.15980629539951574,\n          0.3142857142857143\n        ],\n        \"semantic_type\": \"\",\n        \"description\": \"\"\n      }\n    },\n    {\n      \"column\": \"rouge1_recall\",\n      \"properties\": {\n        \"dtype\": \"number\",\n        \"std\": 0.23929708865923477,\n        \"min\": 0.07142857142857142,\n        \"max\": 1.0,\n        \"num_unique_values\": 87,\n        \"samples\": [\n          0.11538461538461539,\n          0.3870967741935484,\n          0.48717948717948717\n        ],\n        \"semantic_type\": \"\",\n        \"description\": \"\"\n      }\n    },\n    {\n      \"column\": \"rouge1_fmeasure\",\n      \"properties\": {\n        \"dtype\": \"number\",\n        \"std\": 0.15298305490307623,\n        \"min\": 0.04,\n        \"max\": 0.6976744186046511,\n        \"num_unique_values\": 94,\n        \"samples\": [\n          0.273972602739726,\n          0.26865671641791045,\n          0.32967032967032966\n        ],\n        \"semantic_type\": \"\",\n        \"description\": \"\"\n      }\n    },\n    {\n      \"column\": \"rouge2_precision\",\n      \"properties\": {\n        \"dtype\": \"number\",\n        \"std\": 0.09939623150637403,\n        \"min\": 0.0,\n        \"max\": 0.4772727272727273,\n        \"num_unique_values\": 82,\n        \"samples\": [\n          0.0106951871657754,\n          0.17391304347826086,\n          0.09803921568627451\n        ],\n        \"semantic_type\": \"\",\n        \"description\": \"\"\n      }\n    },\n    {\n      \"column\": \"rouge2_recall\",\n      \"properties\": {\n        \"dtype\": \"number\",\n        \"std\": 0.15827761427057857,\n        \"min\": 0.0,\n        \"max\": 0.7333333333333333,\n        \"num_unique_values\": 73,\n        \"samples\": [\n          0.09090909090909091,\n          0.16,\n          0.06666666666666667\n        ],\n        \"semantic_type\": \"\",\n        \"description\": \"\"\n      }\n    },\n    {\n      \"column\": \"rouge2_fmeasure\",\n      \"properties\": {\n        \"dtype\": \"number\",\n        \"std\": 0.10027646972122378,\n        \"min\": 0.0,\n        \"max\": 0.5238095238095238,\n        \"num_unique_values\": 85,\n        \"samples\": [\n          0.08121827411167513,\n          0.15094339622641512,\n          0.019047619047619053\n        ],\n        \"semantic_type\": \"\",\n        \"description\": \"\"\n      }\n    },\n    {\n      \"column\": \"rougeL_precision\",\n      \"properties\": {\n        \"dtype\": \"number\",\n        \"std\": 0.12859931065682237,\n        \"min\": 0.021739130434782608,\n        \"max\": 0.5333333333333333,\n        \"num_unique_values\": 92,\n        \"samples\": [\n          0.2222222222222222,\n          0.15384615384615385,\n          0.17142857142857143\n        ],\n        \"semantic_type\": \"\",\n        \"description\": \"\"\n      }\n    },\n    {\n      \"column\": \"rougeL_recall\",\n      \"properties\": {\n        \"dtype\": \"number\",\n        \"std\": 0.20251591123358523,\n        \"min\": 0.07142857142857142,\n        \"max\": 0.8823529411764706,\n        \"num_unique_values\": 86,\n        \"samples\": [\n          0.55,\n          0.25806451612903225,\n          0.38461538461538464\n        ],\n        \"semantic_type\": \"\",\n        \"description\": \"\"\n      }\n    },\n    {\n      \"column\": \"rougeL_fmeasure\",\n      \"properties\": {\n        \"dtype\": \"number\",\n        \"std\": 0.11688638380598355,\n        \"min\": 0.04,\n        \"max\": 0.5581395348837209,\n        \"num_unique_values\": 91,\n        \"samples\": [\n          0.10691823899371068,\n          0.2388059701492537,\n          0.34146341463414637\n        ],\n        \"semantic_type\": \"\",\n        \"description\": \"\"\n      }\n    }\n  ]\n}"
            }
          },
          "metadata": {},
          "execution_count": 59
        }
      ],
      "source": [
        "evaluation_df_post_tuning.head()"
      ]
    },
    {
      "cell_type": "code",
      "execution_count": 60,
      "metadata": {
        "id": "xDJrlD8O0B4d"
      },
      "outputs": [],
      "source": [
        "evaluation_df_post_tuning_stats = evaluation_df_post_tuning.dropna().describe()"
      ]
    },
    {
      "cell_type": "code",
      "execution_count": 61,
      "metadata": {
        "id": "c24-mE12y4Nm",
        "colab": {
          "base_uri": "https://localhost:8080/",
          "height": 300
        },
        "outputId": "86c7f3e3-a777-447d-86b9-17669bc04ff6"
      },
      "outputs": [
        {
          "output_type": "execute_result",
          "data": {
            "text/plain": [
              "       rouge1_precision  rouge1_recall  rouge1_fmeasure  rouge2_precision  \\\n",
              "count         99.000000      99.000000        99.000000         99.000000   \n",
              "mean           0.254721       0.527332         0.286972          0.083983   \n",
              "std            0.174840       0.239297         0.152983          0.099396   \n",
              "min            0.027778       0.071429         0.040000          0.000000   \n",
              "25%            0.110354       0.329710         0.163265          0.022938   \n",
              "50%            0.210526       0.521739         0.262295          0.049669   \n",
              "75%            0.336310       0.714286         0.372829          0.106838   \n",
              "max            0.735849       1.000000         0.697674          0.477273   \n",
              "\n",
              "       rouge2_recall  rouge2_fmeasure  rougeL_precision  rougeL_recall  \\\n",
              "count      99.000000        99.000000         99.000000      99.000000   \n",
              "mean        0.175924         0.093930          0.183487       0.390721   \n",
              "std         0.158278         0.100276          0.128599       0.202516   \n",
              "min         0.000000         0.000000          0.021739       0.071429   \n",
              "25%         0.052632         0.029010          0.081435       0.218254   \n",
              "50%         0.130435         0.073171          0.161290       0.363636   \n",
              "75%         0.262500         0.118680          0.250000       0.551316   \n",
              "max         0.733333         0.523810          0.533333       0.882353   \n",
              "\n",
              "       rougeL_fmeasure  \n",
              "count        99.000000  \n",
              "mean          0.208351  \n",
              "std           0.116886  \n",
              "min           0.040000  \n",
              "25%           0.119924  \n",
              "50%           0.190476  \n",
              "75%           0.265570  \n",
              "max           0.558140  "
            ],
            "text/html": [
              "\n",
              "  <div id=\"df-5ff9eff6-9c4d-42df-916d-3b47142239cc\" class=\"colab-df-container\">\n",
              "    <div>\n",
              "<style scoped>\n",
              "    .dataframe tbody tr th:only-of-type {\n",
              "        vertical-align: middle;\n",
              "    }\n",
              "\n",
              "    .dataframe tbody tr th {\n",
              "        vertical-align: top;\n",
              "    }\n",
              "\n",
              "    .dataframe thead th {\n",
              "        text-align: right;\n",
              "    }\n",
              "</style>\n",
              "<table border=\"1\" class=\"dataframe\">\n",
              "  <thead>\n",
              "    <tr style=\"text-align: right;\">\n",
              "      <th></th>\n",
              "      <th>rouge1_precision</th>\n",
              "      <th>rouge1_recall</th>\n",
              "      <th>rouge1_fmeasure</th>\n",
              "      <th>rouge2_precision</th>\n",
              "      <th>rouge2_recall</th>\n",
              "      <th>rouge2_fmeasure</th>\n",
              "      <th>rougeL_precision</th>\n",
              "      <th>rougeL_recall</th>\n",
              "      <th>rougeL_fmeasure</th>\n",
              "    </tr>\n",
              "  </thead>\n",
              "  <tbody>\n",
              "    <tr>\n",
              "      <th>count</th>\n",
              "      <td>99.000000</td>\n",
              "      <td>99.000000</td>\n",
              "      <td>99.000000</td>\n",
              "      <td>99.000000</td>\n",
              "      <td>99.000000</td>\n",
              "      <td>99.000000</td>\n",
              "      <td>99.000000</td>\n",
              "      <td>99.000000</td>\n",
              "      <td>99.000000</td>\n",
              "    </tr>\n",
              "    <tr>\n",
              "      <th>mean</th>\n",
              "      <td>0.254721</td>\n",
              "      <td>0.527332</td>\n",
              "      <td>0.286972</td>\n",
              "      <td>0.083983</td>\n",
              "      <td>0.175924</td>\n",
              "      <td>0.093930</td>\n",
              "      <td>0.183487</td>\n",
              "      <td>0.390721</td>\n",
              "      <td>0.208351</td>\n",
              "    </tr>\n",
              "    <tr>\n",
              "      <th>std</th>\n",
              "      <td>0.174840</td>\n",
              "      <td>0.239297</td>\n",
              "      <td>0.152983</td>\n",
              "      <td>0.099396</td>\n",
              "      <td>0.158278</td>\n",
              "      <td>0.100276</td>\n",
              "      <td>0.128599</td>\n",
              "      <td>0.202516</td>\n",
              "      <td>0.116886</td>\n",
              "    </tr>\n",
              "    <tr>\n",
              "      <th>min</th>\n",
              "      <td>0.027778</td>\n",
              "      <td>0.071429</td>\n",
              "      <td>0.040000</td>\n",
              "      <td>0.000000</td>\n",
              "      <td>0.000000</td>\n",
              "      <td>0.000000</td>\n",
              "      <td>0.021739</td>\n",
              "      <td>0.071429</td>\n",
              "      <td>0.040000</td>\n",
              "    </tr>\n",
              "    <tr>\n",
              "      <th>25%</th>\n",
              "      <td>0.110354</td>\n",
              "      <td>0.329710</td>\n",
              "      <td>0.163265</td>\n",
              "      <td>0.022938</td>\n",
              "      <td>0.052632</td>\n",
              "      <td>0.029010</td>\n",
              "      <td>0.081435</td>\n",
              "      <td>0.218254</td>\n",
              "      <td>0.119924</td>\n",
              "    </tr>\n",
              "    <tr>\n",
              "      <th>50%</th>\n",
              "      <td>0.210526</td>\n",
              "      <td>0.521739</td>\n",
              "      <td>0.262295</td>\n",
              "      <td>0.049669</td>\n",
              "      <td>0.130435</td>\n",
              "      <td>0.073171</td>\n",
              "      <td>0.161290</td>\n",
              "      <td>0.363636</td>\n",
              "      <td>0.190476</td>\n",
              "    </tr>\n",
              "    <tr>\n",
              "      <th>75%</th>\n",
              "      <td>0.336310</td>\n",
              "      <td>0.714286</td>\n",
              "      <td>0.372829</td>\n",
              "      <td>0.106838</td>\n",
              "      <td>0.262500</td>\n",
              "      <td>0.118680</td>\n",
              "      <td>0.250000</td>\n",
              "      <td>0.551316</td>\n",
              "      <td>0.265570</td>\n",
              "    </tr>\n",
              "    <tr>\n",
              "      <th>max</th>\n",
              "      <td>0.735849</td>\n",
              "      <td>1.000000</td>\n",
              "      <td>0.697674</td>\n",
              "      <td>0.477273</td>\n",
              "      <td>0.733333</td>\n",
              "      <td>0.523810</td>\n",
              "      <td>0.533333</td>\n",
              "      <td>0.882353</td>\n",
              "      <td>0.558140</td>\n",
              "    </tr>\n",
              "  </tbody>\n",
              "</table>\n",
              "</div>\n",
              "    <div class=\"colab-df-buttons\">\n",
              "\n",
              "  <div class=\"colab-df-container\">\n",
              "    <button class=\"colab-df-convert\" onclick=\"convertToInteractive('df-5ff9eff6-9c4d-42df-916d-3b47142239cc')\"\n",
              "            title=\"Convert this dataframe to an interactive table.\"\n",
              "            style=\"display:none;\">\n",
              "\n",
              "  <svg xmlns=\"http://www.w3.org/2000/svg\" height=\"24px\" viewBox=\"0 -960 960 960\">\n",
              "    <path d=\"M120-120v-720h720v720H120Zm60-500h600v-160H180v160Zm220 220h160v-160H400v160Zm0 220h160v-160H400v160ZM180-400h160v-160H180v160Zm440 0h160v-160H620v160ZM180-180h160v-160H180v160Zm440 0h160v-160H620v160Z\"/>\n",
              "  </svg>\n",
              "    </button>\n",
              "\n",
              "  <style>\n",
              "    .colab-df-container {\n",
              "      display:flex;\n",
              "      gap: 12px;\n",
              "    }\n",
              "\n",
              "    .colab-df-convert {\n",
              "      background-color: #E8F0FE;\n",
              "      border: none;\n",
              "      border-radius: 50%;\n",
              "      cursor: pointer;\n",
              "      display: none;\n",
              "      fill: #1967D2;\n",
              "      height: 32px;\n",
              "      padding: 0 0 0 0;\n",
              "      width: 32px;\n",
              "    }\n",
              "\n",
              "    .colab-df-convert:hover {\n",
              "      background-color: #E2EBFA;\n",
              "      box-shadow: 0px 1px 2px rgba(60, 64, 67, 0.3), 0px 1px 3px 1px rgba(60, 64, 67, 0.15);\n",
              "      fill: #174EA6;\n",
              "    }\n",
              "\n",
              "    .colab-df-buttons div {\n",
              "      margin-bottom: 4px;\n",
              "    }\n",
              "\n",
              "    [theme=dark] .colab-df-convert {\n",
              "      background-color: #3B4455;\n",
              "      fill: #D2E3FC;\n",
              "    }\n",
              "\n",
              "    [theme=dark] .colab-df-convert:hover {\n",
              "      background-color: #434B5C;\n",
              "      box-shadow: 0px 1px 3px 1px rgba(0, 0, 0, 0.15);\n",
              "      filter: drop-shadow(0px 1px 2px rgba(0, 0, 0, 0.3));\n",
              "      fill: #FFFFFF;\n",
              "    }\n",
              "  </style>\n",
              "\n",
              "    <script>\n",
              "      const buttonEl =\n",
              "        document.querySelector('#df-5ff9eff6-9c4d-42df-916d-3b47142239cc button.colab-df-convert');\n",
              "      buttonEl.style.display =\n",
              "        google.colab.kernel.accessAllowed ? 'block' : 'none';\n",
              "\n",
              "      async function convertToInteractive(key) {\n",
              "        const element = document.querySelector('#df-5ff9eff6-9c4d-42df-916d-3b47142239cc');\n",
              "        const dataTable =\n",
              "          await google.colab.kernel.invokeFunction('convertToInteractive',\n",
              "                                                    [key], {});\n",
              "        if (!dataTable) return;\n",
              "\n",
              "        const docLinkHtml = 'Like what you see? Visit the ' +\n",
              "          '<a target=\"_blank\" href=https://colab.research.google.com/notebooks/data_table.ipynb>data table notebook</a>'\n",
              "          + ' to learn more about interactive tables.';\n",
              "        element.innerHTML = '';\n",
              "        dataTable['output_type'] = 'display_data';\n",
              "        await google.colab.output.renderOutput(dataTable, element);\n",
              "        const docLink = document.createElement('div');\n",
              "        docLink.innerHTML = docLinkHtml;\n",
              "        element.appendChild(docLink);\n",
              "      }\n",
              "    </script>\n",
              "  </div>\n",
              "\n",
              "\n",
              "    <div id=\"df-cca1933a-5043-41c7-b10c-1b959d0cdd66\">\n",
              "      <button class=\"colab-df-quickchart\" onclick=\"quickchart('df-cca1933a-5043-41c7-b10c-1b959d0cdd66')\"\n",
              "                title=\"Suggest charts\"\n",
              "                style=\"display:none;\">\n",
              "\n",
              "<svg xmlns=\"http://www.w3.org/2000/svg\" height=\"24px\"viewBox=\"0 0 24 24\"\n",
              "     width=\"24px\">\n",
              "    <g>\n",
              "        <path d=\"M19 3H5c-1.1 0-2 .9-2 2v14c0 1.1.9 2 2 2h14c1.1 0 2-.9 2-2V5c0-1.1-.9-2-2-2zM9 17H7v-7h2v7zm4 0h-2V7h2v10zm4 0h-2v-4h2v4z\"/>\n",
              "    </g>\n",
              "</svg>\n",
              "      </button>\n",
              "\n",
              "<style>\n",
              "  .colab-df-quickchart {\n",
              "      --bg-color: #E8F0FE;\n",
              "      --fill-color: #1967D2;\n",
              "      --hover-bg-color: #E2EBFA;\n",
              "      --hover-fill-color: #174EA6;\n",
              "      --disabled-fill-color: #AAA;\n",
              "      --disabled-bg-color: #DDD;\n",
              "  }\n",
              "\n",
              "  [theme=dark] .colab-df-quickchart {\n",
              "      --bg-color: #3B4455;\n",
              "      --fill-color: #D2E3FC;\n",
              "      --hover-bg-color: #434B5C;\n",
              "      --hover-fill-color: #FFFFFF;\n",
              "      --disabled-bg-color: #3B4455;\n",
              "      --disabled-fill-color: #666;\n",
              "  }\n",
              "\n",
              "  .colab-df-quickchart {\n",
              "    background-color: var(--bg-color);\n",
              "    border: none;\n",
              "    border-radius: 50%;\n",
              "    cursor: pointer;\n",
              "    display: none;\n",
              "    fill: var(--fill-color);\n",
              "    height: 32px;\n",
              "    padding: 0;\n",
              "    width: 32px;\n",
              "  }\n",
              "\n",
              "  .colab-df-quickchart:hover {\n",
              "    background-color: var(--hover-bg-color);\n",
              "    box-shadow: 0 1px 2px rgba(60, 64, 67, 0.3), 0 1px 3px 1px rgba(60, 64, 67, 0.15);\n",
              "    fill: var(--button-hover-fill-color);\n",
              "  }\n",
              "\n",
              "  .colab-df-quickchart-complete:disabled,\n",
              "  .colab-df-quickchart-complete:disabled:hover {\n",
              "    background-color: var(--disabled-bg-color);\n",
              "    fill: var(--disabled-fill-color);\n",
              "    box-shadow: none;\n",
              "  }\n",
              "\n",
              "  .colab-df-spinner {\n",
              "    border: 2px solid var(--fill-color);\n",
              "    border-color: transparent;\n",
              "    border-bottom-color: var(--fill-color);\n",
              "    animation:\n",
              "      spin 1s steps(1) infinite;\n",
              "  }\n",
              "\n",
              "  @keyframes spin {\n",
              "    0% {\n",
              "      border-color: transparent;\n",
              "      border-bottom-color: var(--fill-color);\n",
              "      border-left-color: var(--fill-color);\n",
              "    }\n",
              "    20% {\n",
              "      border-color: transparent;\n",
              "      border-left-color: var(--fill-color);\n",
              "      border-top-color: var(--fill-color);\n",
              "    }\n",
              "    30% {\n",
              "      border-color: transparent;\n",
              "      border-left-color: var(--fill-color);\n",
              "      border-top-color: var(--fill-color);\n",
              "      border-right-color: var(--fill-color);\n",
              "    }\n",
              "    40% {\n",
              "      border-color: transparent;\n",
              "      border-right-color: var(--fill-color);\n",
              "      border-top-color: var(--fill-color);\n",
              "    }\n",
              "    60% {\n",
              "      border-color: transparent;\n",
              "      border-right-color: var(--fill-color);\n",
              "    }\n",
              "    80% {\n",
              "      border-color: transparent;\n",
              "      border-right-color: var(--fill-color);\n",
              "      border-bottom-color: var(--fill-color);\n",
              "    }\n",
              "    90% {\n",
              "      border-color: transparent;\n",
              "      border-bottom-color: var(--fill-color);\n",
              "    }\n",
              "  }\n",
              "</style>\n",
              "\n",
              "      <script>\n",
              "        async function quickchart(key) {\n",
              "          const quickchartButtonEl =\n",
              "            document.querySelector('#' + key + ' button');\n",
              "          quickchartButtonEl.disabled = true;  // To prevent multiple clicks.\n",
              "          quickchartButtonEl.classList.add('colab-df-spinner');\n",
              "          try {\n",
              "            const charts = await google.colab.kernel.invokeFunction(\n",
              "                'suggestCharts', [key], {});\n",
              "          } catch (error) {\n",
              "            console.error('Error during call to suggestCharts:', error);\n",
              "          }\n",
              "          quickchartButtonEl.classList.remove('colab-df-spinner');\n",
              "          quickchartButtonEl.classList.add('colab-df-quickchart-complete');\n",
              "        }\n",
              "        (() => {\n",
              "          let quickchartButtonEl =\n",
              "            document.querySelector('#df-cca1933a-5043-41c7-b10c-1b959d0cdd66 button');\n",
              "          quickchartButtonEl.style.display =\n",
              "            google.colab.kernel.accessAllowed ? 'block' : 'none';\n",
              "        })();\n",
              "      </script>\n",
              "    </div>\n",
              "\n",
              "  <div id=\"id_8216e637-a2a8-41e8-a32c-50103e4b6af8\">\n",
              "    <style>\n",
              "      .colab-df-generate {\n",
              "        background-color: #E8F0FE;\n",
              "        border: none;\n",
              "        border-radius: 50%;\n",
              "        cursor: pointer;\n",
              "        display: none;\n",
              "        fill: #1967D2;\n",
              "        height: 32px;\n",
              "        padding: 0 0 0 0;\n",
              "        width: 32px;\n",
              "      }\n",
              "\n",
              "      .colab-df-generate:hover {\n",
              "        background-color: #E2EBFA;\n",
              "        box-shadow: 0px 1px 2px rgba(60, 64, 67, 0.3), 0px 1px 3px 1px rgba(60, 64, 67, 0.15);\n",
              "        fill: #174EA6;\n",
              "      }\n",
              "\n",
              "      [theme=dark] .colab-df-generate {\n",
              "        background-color: #3B4455;\n",
              "        fill: #D2E3FC;\n",
              "      }\n",
              "\n",
              "      [theme=dark] .colab-df-generate:hover {\n",
              "        background-color: #434B5C;\n",
              "        box-shadow: 0px 1px 3px 1px rgba(0, 0, 0, 0.15);\n",
              "        filter: drop-shadow(0px 1px 2px rgba(0, 0, 0, 0.3));\n",
              "        fill: #FFFFFF;\n",
              "      }\n",
              "    </style>\n",
              "    <button class=\"colab-df-generate\" onclick=\"generateWithVariable('evaluation_df_post_tuning_stats')\"\n",
              "            title=\"Generate code using this dataframe.\"\n",
              "            style=\"display:none;\">\n",
              "\n",
              "  <svg xmlns=\"http://www.w3.org/2000/svg\" height=\"24px\"viewBox=\"0 0 24 24\"\n",
              "       width=\"24px\">\n",
              "    <path d=\"M7,19H8.4L18.45,9,17,7.55,7,17.6ZM5,21V16.75L18.45,3.32a2,2,0,0,1,2.83,0l1.4,1.43a1.91,1.91,0,0,1,.58,1.4,1.91,1.91,0,0,1-.58,1.4L9.25,21ZM18.45,9,17,7.55Zm-12,3A5.31,5.31,0,0,0,4.9,8.1,5.31,5.31,0,0,0,1,6.5,5.31,5.31,0,0,0,4.9,4.9,5.31,5.31,0,0,0,6.5,1,5.31,5.31,0,0,0,8.1,4.9,5.31,5.31,0,0,0,12,6.5,5.46,5.46,0,0,0,6.5,12Z\"/>\n",
              "  </svg>\n",
              "    </button>\n",
              "    <script>\n",
              "      (() => {\n",
              "      const buttonEl =\n",
              "        document.querySelector('#id_8216e637-a2a8-41e8-a32c-50103e4b6af8 button.colab-df-generate');\n",
              "      buttonEl.style.display =\n",
              "        google.colab.kernel.accessAllowed ? 'block' : 'none';\n",
              "\n",
              "      buttonEl.onclick = () => {\n",
              "        google.colab.notebook.generateWithVariable('evaluation_df_post_tuning_stats');\n",
              "      }\n",
              "      })();\n",
              "    </script>\n",
              "  </div>\n",
              "\n",
              "    </div>\n",
              "  </div>\n"
            ],
            "application/vnd.google.colaboratory.intrinsic+json": {
              "type": "dataframe",
              "variable_name": "evaluation_df_post_tuning_stats",
              "summary": "{\n  \"name\": \"evaluation_df_post_tuning_stats\",\n  \"rows\": 8,\n  \"fields\": [\n    {\n      \"column\": \"rouge1_precision\",\n      \"properties\": {\n        \"dtype\": \"number\",\n        \"std\": 34.908978491029856,\n        \"min\": 0.027777777777777776,\n        \"max\": 99.0,\n        \"num_unique_values\": 8,\n        \"samples\": [\n          0.2547213259296954,\n          0.21052631578947367,\n          99.0\n        ],\n        \"semantic_type\": \"\",\n        \"description\": \"\"\n      }\n    },\n    {\n      \"column\": \"rouge1_recall\",\n      \"properties\": {\n        \"dtype\": \"number\",\n        \"std\": 34.831050343948085,\n        \"min\": 0.07142857142857142,\n        \"max\": 99.0,\n        \"num_unique_values\": 8,\n        \"samples\": [\n          0.5273319465265078,\n          0.5217391304347826,\n          99.0\n        ],\n        \"semantic_type\": \"\",\n        \"description\": \"\"\n      }\n    },\n    {\n      \"column\": \"rouge1_fmeasure\",\n      \"properties\": {\n        \"dtype\": \"number\",\n        \"std\": 34.902535714695944,\n        \"min\": 0.04,\n        \"max\": 99.0,\n        \"num_unique_values\": 8,\n        \"samples\": [\n          0.2869723439534291,\n          0.2622950819672131,\n          99.0\n        ],\n        \"semantic_type\": \"\",\n        \"description\": \"\"\n      }\n    },\n    {\n      \"column\": \"rouge2_precision\",\n      \"properties\": {\n        \"dtype\": \"number\",\n        \"std\": 34.959677846890095,\n        \"min\": 0.0,\n        \"max\": 99.0,\n        \"num_unique_values\": 8,\n        \"samples\": [\n          0.08398313722141741,\n          0.04966887417218543,\n          99.0\n        ],\n        \"semantic_type\": \"\",\n        \"description\": \"\"\n      }\n    },\n    {\n      \"column\": \"rouge2_recall\",\n      \"properties\": {\n        \"dtype\": \"number\",\n        \"std\": 34.92608938457293,\n        \"min\": 0.0,\n        \"max\": 99.0,\n        \"num_unique_values\": 8,\n        \"samples\": [\n          0.17592354222303508,\n          0.13043478260869565,\n          99.0\n        ],\n        \"semantic_type\": \"\",\n        \"description\": \"\"\n      }\n    },\n    {\n      \"column\": \"rouge2_fmeasure\",\n      \"properties\": {\n        \"dtype\": \"number\",\n        \"std\": 34.95474863247596,\n        \"min\": 0.0,\n        \"max\": 99.0,\n        \"num_unique_values\": 8,\n        \"samples\": [\n          0.09392979046319692,\n          0.07317073170731708,\n          99.0\n        ],\n        \"semantic_type\": \"\",\n        \"description\": \"\"\n      }\n    },\n    {\n      \"column\": \"rougeL_precision\",\n      \"properties\": {\n        \"dtype\": \"number\",\n        \"std\": 34.93344074992366,\n        \"min\": 0.021739130434782608,\n        \"max\": 99.0,\n        \"num_unique_values\": 8,\n        \"samples\": [\n          0.18348717813345636,\n          0.16129032258064516,\n          99.0\n        ],\n        \"semantic_type\": \"\",\n        \"description\": \"\"\n      }\n    },\n    {\n      \"column\": \"rougeL_recall\",\n      \"properties\": {\n        \"dtype\": \"number\",\n        \"std\": 34.86730484484772,\n        \"min\": 0.07142857142857142,\n        \"max\": 99.0,\n        \"num_unique_values\": 8,\n        \"samples\": [\n          0.3907210688739339,\n          0.36363636363636365,\n          99.0\n        ],\n        \"semantic_type\": \"\",\n        \"description\": \"\"\n      }\n    },\n    {\n      \"column\": \"rougeL_fmeasure\",\n      \"properties\": {\n        \"dtype\": \"number\",\n        \"std\": 34.92640536653666,\n        \"min\": 0.04,\n        \"max\": 99.0,\n        \"num_unique_values\": 8,\n        \"samples\": [\n          0.2083507152667494,\n          0.19047619047619047,\n          99.0\n        ],\n        \"semantic_type\": \"\",\n        \"description\": \"\"\n      }\n    }\n  ]\n}"
            }
          },
          "metadata": {},
          "execution_count": 61
        }
      ],
      "source": [
        "# Statistics of the evaluation dataframe post model tuning.\n",
        "evaluation_df_post_tuning_stats"
      ]
    },
    {
      "cell_type": "code",
      "execution_count": 64,
      "metadata": {
        "id": "9VU-8Ql2bqlo",
        "colab": {
          "base_uri": "https://localhost:8080/"
        },
        "outputId": "3b55453e-1159-4b79-d459-6727258a1190"
      },
      "outputs": [
        {
          "output_type": "stream",
          "name": "stdout",
          "text": [
            "Mean rougeL_precision is 0.18348717813345636\n"
          ]
        }
      ],
      "source": [
        "print(\n",
        "    \"Mean rougeL_precision is\", evaluation_df_post_tuning_stats.rougeL_precision[\"mean\"]\n",
        ")"
      ]
    },
    {
      "cell_type": "markdown",
      "metadata": {
        "id": "4Q8hN7SE08-X"
      },
      "source": [
        "#### Improvement"
      ]
    },
    {
      "cell_type": "code",
      "execution_count": 65,
      "metadata": {
        "id": "j0ctGzdnznYO",
        "colab": {
          "base_uri": "https://localhost:8080/"
        },
        "outputId": "92c0adbc-fe7f-44ab-b4ca-4c143d0ff9a0"
      },
      "outputs": [
        {
          "output_type": "stream",
          "name": "stdout",
          "text": [
            "Model tuning has improved the rougeL_precision by -24.52% (result might differ based on each tuning iteration)\n"
          ]
        }
      ],
      "source": [
        "improvement = round(\n",
        "    (\n",
        "        (\n",
        "            evaluation_df_post_tuning_stats.rougeL_precision[\"mean\"]\n",
        "            - evaluation_df_stats.rougeL_precision[\"mean\"]\n",
        "        )\n",
        "        / evaluation_df_stats.rougeL_precision[\"mean\"]\n",
        "    )\n",
        "    * 100,\n",
        "    2,\n",
        ")\n",
        "print(\n",
        "    f\"Model tuning has improved the rougeL_precision by {improvement}% (result might differ based on each tuning iteration)\"\n",
        ")"
      ]
    },
    {
      "cell_type": "markdown",
      "metadata": {
        "id": "LQkpAMnpw-jH"
      },
      "source": [
        "## Conclusion"
      ]
    },
    {
      "cell_type": "markdown",
      "metadata": {
        "id": "Esra6YPgxBiV"
      },
      "source": [
        "Performance could be further improved:\n",
        "- By adding more training samples. In general, improve your training data quality and/or quantity towards getting a more diverse and comprehensive dataset for your task\n",
        "- By tuning the hyperparameters, such as epochs and learning rate multiplier\n",
        "  - To find the optimal number of epochs for your dataset, we recommend experimenting with different values. While increasing epochs can lead to better performance, it's important to be mindful of overfitting, especially with smaller datasets. If you see signs of overfitting, reducing the number of epochs can help mitigate the issue\n",
        "- You may try different prompt structures/formats and opt for the one with better performance"
      ]
    },
    {
      "cell_type": "markdown",
      "metadata": {
        "id": "3e6fd3649040"
      },
      "source": [
        "## Cleaning up"
      ]
    },
    {
      "cell_type": "markdown",
      "metadata": {
        "id": "5528064b2cdf"
      },
      "source": [
        "To clean up all Google Cloud resources used in this project, you can [delete the Google Cloud\n",
        "project](https://cloud.google.com/resource-manager/docs/creating-managing-projects#shutting_down_projects) you used for the tutorial.\n",
        "\n",
        "\n",
        "Otherwise, you can delete the individual resources you created in this tutorial.\n",
        "\n",
        "Refer to this [instructions](https://cloud.google.com/vertex-ai/docs/tutorials/image-classification-custom/cleanup#delete_resources) to delete the resources from console."
      ]
    },
    {
      "cell_type": "code",
      "execution_count": null,
      "metadata": {
        "id": "c4dd0f5d2a21"
      },
      "outputs": [],
      "source": [
        "# Delete Experiment.\n",
        "delete_experiments = True\n",
        "if delete_experiments:\n",
        "    experiments_list = aiplatform.Experiment.list()\n",
        "    for experiment in experiments_list:\n",
        "        if experiment.resource_name == experiment_name:\n",
        "            print(experiment.resource_name)\n",
        "            experiment.delete()\n",
        "            break\n",
        "\n",
        "print(\"***\" * 10)\n",
        "\n",
        "# Delete Endpoint.\n",
        "delete_endpoint = True\n",
        "# If force is set to True, all deployed models on this\n",
        "# Endpoint will be first undeployed.\n",
        "if delete_endpoint:\n",
        "    for endpoint in aiplatform.Endpoint.list():\n",
        "        if endpoint.resource_name == tuned_model:\n",
        "            print(endpoint.resource_name)\n",
        "            endpoint.delete(force=True)\n",
        "            break\n",
        "\n",
        "print(\"***\" * 10)\n",
        "\n",
        "# Delete Cloud Storage Bucket.\n",
        "delete_bucket = True\n",
        "if delete_bucket:\n",
        "    ! gsutil -m rm -r $BUCKET_URI"
      ]
    }
  ],
  "metadata": {
    "colab": {
      "name": "sft_gemini_summarization.ipynb",
      "provenance": []
    },
    "kernelspec": {
      "display_name": "Python 3",
      "name": "python3"
    }
  },
  "nbformat": 4,
  "nbformat_minor": 0
}